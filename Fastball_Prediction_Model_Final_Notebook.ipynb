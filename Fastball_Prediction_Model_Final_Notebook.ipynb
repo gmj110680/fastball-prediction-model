{
 "cells": [
  {
   "cell_type": "markdown",
   "metadata": {},
   "source": [
    "## Major League Baseball Fastball Prediction Model\n",
    "\n",
    "by Greg Jacobs (jacobs.greg@gmail.com)"
   ]
  },
  {
   "cell_type": "markdown",
   "metadata": {},
   "source": [
    "Strategy in Major League Baseball is ever-involving.  With hitters increasingly focused on launch angles and elevating the ball, it is unsurprising that teams are becoming more reliant on home runs to score. In fact, in 2019 the teams collectively hit an eye-popping 6,776 home runs, which is roughly a 10% increase over the previous record of 6,105 home runs hit in 2017.  (Data compiled and published by Baseball Almanac at https://www.baseball-almanac.com/hitting/hihr6.shtml).  This trend is very likely to continue in the coming seasons.\n",
    "\n",
    "It also is generally-accepted that fastballs are particularly ripe for batters to hit for home runs given their increased velocity and lack of movement relative to other pitch types.  Indeed, Fantasy Labs, a website focused on providing strategic advice to fantasy sports players, noted that fastballs were the most common pitch type to be hit for home runs.  (https://www.fantasylabs.com/articles/home-run-trends-part-3-pitch-type/).   And simple common sense dictates that a batter will have an even greater chance of hitting a home if he knows that the pitcher is going to throw a fastball - one only needs to watch batting practice or the home run derby to see this confirmed.\n",
    "\n",
    "The goal of this project is to build a model that attempts to accurately predict when a pitcher will throw a fastball. The targeted clients for this model are professional, semi-professional, and collegiate baseball teams, including the players, managers, and other personnel.  The organizations could use this data to inform their batters to anticipate fastballs under certain circumstances, which in turn should lead to the team hitting more home runs. Conversely, organizations could use this information to inform their pitchers as to when fastballs are most often thrown and coach the pitchers to throw a different pitch under those circumstances.  Professional sports gamblers could also use the model to inform their wagers.  These are just a handful of what is likely many uses for an accurate fastball prediction model.\n"
   ]
  },
  {
   "cell_type": "markdown",
   "metadata": {},
   "source": [
    "## The Datasets\n",
    "\n",
    "This project uses the MLB Pitch Data 2015-2018 dataset that is publicly-available on Kaggle at (https://www.kaggle.com/pschale/mlb-pitch-data-20152018).  I have chosen to build my model using two .csv files from that dataset.  The first file, `pitches.csv`, charts various data for each pitch thrown during each of the four seasons from 2015 through 2018.  The second file, `atbats.csv`, contains various static data for each at-bat from each of the four seasons from 2015 through 2018.  The two files have the following dimensions:\n",
    "\n",
    " `pitches.csv` == 2,870,000 x 40\n",
    " `atbats.csv` == 740,000 by 11\n",
    "\n",
    "One of the categorical variables in the `pitches` file, `pitch_type`, classifies the pitch type for each pitch thrown.  The variable contains over fifteen distinct labels, including `FF` for a four-seam fastball, `FT` for a two-seam fastball, and `FC` for a cut-fastball.  The dataset also has a label for split-fingered fastballs, but we will treat that category as a non-fastball for the purpose of this project because the pitch operates and is used more similarly to other breaking balls (such as a sinker).  I will be able to use these labels to create a new binary variable to classify each of these three types of fastballs as a `fastballs` and the remaining categories of pitches as `non-fastballs`, which will become the target of my analysis.\n"
   ]
  },
  {
   "cell_type": "markdown",
   "metadata": {},
   "source": [
    "## Data Cleaning/Wrangling\n",
    "\n",
    "The data in its original form was in pretty good shape given that it came from Kaggle.  That being said, I still needed to perform some cleaning and wrangling on the respective files in order to prepare the data for analysis."
   ]
  },
  {
   "cell_type": "markdown",
   "metadata": {},
   "source": [
    "### Step 1 - Merging the Datasets\n",
    "\n",
    "I first combined the two `.csv` files into one dataset. The two `.csv` files were merged (using `pd.merge()`) on the common `ab_id` column, which provided a unique numeric identifier for each at-bat in the `atbats` file and each pitch thrown during each at-bat in the `pitches` file.\n",
    "\n",
    "Using the `nunique()` method in pandas, I was able to determine that the `pitches.csv` dataset has data recorded from 740,241 unique at-bats whereas the `atbats.csv` has data recorded from 740,389 unique at-bats.  Because the `pitches.csv` file is the dataset with the `pitch_type` variable that is the focus of this analysis, I decided to left-join the `atbats.csv` dataset to the `pitches.csv` so that the extra at-bats in the `atbats.csv` file would drop out.  Given the large volume of data in the `pitches.csv` data file (approximately 2.87 million unique pitches), I was comfortable only joining the corresponding at-bats from the `atbats.csv` file.\n",
    "\n",
    "Once merged, the resulting dataframe has a dimension of (2867154, 50).\n"
   ]
  },
  {
   "cell_type": "code",
   "execution_count": 1,
   "metadata": {},
   "outputs": [],
   "source": [
    "# import needed packages\n",
    "import pandas as pd\n",
    "import numpy as np\n",
    "pd.options.display.max_columns = 500"
   ]
  },
  {
   "cell_type": "code",
   "execution_count": 2,
   "metadata": {},
   "outputs": [
    {
     "data": {
      "text/plain": [
       "740241"
      ]
     },
     "execution_count": 2,
     "metadata": {},
     "output_type": "execute_result"
    }
   ],
   "source": [
    "# import the pitches dataset and isolate relevant columns\n",
    "df_pitches = pd.read_csv('pitches.csv')\n",
    "\n",
    "# count the number of unique at-bats in the dataset\n",
    "df_pitches['ab_id'].nunique()"
   ]
  },
  {
   "cell_type": "code",
   "execution_count": 3,
   "metadata": {},
   "outputs": [
    {
     "data": {
      "text/plain": [
       "740389"
      ]
     },
     "execution_count": 3,
     "metadata": {},
     "output_type": "execute_result"
    }
   ],
   "source": [
    "# import the at-bats dataset and isolate relevant columns\n",
    "df_atbats = pd.read_csv('atbats.csv')\n",
    "\n",
    "# count the number of unique at-bats in the dataset\n",
    "df_atbats['ab_id'].nunique()"
   ]
  },
  {
   "cell_type": "code",
   "execution_count": 4,
   "metadata": {},
   "outputs": [
    {
     "data": {
      "text/plain": [
       "(2867154, 50)"
      ]
     },
     "execution_count": 4,
     "metadata": {},
     "output_type": "execute_result"
    }
   ],
   "source": [
    "# merge the datasets\n",
    "df = pd.merge(df_pitches, df_atbats, how='left', on='ab_id')\n",
    "df.shape"
   ]
  },
  {
   "cell_type": "code",
   "execution_count": 5,
   "metadata": {},
   "outputs": [
    {
     "data": {
      "text/plain": [
       "Index(['px', 'pz', 'start_speed', 'end_speed', 'spin_rate', 'spin_dir',\n",
       "       'break_angle', 'break_length', 'break_y', 'ax', 'ay', 'az', 'sz_bot',\n",
       "       'sz_top', 'type_confidence', 'vx0', 'vy0', 'vz0', 'x', 'x0', 'y', 'y0',\n",
       "       'z0', 'pfx_x', 'pfx_z', 'nasty', 'zone', 'code', 'type', 'pitch_type',\n",
       "       'event_num', 'b_score', 'ab_id', 'b_count', 's_count', 'outs',\n",
       "       'pitch_num', 'on_1b', 'on_2b', 'on_3b', 'batter_id', 'event', 'g_id',\n",
       "       'inning', 'o', 'p_score', 'p_throws', 'pitcher_id', 'stand', 'top'],\n",
       "      dtype='object')"
      ]
     },
     "execution_count": 5,
     "metadata": {},
     "output_type": "execute_result"
    }
   ],
   "source": [
    "df.columns"
   ]
  },
  {
   "cell_type": "markdown",
   "metadata": {},
   "source": [
    "### Step 2 - Addressing the Missing Data\n",
    "\n",
    "A number of columns in the newly merged dataset contained some `NaN` values.  Some of the columns in the dataset are continuous numerical datatypes (floats and ints).  There were approximately 14,000 pitches that were missing almost all of their continuous numerical data.  Because all of the continuous numerical variables are tracking characteristics of the pitch after the pitcher has released it, it appears that the data collection device simply failed to track these pitches.  There are eight continuous variables that I focused on for this project:\n",
    "\n",
    "- `start_speed` = the speed of the pitch (in miles per hour (MPH)) when the pitcher releases it;\n",
    "- `end_speed` = the speed of the pitch (in MPH) when it reaches the plate;\n",
    "- `break_length` = the length of the break of the pitch (in inches);\n",
    "- `break_angle` = the angle of the break of the pitch (in degrees);\n",
    "- `px` = the horizonal location of the pitch when it reaches the plate (0 = middle of plate);\n",
    "- `pz` = the veritcal location of the pitch when it reaches the plate (0 = the ground);\n",
    "- `spin_rate` = the spin rate of the pitch (in rotations per minute (RPM)); and\n",
    "- `spin_dir` = the direction of the spin of the pitch (in degrees.\n",
    "\n",
    "For this missing data in each of these columns, I elected to replace the `NaN` values with the mean value of each variable.  I did this because I wanted to maintain the ability to perform exploratory data analysis on these variables, which would not be possible if I replaced the `NaN` values with a non-numeric value (such as a `MISSING` string) because it would convert the columns to an `object` datatype.  I also did not believe that replacing the `NaN`s with the mean values would skew any calculations significantly given that the missing data makes up substantially less than 1% of the entire dataset.\n"
   ]
  },
  {
   "cell_type": "code",
   "execution_count": 6,
   "metadata": {},
   "outputs": [
    {
     "name": "stdout",
     "output_type": "stream",
     "text": [
      "[14189, 14189, 14114, 14114, 14189, 14189, 14189, 14189]\n"
     ]
    }
   ],
   "source": [
    "# print out the number of NaNs for each of the continuous variable columns that we will be replacing\n",
    "NaNs = []\n",
    "for i in range(8):\n",
    "    NaNs.append(df[df.columns[i]].isnull().sum())\n",
    "print(NaNs)"
   ]
  },
  {
   "cell_type": "code",
   "execution_count": 7,
   "metadata": {},
   "outputs": [],
   "source": [
    "# replace the NaNs with the mean value for each continuous variable\n",
    "for i in range(8):\n",
    "    mean = np.mean(df[df.columns[i]])\n",
    "    df[df.columns[i]] = df[df.columns[i]].replace(np.nan, mean)"
   ]
  },
  {
   "cell_type": "code",
   "execution_count": 8,
   "metadata": {},
   "outputs": [
    {
     "data": {
      "text/plain": [
       "0"
      ]
     },
     "execution_count": 8,
     "metadata": {},
     "output_type": "execute_result"
    }
   ],
   "source": [
    "# confirm that the NaNs were replaced\n",
    "df['start_speed'].isnull().sum()"
   ]
  },
  {
   "cell_type": "markdown",
   "metadata": {},
   "source": [
    "I took a different approach regarding the `NaN` values for the categorical variables.  Most of the binary categorical variables, such as `on_1b` for a runner on first base, did not contain any `NaN`s.\n",
    "\n",
    "The first categorical variable with `NaN` values was our target `pitch_type` variable, which contains string values, including `FF` for four-seam fastballs, `FT` for two-seam fastballs, and `FC` for cut-fastballs.  I investigated into whether other columns of the dataset may inform whether the unlabeled pitches were fastballs (especially the `start_speed` and `end_speed` columns).  Unfortunately, all but five of those entries had `NaN` values for both start and end speeds, and the five that did have entries appeared to be unreliable because they contained abnormally slow outliers.  I therefore decided to replace the `NaN` values with the string `MISSING` in order to make it clear that there is no `pitch_type` label for those particular pitches.  There also were some pitches with the `UN` label for unknown.  I converted those to `MISSING` as well.\n",
    "\n",
    "I also replaced the `NaN` values with `MISSING` string values in the `code` column because it similarly contains categorical string values.\n"
   ]
  },
  {
   "cell_type": "code",
   "execution_count": 9,
   "metadata": {},
   "outputs": [],
   "source": [
    "# convert the pitch type missing values to 'MISSING'\n",
    "df['pitch_type'] = df['pitch_type'].replace(np.nan, 'MISSING')\n",
    "df['pitch_type'] = df['pitch_type'].replace('UN', 'MISSING')\n",
    "\n",
    "# convert the code missing values to 'MISSING'\n",
    "df['code'] = df['code'].replace(np.nan, 'MISSING')"
   ]
  },
  {
   "cell_type": "markdown",
   "metadata": {},
   "source": [
    "### Step 3 - Create the Target 'Fastball' Label \n",
    "\n",
    "As noted above, I elected to group three of the `pitch_type` labels together to define a fastball for this project: `FF` for four-seam fastballs, `FT` for two-seam fastballs, and `FC` for cut-fastballs.  I will now create a binary label column for each pitch that will assign a value of 1 if the pitch is a fastball or 0 if the pitch is not."
   ]
  },
  {
   "cell_type": "code",
   "execution_count": 10,
   "metadata": {},
   "outputs": [],
   "source": [
    "# create a duplicate pitch type column\n",
    "df['pitch_type2'] = df['pitch_type']\n",
    "\n",
    "# replace all fastballs with a value of FF in duplicate column\n",
    "df['pitch_type2'] = df['pitch_type2'].replace('FT', 'FF')\n",
    "df['pitch_type2'] = df['pitch_type2'].replace('FC', 'FF')\n",
    "\n",
    "# populate the fastball column with the correct values\n",
    "df['fastball'] = np.where(df['pitch_type2'] == 'FF', 1, 0)\n",
    "\n",
    "# delete the duplicate pitch type column\n",
    "del df['pitch_type2']"
   ]
  },
  {
   "cell_type": "code",
   "execution_count": 11,
   "metadata": {},
   "outputs": [
    {
     "data": {
      "text/plain": [
       "1    1502616\n",
       "0    1364538\n",
       "Name: fastball, dtype: int64"
      ]
     },
     "execution_count": 11,
     "metadata": {},
     "output_type": "execute_result"
    }
   ],
   "source": [
    "df['fastball'].value_counts()"
   ]
  },
  {
   "cell_type": "code",
   "execution_count": 12,
   "metadata": {},
   "outputs": [
    {
     "data": {
      "text/html": [
       "<div>\n",
       "<style scoped>\n",
       "    .dataframe tbody tr th:only-of-type {\n",
       "        vertical-align: middle;\n",
       "    }\n",
       "\n",
       "    .dataframe tbody tr th {\n",
       "        vertical-align: top;\n",
       "    }\n",
       "\n",
       "    .dataframe thead th {\n",
       "        text-align: right;\n",
       "    }\n",
       "</style>\n",
       "<table border=\"1\" class=\"dataframe\">\n",
       "  <thead>\n",
       "    <tr style=\"text-align: right;\">\n",
       "      <th></th>\n",
       "      <th>px</th>\n",
       "      <th>pz</th>\n",
       "      <th>start_speed</th>\n",
       "      <th>end_speed</th>\n",
       "      <th>spin_rate</th>\n",
       "      <th>spin_dir</th>\n",
       "      <th>break_angle</th>\n",
       "      <th>break_length</th>\n",
       "      <th>break_y</th>\n",
       "      <th>ax</th>\n",
       "      <th>ay</th>\n",
       "      <th>az</th>\n",
       "      <th>sz_bot</th>\n",
       "      <th>sz_top</th>\n",
       "      <th>type_confidence</th>\n",
       "      <th>vx0</th>\n",
       "      <th>vy0</th>\n",
       "      <th>vz0</th>\n",
       "      <th>x</th>\n",
       "      <th>x0</th>\n",
       "      <th>y</th>\n",
       "      <th>y0</th>\n",
       "      <th>z0</th>\n",
       "      <th>pfx_x</th>\n",
       "      <th>pfx_z</th>\n",
       "      <th>nasty</th>\n",
       "      <th>zone</th>\n",
       "      <th>code</th>\n",
       "      <th>type</th>\n",
       "      <th>pitch_type</th>\n",
       "      <th>event_num</th>\n",
       "      <th>b_score</th>\n",
       "      <th>ab_id</th>\n",
       "      <th>b_count</th>\n",
       "      <th>s_count</th>\n",
       "      <th>outs</th>\n",
       "      <th>pitch_num</th>\n",
       "      <th>on_1b</th>\n",
       "      <th>on_2b</th>\n",
       "      <th>on_3b</th>\n",
       "      <th>batter_id</th>\n",
       "      <th>event</th>\n",
       "      <th>g_id</th>\n",
       "      <th>inning</th>\n",
       "      <th>o</th>\n",
       "      <th>p_score</th>\n",
       "      <th>p_throws</th>\n",
       "      <th>pitcher_id</th>\n",
       "      <th>stand</th>\n",
       "      <th>top</th>\n",
       "      <th>fastball</th>\n",
       "    </tr>\n",
       "  </thead>\n",
       "  <tbody>\n",
       "    <tr>\n",
       "      <th>0</th>\n",
       "      <td>0.416</td>\n",
       "      <td>2.963</td>\n",
       "      <td>92.9</td>\n",
       "      <td>84.1</td>\n",
       "      <td>2305.052</td>\n",
       "      <td>159.235</td>\n",
       "      <td>-25.0</td>\n",
       "      <td>3.2</td>\n",
       "      <td>23.7</td>\n",
       "      <td>7.665</td>\n",
       "      <td>34.685</td>\n",
       "      <td>-11.960</td>\n",
       "      <td>1.72</td>\n",
       "      <td>3.56</td>\n",
       "      <td>2.0</td>\n",
       "      <td>-6.409</td>\n",
       "      <td>-136.065</td>\n",
       "      <td>-3.995</td>\n",
       "      <td>101.140000</td>\n",
       "      <td>2.280</td>\n",
       "      <td>158.780000</td>\n",
       "      <td>50.0</td>\n",
       "      <td>5.302</td>\n",
       "      <td>4.16</td>\n",
       "      <td>10.93</td>\n",
       "      <td>55.0</td>\n",
       "      <td>3.0</td>\n",
       "      <td>C</td>\n",
       "      <td>S</td>\n",
       "      <td>FF</td>\n",
       "      <td>3</td>\n",
       "      <td>0.0</td>\n",
       "      <td>2.015000e+09</td>\n",
       "      <td>0.0</td>\n",
       "      <td>0.0</td>\n",
       "      <td>0.0</td>\n",
       "      <td>1.0</td>\n",
       "      <td>0.0</td>\n",
       "      <td>0.0</td>\n",
       "      <td>0.0</td>\n",
       "      <td>572761</td>\n",
       "      <td>Groundout</td>\n",
       "      <td>201500001</td>\n",
       "      <td>1</td>\n",
       "      <td>1</td>\n",
       "      <td>0</td>\n",
       "      <td>L</td>\n",
       "      <td>452657</td>\n",
       "      <td>L</td>\n",
       "      <td>True</td>\n",
       "      <td>1</td>\n",
       "    </tr>\n",
       "    <tr>\n",
       "      <th>1</th>\n",
       "      <td>-0.191</td>\n",
       "      <td>2.347</td>\n",
       "      <td>92.8</td>\n",
       "      <td>84.1</td>\n",
       "      <td>2689.935</td>\n",
       "      <td>151.402</td>\n",
       "      <td>-40.7</td>\n",
       "      <td>3.4</td>\n",
       "      <td>23.7</td>\n",
       "      <td>12.043</td>\n",
       "      <td>34.225</td>\n",
       "      <td>-10.085</td>\n",
       "      <td>1.72</td>\n",
       "      <td>3.56</td>\n",
       "      <td>2.0</td>\n",
       "      <td>-8.411</td>\n",
       "      <td>-135.690</td>\n",
       "      <td>-5.980</td>\n",
       "      <td>124.280000</td>\n",
       "      <td>2.119</td>\n",
       "      <td>175.410000</td>\n",
       "      <td>50.0</td>\n",
       "      <td>5.307</td>\n",
       "      <td>6.57</td>\n",
       "      <td>12.00</td>\n",
       "      <td>31.0</td>\n",
       "      <td>5.0</td>\n",
       "      <td>S</td>\n",
       "      <td>S</td>\n",
       "      <td>FF</td>\n",
       "      <td>4</td>\n",
       "      <td>0.0</td>\n",
       "      <td>2.015000e+09</td>\n",
       "      <td>0.0</td>\n",
       "      <td>1.0</td>\n",
       "      <td>0.0</td>\n",
       "      <td>2.0</td>\n",
       "      <td>0.0</td>\n",
       "      <td>0.0</td>\n",
       "      <td>0.0</td>\n",
       "      <td>572761</td>\n",
       "      <td>Groundout</td>\n",
       "      <td>201500001</td>\n",
       "      <td>1</td>\n",
       "      <td>1</td>\n",
       "      <td>0</td>\n",
       "      <td>L</td>\n",
       "      <td>452657</td>\n",
       "      <td>L</td>\n",
       "      <td>True</td>\n",
       "      <td>1</td>\n",
       "    </tr>\n",
       "    <tr>\n",
       "      <th>2</th>\n",
       "      <td>-0.518</td>\n",
       "      <td>3.284</td>\n",
       "      <td>94.1</td>\n",
       "      <td>85.2</td>\n",
       "      <td>2647.972</td>\n",
       "      <td>145.125</td>\n",
       "      <td>-43.7</td>\n",
       "      <td>3.7</td>\n",
       "      <td>23.7</td>\n",
       "      <td>14.368</td>\n",
       "      <td>35.276</td>\n",
       "      <td>-11.560</td>\n",
       "      <td>1.72</td>\n",
       "      <td>3.56</td>\n",
       "      <td>2.0</td>\n",
       "      <td>-9.802</td>\n",
       "      <td>-137.668</td>\n",
       "      <td>-3.337</td>\n",
       "      <td>136.740000</td>\n",
       "      <td>2.127</td>\n",
       "      <td>150.110000</td>\n",
       "      <td>50.0</td>\n",
       "      <td>5.313</td>\n",
       "      <td>7.61</td>\n",
       "      <td>10.88</td>\n",
       "      <td>49.0</td>\n",
       "      <td>1.0</td>\n",
       "      <td>F</td>\n",
       "      <td>S</td>\n",
       "      <td>FF</td>\n",
       "      <td>5</td>\n",
       "      <td>0.0</td>\n",
       "      <td>2.015000e+09</td>\n",
       "      <td>0.0</td>\n",
       "      <td>2.0</td>\n",
       "      <td>0.0</td>\n",
       "      <td>3.0</td>\n",
       "      <td>0.0</td>\n",
       "      <td>0.0</td>\n",
       "      <td>0.0</td>\n",
       "      <td>572761</td>\n",
       "      <td>Groundout</td>\n",
       "      <td>201500001</td>\n",
       "      <td>1</td>\n",
       "      <td>1</td>\n",
       "      <td>0</td>\n",
       "      <td>L</td>\n",
       "      <td>452657</td>\n",
       "      <td>L</td>\n",
       "      <td>True</td>\n",
       "      <td>1</td>\n",
       "    </tr>\n",
       "    <tr>\n",
       "      <th>3</th>\n",
       "      <td>-0.641</td>\n",
       "      <td>1.221</td>\n",
       "      <td>91.0</td>\n",
       "      <td>84.0</td>\n",
       "      <td>1289.590</td>\n",
       "      <td>169.751</td>\n",
       "      <td>-1.3</td>\n",
       "      <td>5.0</td>\n",
       "      <td>23.8</td>\n",
       "      <td>2.104</td>\n",
       "      <td>28.354</td>\n",
       "      <td>-20.540</td>\n",
       "      <td>1.74</td>\n",
       "      <td>3.35</td>\n",
       "      <td>2.0</td>\n",
       "      <td>-8.071</td>\n",
       "      <td>-133.005</td>\n",
       "      <td>-6.567</td>\n",
       "      <td>109.685636</td>\n",
       "      <td>2.279</td>\n",
       "      <td>187.463482</td>\n",
       "      <td>50.0</td>\n",
       "      <td>5.210</td>\n",
       "      <td>1.17</td>\n",
       "      <td>6.45</td>\n",
       "      <td>41.0</td>\n",
       "      <td>13.0</td>\n",
       "      <td>B</td>\n",
       "      <td>B</td>\n",
       "      <td>FF</td>\n",
       "      <td>6</td>\n",
       "      <td>0.0</td>\n",
       "      <td>2.015000e+09</td>\n",
       "      <td>0.0</td>\n",
       "      <td>2.0</td>\n",
       "      <td>0.0</td>\n",
       "      <td>4.0</td>\n",
       "      <td>0.0</td>\n",
       "      <td>0.0</td>\n",
       "      <td>0.0</td>\n",
       "      <td>572761</td>\n",
       "      <td>Groundout</td>\n",
       "      <td>201500001</td>\n",
       "      <td>1</td>\n",
       "      <td>1</td>\n",
       "      <td>0</td>\n",
       "      <td>L</td>\n",
       "      <td>452657</td>\n",
       "      <td>L</td>\n",
       "      <td>True</td>\n",
       "      <td>1</td>\n",
       "    </tr>\n",
       "    <tr>\n",
       "      <th>4</th>\n",
       "      <td>-1.821</td>\n",
       "      <td>2.083</td>\n",
       "      <td>75.4</td>\n",
       "      <td>69.6</td>\n",
       "      <td>1374.569</td>\n",
       "      <td>280.671</td>\n",
       "      <td>18.4</td>\n",
       "      <td>12.0</td>\n",
       "      <td>23.8</td>\n",
       "      <td>-10.280</td>\n",
       "      <td>21.774</td>\n",
       "      <td>-34.111</td>\n",
       "      <td>1.72</td>\n",
       "      <td>3.56</td>\n",
       "      <td>2.0</td>\n",
       "      <td>-6.309</td>\n",
       "      <td>-110.409</td>\n",
       "      <td>0.325</td>\n",
       "      <td>146.527525</td>\n",
       "      <td>2.179</td>\n",
       "      <td>177.242829</td>\n",
       "      <td>50.0</td>\n",
       "      <td>5.557</td>\n",
       "      <td>-8.43</td>\n",
       "      <td>-1.65</td>\n",
       "      <td>18.0</td>\n",
       "      <td>13.0</td>\n",
       "      <td>B</td>\n",
       "      <td>B</td>\n",
       "      <td>CU</td>\n",
       "      <td>7</td>\n",
       "      <td>0.0</td>\n",
       "      <td>2.015000e+09</td>\n",
       "      <td>1.0</td>\n",
       "      <td>2.0</td>\n",
       "      <td>0.0</td>\n",
       "      <td>5.0</td>\n",
       "      <td>0.0</td>\n",
       "      <td>0.0</td>\n",
       "      <td>0.0</td>\n",
       "      <td>572761</td>\n",
       "      <td>Groundout</td>\n",
       "      <td>201500001</td>\n",
       "      <td>1</td>\n",
       "      <td>1</td>\n",
       "      <td>0</td>\n",
       "      <td>L</td>\n",
       "      <td>452657</td>\n",
       "      <td>L</td>\n",
       "      <td>True</td>\n",
       "      <td>0</td>\n",
       "    </tr>\n",
       "  </tbody>\n",
       "</table>\n",
       "</div>"
      ],
      "text/plain": [
       "      px     pz  start_speed  end_speed  spin_rate  spin_dir  break_angle  \\\n",
       "0  0.416  2.963         92.9       84.1   2305.052   159.235        -25.0   \n",
       "1 -0.191  2.347         92.8       84.1   2689.935   151.402        -40.7   \n",
       "2 -0.518  3.284         94.1       85.2   2647.972   145.125        -43.7   \n",
       "3 -0.641  1.221         91.0       84.0   1289.590   169.751         -1.3   \n",
       "4 -1.821  2.083         75.4       69.6   1374.569   280.671         18.4   \n",
       "\n",
       "   break_length  break_y      ax      ay      az  sz_bot  sz_top  \\\n",
       "0           3.2     23.7   7.665  34.685 -11.960    1.72    3.56   \n",
       "1           3.4     23.7  12.043  34.225 -10.085    1.72    3.56   \n",
       "2           3.7     23.7  14.368  35.276 -11.560    1.72    3.56   \n",
       "3           5.0     23.8   2.104  28.354 -20.540    1.74    3.35   \n",
       "4          12.0     23.8 -10.280  21.774 -34.111    1.72    3.56   \n",
       "\n",
       "   type_confidence    vx0      vy0    vz0           x     x0           y  \\\n",
       "0              2.0 -6.409 -136.065 -3.995  101.140000  2.280  158.780000   \n",
       "1              2.0 -8.411 -135.690 -5.980  124.280000  2.119  175.410000   \n",
       "2              2.0 -9.802 -137.668 -3.337  136.740000  2.127  150.110000   \n",
       "3              2.0 -8.071 -133.005 -6.567  109.685636  2.279  187.463482   \n",
       "4              2.0 -6.309 -110.409  0.325  146.527525  2.179  177.242829   \n",
       "\n",
       "     y0     z0  pfx_x  pfx_z  nasty  zone code type pitch_type  event_num  \\\n",
       "0  50.0  5.302   4.16  10.93   55.0   3.0    C    S         FF          3   \n",
       "1  50.0  5.307   6.57  12.00   31.0   5.0    S    S         FF          4   \n",
       "2  50.0  5.313   7.61  10.88   49.0   1.0    F    S         FF          5   \n",
       "3  50.0  5.210   1.17   6.45   41.0  13.0    B    B         FF          6   \n",
       "4  50.0  5.557  -8.43  -1.65   18.0  13.0    B    B         CU          7   \n",
       "\n",
       "   b_score         ab_id  b_count  s_count  outs  pitch_num  on_1b  on_2b  \\\n",
       "0      0.0  2.015000e+09      0.0      0.0   0.0        1.0    0.0    0.0   \n",
       "1      0.0  2.015000e+09      0.0      1.0   0.0        2.0    0.0    0.0   \n",
       "2      0.0  2.015000e+09      0.0      2.0   0.0        3.0    0.0    0.0   \n",
       "3      0.0  2.015000e+09      0.0      2.0   0.0        4.0    0.0    0.0   \n",
       "4      0.0  2.015000e+09      1.0      2.0   0.0        5.0    0.0    0.0   \n",
       "\n",
       "   on_3b  batter_id      event       g_id  inning  o  p_score p_throws  \\\n",
       "0    0.0     572761  Groundout  201500001       1  1        0        L   \n",
       "1    0.0     572761  Groundout  201500001       1  1        0        L   \n",
       "2    0.0     572761  Groundout  201500001       1  1        0        L   \n",
       "3    0.0     572761  Groundout  201500001       1  1        0        L   \n",
       "4    0.0     572761  Groundout  201500001       1  1        0        L   \n",
       "\n",
       "   pitcher_id stand   top  fastball  \n",
       "0      452657     L  True         1  \n",
       "1      452657     L  True         1  \n",
       "2      452657     L  True         1  \n",
       "3      452657     L  True         1  \n",
       "4      452657     L  True         0  "
      ]
     },
     "execution_count": 12,
     "metadata": {},
     "output_type": "execute_result"
    }
   ],
   "source": [
    "df.head()"
   ]
  },
  {
   "cell_type": "markdown",
   "metadata": {},
   "source": [
    "## Exploratory Data Analysis"
   ]
  },
  {
   "cell_type": "markdown",
   "metadata": {},
   "source": [
    "### Continuous Variables\n",
    "\n",
    "As noted above, the dataset has many features to explore. It contains a number of continuous variables documenting characteristics of each pitch once the pitcher has released it, including, among other things, each pitch's speed, location, spin/rotation, and movement.  I will run some calculations to determine whether each of these variables is statistically significant to determining whether a pitch is a fastball.\n",
    "\n",
    "To assist with the analysis, I will first import a dataframe with the clean data so that I can run the notebook starting from this section if needed.  (Please note - the imported dataframe uses the `fastball_more` column as the target label.  This is because I used only four-seam fastballs as the targel label in the first iteration of this project, which was stored in the `fastball` column, before ultimately electing to expand the target label to include two-seam fastballs and cut-fastballs.)\n",
    "\n",
    "I also will create new fastball and non-fastball dataframe, and write some functions to streamline the calculations."
   ]
  },
  {
   "cell_type": "code",
   "execution_count": 1,
   "metadata": {},
   "outputs": [],
   "source": [
    "%matplotlib inline"
   ]
  },
  {
   "cell_type": "code",
   "execution_count": 2,
   "metadata": {},
   "outputs": [],
   "source": [
    "# import numpy, pandas, matplotlib and seaborn\n",
    "import numpy as np\n",
    "import pandas as pd\n",
    "import matplotlib.pyplot as plt\n",
    "import seaborn as sns\n",
    "pd.options.display.max_columns = 500"
   ]
  },
  {
   "cell_type": "code",
   "execution_count": 14,
   "metadata": {},
   "outputs": [],
   "source": [
    "# import dataframe (if starting in this section of notebook)\n",
    "#df = pd.read_csv('df_final.csv')\n",
    "\n",
    "# create fastballs and non-fastballs dataframes\n",
    "df_fastball = df[df['fastball'] == 1]\n",
    "df_nofastball = df[df['fastball'] == 0]"
   ]
  },
  {
   "cell_type": "code",
   "execution_count": 15,
   "metadata": {},
   "outputs": [],
   "source": [
    "# create functions for analysis\n",
    "\n",
    "def ecdf(data):\n",
    "    x=np.sort(data)\n",
    "    y=np.arange(1, len(x) + 1) / len(x)\n",
    "    return x, y\n",
    "\n",
    "def graph_ecdfs(variable, x_label, graph_title):\n",
    "    x, y = ecdf(df['{}'.format(variable)])\n",
    "    _ = sns.set()\n",
    "    _ = plt.plot(x, y, marker='.', linestyle='none', label='all pitches')\n",
    "    _ = plt.xlabel('{}'.format(x_label))\n",
    "    _ = plt.ylabel('ECDF')\n",
    "    _ = plt.title('{}'.format(graph_title), size='large')\n",
    "\n",
    "    x_fast, y_fast = ecdf(df_fastball['{}'.format(variable)])\n",
    "    _ = plt.plot(x_fast, y_fast, marker='.', linestyle='none', label='fastballs')\n",
    "\n",
    "    x_nofast, y_nofast = ecdf(df_nofastball['{}'.format(variable)])\n",
    "    _ = plt.plot(x_nofast, y_nofast, marker='.', linestyle='none', label='non-fastballs')\n",
    "\n",
    "    _ = plt.legend()\n",
    "\n",
    "def calculate_stats(df, df_fastball, df_nofastball):\n",
    "    df_mean = np.mean(df)\n",
    "    df_median = np.nanmedian(df)\n",
    "    df_std = np.std(df)\n",
    "    print(\"all pitches mean = {}\".format(df_mean))\n",
    "    print('all pitches median = {}'.format(df_median))\n",
    "    print('all pitches std = {}'.format(df_std))\n",
    "\n",
    "    df_fastball_mean = np.mean(df_fastball)\n",
    "    df_fastball_median = np.nanmedian(df_fastball)\n",
    "    df_fastball_std = np.std(df_fastball)\n",
    "    print(\"fastballs mean = {}\".format(df_fastball_mean))\n",
    "    print('fastballs median = {}'.format(df_fastball_median))\n",
    "    print('fastballs std = {}'.format(df_fastball_std))\n",
    "\n",
    "    df_nofastball_mean = np.mean(df_nofastball)\n",
    "    df_nofastball_median = np.nanmedian(df_nofastball)\n",
    "    df_nofastball_std = np.std(df_nofastball)\n",
    "    print(\"non-fastballs mean = {}\".format(df_nofastball_mean))\n",
    "    print('non-fastballs median = {}'.format(df_nofastball_median))\n",
    "    print('non-fastballs std = {}'.format(df_nofastball_std))\n",
    "\n",
    "def perm_sample(data1, data2):\n",
    "    data = np.concatenate((data1, data2))\n",
    "    permutated_data = np.random.permutation(data)\n",
    "    perm_sample1 = permutated_data[:len(data1)]\n",
    "    perm_sample2 = permutated_data[len(data1):]\n",
    "    return perm_sample1, perm_sample2\n",
    "\n",
    "def draw_perm_reps(data1, data2, func, size=1):\n",
    "    perm_replicates = np.empty(size)\n",
    "    for i in range(size):\n",
    "        perm_sample1, perm_sample2 = perm_sample(data1, data2)\n",
    "        perm_replicates[i] = func(perm_sample1, perm_sample2)\n",
    "    return perm_replicates\n",
    "\n",
    "def diff_in_means(data1, data2):\n",
    "    return np.absolute(np.mean(data1) - np.mean(data2))\n",
    "\n",
    "def bootstrap_replicate(data, func):\n",
    "    return func(np.random.choice(data, size=len(data)))\n",
    "\n",
    "def draw_bs_reps(data, func, size=1):\n",
    "    bs_replicates = np.empty(size)\n",
    "    for i in range (size):\n",
    "        bs_replicates[i] = bootstrap_replicate(data, func)\n",
    "    return bs_replicates"
   ]
  },
  {
   "cell_type": "markdown",
   "metadata": {},
   "source": [
    "For each of the eight continuous variables, we will compare the data for fastballs to the data for non-fastballs. As demonstrated below both graphically and through inferential statistics, each of the variables are significant to determining whether a pitch is a fastball or not."
   ]
  },
  {
   "cell_type": "markdown",
   "metadata": {},
   "source": [
    "#### Starting Pitch Speed"
   ]
  },
  {
   "cell_type": "code",
   "execution_count": 17,
   "metadata": {},
   "outputs": [
    {
     "data": {
      "text/plain": [
       "<Figure size 1008x288 with 0 Axes>"
      ]
     },
     "metadata": {},
     "output_type": "display_data"
    },
    {
     "data": {
      "image/png": "[encoded data removed]",
      "text/plain": [
       "<Figure size 432x288 with 1 Axes>"
      ]
     },
     "metadata": {},
     "output_type": "display_data"
    }
   ],
   "source": [
    "_ = sns.set()\n",
    "_ = plt.figure(figsize=(14,4))\n",
    "_ = df[['fastball', 'start_speed']].boxplot(by = 'fastball', showfliers=False).set_xticklabels(['non-fastballs', 'fastballs'])\n",
    "_ = plt.title('Starting Speed (in MPH) of Fastballs v. Non-Fastballs', size='large')\n",
    "_ = plt.xlabel(None)\n",
    "_ = plt.ylabel(None)\n",
    "_ = plt.suptitle(None)\n",
    "_ = plt.ylim((60, 105))\n"
   ]
  },
  {
   "cell_type": "code",
   "execution_count": 18,
   "metadata": {},
   "outputs": [
    {
     "name": "stdout",
     "output_type": "stream",
     "text": [
      "all pitches mean = 88.38124270958095\n",
      "all pitches median = 89.7\n",
      "all pitches std = 6.000714632118111\n",
      "fastballs mean = 92.25208030528339\n",
      "fastballs median = 92.4\n",
      "fastballs std = 3.113282052898194\n",
      "non-fastballs mean = 84.11871392337709\n",
      "non-fastballs median = 84.2\n",
      "non-fastballs std = 5.506255317934194\n"
     ]
    }
   ],
   "source": [
    "# Calculating mean/median/std of each dataset\n",
    "\n",
    "calculate_stats(df['start_speed'], df_fastball['start_speed'], df_nofastball['start_speed'])"
   ]
  },
  {
   "cell_type": "code",
   "execution_count": 19,
   "metadata": {},
   "outputs": [
    {
     "data": {
      "image/png": "[encoded data removed]",
      "text/plain": [
       "<Figure size 432x288 with 1 Axes>"
      ]
     },
     "metadata": {},
     "output_type": "display_data"
    }
   ],
   "source": [
    "# Comparing the Empirical Cumulative Distribution Function (ECDF) for each of the datasets\n",
    "graph_ecdfs('start_speed', 'Pitch Speed (in MPH)', 'Starting Pitch Speed ECDFs')\n"
   ]
  },
  {
   "cell_type": "markdown",
   "metadata": {},
   "source": [
    "#### Ending Pitch Speed"
   ]
  },
  {
   "cell_type": "code",
   "execution_count": 20,
   "metadata": {},
   "outputs": [
    {
     "data": {
      "text/plain": [
       "<Figure size 1008x288 with 0 Axes>"
      ]
     },
     "metadata": {},
     "output_type": "display_data"
    },
    {
     "data": {
      "image/png": "[encoded data removed]",
      "text/plain": [
       "<Figure size 432x288 with 1 Axes>"
      ]
     },
     "metadata": {},
     "output_type": "display_data"
    }
   ],
   "source": [
    "_ = sns.set()\n",
    "_ = plt.figure(figsize=(14,4))\n",
    "_ = df[['fastball', 'end_speed']].boxplot(by = 'fastball', showfliers=False).set_xticklabels(['non-fastballs', 'fastballs'])\n",
    "_ = plt.title('Ending Speed (in MPH) of Fastballs v. Non-Fastballs', size='large')\n",
    "_ = plt.xlabel(None)\n",
    "_ = plt.ylabel(None)\n",
    "_ = plt.suptitle(None)\n",
    "_ = plt.ylim((60, 105))"
   ]
  },
  {
   "cell_type": "code",
   "execution_count": 21,
   "metadata": {},
   "outputs": [
    {
     "name": "stdout",
     "output_type": "stream",
     "text": [
      "all pitches mean = 81.36274496674785\n",
      "all pitches median = 82.5\n",
      "all pitches std = 5.350836604693348\n",
      "fastballs mean = 84.71386069361692\n",
      "fastballs median = 84.9\n",
      "fastballs std = 2.797587553034777\n",
      "non-fastballs mean = 77.67252885775368\n",
      "non-fastballs median = 77.9\n",
      "non-fastballs std = 5.055455674019069\n"
     ]
    }
   ],
   "source": [
    "# Calculating mean/median/std of each dataset\n",
    "calculate_stats(df['end_speed'], df_fastball['end_speed'], df_nofastball['end_speed'])"
   ]
  },
  {
   "cell_type": "code",
   "execution_count": 22,
   "metadata": {},
   "outputs": [
    {
     "data": {
      "image/png": "[encoded data removed]",
      "text/plain": [
       "<Figure size 432x288 with 1 Axes>"
      ]
     },
     "metadata": {},
     "output_type": "display_data"
    }
   ],
   "source": [
    "# Comparing the Empirical Cumulative Distribution Function (ECDF) for each of the datasets\n",
    "graph_ecdfs('end_speed', 'Pitch Speed (in MPH)', 'Ending Pitch Speed ECDFs')"
   ]
  },
  {
   "cell_type": "markdown",
   "metadata": {},
   "source": [
    "#### Pitch Break Length"
   ]
  },
  {
   "cell_type": "code",
   "execution_count": 23,
   "metadata": {},
   "outputs": [
    {
     "data": {
      "text/plain": [
       "<Figure size 1008x288 with 0 Axes>"
      ]
     },
     "metadata": {},
     "output_type": "display_data"
    },
    {
     "data": {
      "image/png": "[encoded data removed]",
      "text/plain": [
       "<Figure size 432x288 with 1 Axes>"
      ]
     },
     "metadata": {},
     "output_type": "display_data"
    }
   ],
   "source": [
    "_ = sns.set()\n",
    "_ = plt.figure(figsize=(14,4))\n",
    "_ = df[['fastball', 'break_length']].boxplot(by = 'fastball', showfliers=False).set_xticklabels(['non-fastballs', 'fastballs'])\n",
    "_ = plt.title('Break Length (in Inches) of Fastballs v. Non-Fastballs', size='large')\n",
    "_ = plt.xlabel(None)\n",
    "_ = plt.ylabel(None)\n",
    "_ = plt.suptitle(None)"
   ]
  },
  {
   "cell_type": "code",
   "execution_count": 24,
   "metadata": {},
   "outputs": [
    {
     "name": "stdout",
     "output_type": "stream",
     "text": [
      "all pitches mean = 6.601459078537077\n",
      "all pitches median = 6.0\n",
      "all pitches std = 132.84080792371856\n",
      "fastballs mean = 4.756373750845235\n",
      "fastballs median = 4.4\n",
      "fastballs std = 183.4624226207751\n",
      "non-fastballs mean = 8.633249131108181\n",
      "non-fastballs median = 8.1\n",
      "non-fastballs std = 2.605043719352486\n"
     ]
    }
   ],
   "source": [
    "# Calculating mean/median/std of each dataset\n",
    "calculate_stats(df['break_length'], df_fastball['break_length'], df_nofastball['break_length'])"
   ]
  },
  {
   "cell_type": "code",
   "execution_count": 25,
   "metadata": {},
   "outputs": [
    {
     "data": {
      "image/png": "[encoded data removed]",
      "text/plain": [
       "<Figure size 432x288 with 1 Axes>"
      ]
     },
     "metadata": {},
     "output_type": "display_data"
    }
   ],
   "source": [
    "# Comparing the Empirical Cumulative Distribution Function (ECDF) for each of the datasets\n",
    "graph_ecdfs('break_length', 'Pitch Break Length (in Inches)', 'Pitch Break Lengths ECDFs')"
   ]
  },
  {
   "cell_type": "markdown",
   "metadata": {},
   "source": [
    "It looks like the `break_length` column has an outlier that needs to be addressed:"
   ]
  },
  {
   "cell_type": "code",
   "execution_count": 33,
   "metadata": {},
   "outputs": [
    {
     "data": {
      "text/html": [
       "<div>\n",
       "<style scoped>\n",
       "    .dataframe tbody tr th:only-of-type {\n",
       "        vertical-align: middle;\n",
       "    }\n",
       "\n",
       "    .dataframe tbody tr th {\n",
       "        vertical-align: top;\n",
       "    }\n",
       "\n",
       "    .dataframe thead th {\n",
       "        text-align: right;\n",
       "    }\n",
       "</style>\n",
       "<table border=\"1\" class=\"dataframe\">\n",
       "  <thead>\n",
       "    <tr style=\"text-align: right;\">\n",
       "      <th></th>\n",
       "      <th>px</th>\n",
       "      <th>pz</th>\n",
       "      <th>start_speed</th>\n",
       "      <th>end_speed</th>\n",
       "      <th>spin_rate</th>\n",
       "      <th>spin_dir</th>\n",
       "      <th>break_angle</th>\n",
       "      <th>break_length</th>\n",
       "      <th>break_y</th>\n",
       "      <th>ax</th>\n",
       "      <th>ay</th>\n",
       "      <th>az</th>\n",
       "      <th>sz_bot</th>\n",
       "      <th>sz_top</th>\n",
       "      <th>type_confidence</th>\n",
       "      <th>vx0</th>\n",
       "      <th>vy0</th>\n",
       "      <th>vz0</th>\n",
       "      <th>x</th>\n",
       "      <th>x0</th>\n",
       "      <th>y</th>\n",
       "      <th>y0</th>\n",
       "      <th>z0</th>\n",
       "      <th>pfx_x</th>\n",
       "      <th>pfx_z</th>\n",
       "      <th>nasty</th>\n",
       "      <th>zone</th>\n",
       "      <th>code</th>\n",
       "      <th>type</th>\n",
       "      <th>pitch_type</th>\n",
       "      <th>event_num</th>\n",
       "      <th>b_score</th>\n",
       "      <th>ab_id</th>\n",
       "      <th>b_count</th>\n",
       "      <th>s_count</th>\n",
       "      <th>outs</th>\n",
       "      <th>pitch_num</th>\n",
       "      <th>on_1b</th>\n",
       "      <th>on_2b</th>\n",
       "      <th>on_3b</th>\n",
       "      <th>batter_id</th>\n",
       "      <th>event</th>\n",
       "      <th>g_id</th>\n",
       "      <th>inning</th>\n",
       "      <th>o</th>\n",
       "      <th>p_score</th>\n",
       "      <th>p_throws</th>\n",
       "      <th>pitcher_id</th>\n",
       "      <th>stand</th>\n",
       "      <th>top</th>\n",
       "      <th>fastball</th>\n",
       "    </tr>\n",
       "  </thead>\n",
       "  <tbody>\n",
       "    <tr>\n",
       "      <th>2063015</th>\n",
       "      <td>1.358352</td>\n",
       "      <td>7.539096</td>\n",
       "      <td>95.7</td>\n",
       "      <td>96.4</td>\n",
       "      <td>524.129</td>\n",
       "      <td>136.431</td>\n",
       "      <td>2.5</td>\n",
       "      <td>224889.3</td>\n",
       "      <td>36.4</td>\n",
       "      <td>3.488136</td>\n",
       "      <td>-0.524375</td>\n",
       "      <td>-28.507316</td>\n",
       "      <td>1.378487</td>\n",
       "      <td>3.165522</td>\n",
       "      <td>2.0</td>\n",
       "      <td>5.947644</td>\n",
       "      <td>-140.082309</td>\n",
       "      <td>1.603897</td>\n",
       "      <td>93.19</td>\n",
       "      <td>-0.912584</td>\n",
       "      <td>189.18</td>\n",
       "      <td>50.0</td>\n",
       "      <td>8.695458</td>\n",
       "      <td>1.585252</td>\n",
       "      <td>1.666419</td>\n",
       "      <td>19.0</td>\n",
       "      <td>12.0</td>\n",
       "      <td>X</td>\n",
       "      <td>X</td>\n",
       "      <td>FC</td>\n",
       "      <td>220</td>\n",
       "      <td>0.0</td>\n",
       "      <td>2.017165e+09</td>\n",
       "      <td>1.0</td>\n",
       "      <td>2.0</td>\n",
       "      <td>2.0</td>\n",
       "      <td>4.0</td>\n",
       "      <td>0.0</td>\n",
       "      <td>0.0</td>\n",
       "      <td>0.0</td>\n",
       "      <td>405395</td>\n",
       "      <td>Groundout</td>\n",
       "      <td>201702160</td>\n",
       "      <td>4</td>\n",
       "      <td>3</td>\n",
       "      <td>1</td>\n",
       "      <td>R</td>\n",
       "      <td>434378</td>\n",
       "      <td>R</td>\n",
       "      <td>False</td>\n",
       "      <td>1</td>\n",
       "    </tr>\n",
       "  </tbody>\n",
       "</table>\n",
       "</div>"
      ],
      "text/plain": [
       "               px        pz  start_speed  end_speed  spin_rate  spin_dir  \\\n",
       "2063015  1.358352  7.539096         95.7       96.4    524.129   136.431   \n",
       "\n",
       "         break_angle  break_length  break_y        ax        ay         az  \\\n",
       "2063015          2.5      224889.3     36.4  3.488136 -0.524375 -28.507316   \n",
       "\n",
       "           sz_bot    sz_top  type_confidence       vx0         vy0       vz0  \\\n",
       "2063015  1.378487  3.165522              2.0  5.947644 -140.082309  1.603897   \n",
       "\n",
       "             x        x0       y    y0        z0     pfx_x     pfx_z  nasty  \\\n",
       "2063015  93.19 -0.912584  189.18  50.0  8.695458  1.585252  1.666419   19.0   \n",
       "\n",
       "         zone code type pitch_type  event_num  b_score         ab_id  b_count  \\\n",
       "2063015  12.0    X    X         FC        220      0.0  2.017165e+09      1.0   \n",
       "\n",
       "         s_count  outs  pitch_num  on_1b  on_2b  on_3b  batter_id      event  \\\n",
       "2063015      2.0   2.0        4.0    0.0    0.0    0.0     405395  Groundout   \n",
       "\n",
       "              g_id  inning  o  p_score p_throws  pitcher_id stand    top  \\\n",
       "2063015  201702160       4  3        1        R      434378     R  False   \n",
       "\n",
       "         fastball  \n",
       "2063015         1  "
      ]
     },
     "execution_count": 33,
     "metadata": {},
     "output_type": "execute_result"
    }
   ],
   "source": [
    "# Identifying the outlier\n",
    "outlier = df_fastball[df_fastball['break_length'] > 150000]\n",
    "outlier.head()"
   ]
  },
  {
   "cell_type": "code",
   "execution_count": 34,
   "metadata": {},
   "outputs": [
    {
     "name": "stderr",
     "output_type": "stream",
     "text": [
      "C:\\Users\\Owner\\Anaconda3\\lib\\site-packages\\pandas\\core\\indexing.py:543: SettingWithCopyWarning: \n",
      "A value is trying to be set on a copy of a slice from a DataFrame.\n",
      "Try using .loc[row_indexer,col_indexer] = value instead\n",
      "\n",
      "See the caveats in the documentation: http://pandas.pydata.org/pandas-docs/stable/indexing.html#indexing-view-versus-copy\n",
      "  self.obj[item] = s\n"
     ]
    }
   ],
   "source": [
    "# Replacing the outlier with the mean break length value in both df and df_fastball dataframes\n",
    "df_fastball.loc[2063015, 'break_length'] = 6.60\n",
    "df.loc[2063015, 'break_length'] = 6.60"
   ]
  },
  {
   "cell_type": "code",
   "execution_count": 35,
   "metadata": {},
   "outputs": [
    {
     "data": {
      "image/png": "[encoded data removed]",
      "text/plain": [
       "<Figure size 432x288 with 1 Axes>"
      ]
     },
     "metadata": {},
     "output_type": "display_data"
    }
   ],
   "source": [
    "# Re-running the ECDF graph\n",
    "graph_ecdfs('break_length', 'Pitch Break Length (in Inches)', 'Pitch Break Lengths ECDFs')"
   ]
  },
  {
   "cell_type": "markdown",
   "metadata": {},
   "source": [
    "#### Pitch Break Angles"
   ]
  },
  {
   "cell_type": "code",
   "execution_count": 36,
   "metadata": {},
   "outputs": [
    {
     "data": {
      "text/plain": [
       "<Figure size 1008x288 with 0 Axes>"
      ]
     },
     "metadata": {},
     "output_type": "display_data"
    },
    {
     "data": {
      "image/png": "[encoded data removed]",
      "text/plain": [
       "<Figure size 432x288 with 1 Axes>"
      ]
     },
     "metadata": {},
     "output_type": "display_data"
    }
   ],
   "source": [
    "_ = sns.set()\n",
    "_ = plt.figure(figsize=(14,4))\n",
    "_ = df[['fastball', 'break_angle']].boxplot(by = 'fastball', showfliers=False).set_xticklabels(['non-fastballs', 'fastballs'])\n",
    "_ = plt.title('Break Angle (in Degrees) of Fastballs v. Non-Fastballs', size = 'large')\n",
    "_ = plt.xlabel(None)\n",
    "_ = plt.ylabel(None)\n",
    "_ = plt.suptitle(None)"
   ]
  },
  {
   "cell_type": "code",
   "execution_count": 37,
   "metadata": {},
   "outputs": [
    {
     "name": "stdout",
     "output_type": "stream",
     "text": [
      "all pitches mean = 5.848084186098598\n",
      "all pitches median = 6.5\n",
      "all pitches std = 24.375667737867555\n",
      "fastballs mean = 10.452149517907374\n",
      "fastballs median = 18.7\n",
      "fastballs std = 27.007262383116437\n",
      "non-fastballs mean = 0.7781321344780832\n",
      "non-fastballs median = -2.7\n",
      "non-fastballs std = 19.905388088869337\n"
     ]
    }
   ],
   "source": [
    "# Calculating mean/median/std of each dataset\n",
    "calculate_stats(df['break_angle'], df_fastball['break_angle'], df_nofastball['break_angle'])"
   ]
  },
  {
   "cell_type": "code",
   "execution_count": 38,
   "metadata": {},
   "outputs": [
    {
     "data": {
      "image/png": "[encoded data removed]",
      "text/plain": [
       "<Figure size 432x288 with 1 Axes>"
      ]
     },
     "metadata": {},
     "output_type": "display_data"
    }
   ],
   "source": [
    "# Comparing the Empirical Cumulative Distribution Function (ECDF) for each of the datasets\n",
    "graph_ecdfs('break_angle', 'Pitch Break Angle (in Degrees)', 'Pitch Break Angles ECDFs')"
   ]
  },
  {
   "cell_type": "markdown",
   "metadata": {},
   "source": [
    "#### Horizontal Pitch Location"
   ]
  },
  {
   "cell_type": "code",
   "execution_count": 39,
   "metadata": {},
   "outputs": [
    {
     "data": {
      "text/plain": [
       "<Figure size 1008x288 with 0 Axes>"
      ]
     },
     "metadata": {},
     "output_type": "display_data"
    },
    {
     "data": {
      "image/png": "[encoded data removed]",
      "text/plain": [
       "<Figure size 432x288 with 1 Axes>"
      ]
     },
     "metadata": {},
     "output_type": "display_data"
    }
   ],
   "source": [
    "_ = sns.set()\n",
    "_ = plt.figure(figsize=(14,4))\n",
    "_ = df[['fastball', 'px']].boxplot(by = 'fastball', showfliers=False).set_xticklabels(['non-fastballs', 'fastballs'])\n",
    "_ = plt.title('Horizonal Location of Fastballs v. Non-Fastballs', size='large')\n",
    "_ = plt.xlabel(None)\n",
    "_ = plt.ylabel(None)\n",
    "_ = plt.suptitle(None)"
   ]
  },
  {
   "cell_type": "code",
   "execution_count": 40,
   "metadata": {},
   "outputs": [
    {
     "name": "stdout",
     "output_type": "stream",
     "text": [
      "all pitches mean = 0.0065725019675674946\n",
      "all pitches median = 0.007660961113344931\n",
      "all pitches std = 0.890537096683178\n",
      "fastballs mean = -0.022860163488148226\n",
      "fastballs median = -0.018000000000000002\n",
      "fastballs std = 0.8454364743652532\n",
      "non-fastballs mean = 0.03898346746388044\n",
      "non-fastballs median = 0.0368679520389319\n",
      "non-fastballs std = 0.9366258261381617\n"
     ]
    }
   ],
   "source": [
    "# Calculating mean/median/std of each dataset\n",
    "calculate_stats(df['px'], df_fastball['px'], df_nofastball['px'])"
   ]
  },
  {
   "cell_type": "code",
   "execution_count": 41,
   "metadata": {},
   "outputs": [
    {
     "data": {
      "image/png": "[encoded data removed]",
      "text/plain": [
       "<Figure size 432x288 with 1 Axes>"
      ]
     },
     "metadata": {},
     "output_type": "display_data"
    }
   ],
   "source": [
    "# Comparing the Empirical Cumulative Distribution Function (ECDF) for each of the datasets\n",
    "graph_ecdfs('px', 'Horizontal Pitch Location (0 - Middle of Plate)', 'Horizontal Pitch Locations ECDFs')"
   ]
  },
  {
   "cell_type": "markdown",
   "metadata": {},
   "source": [
    "#### Vertical Pitch Location"
   ]
  },
  {
   "cell_type": "code",
   "execution_count": 42,
   "metadata": {},
   "outputs": [
    {
     "data": {
      "text/plain": [
       "<Figure size 1008x288 with 0 Axes>"
      ]
     },
     "metadata": {},
     "output_type": "display_data"
    },
    {
     "data": {
      "image/png": "[encoded data removed]",
      "text/plain": [
       "<Figure size 432x288 with 1 Axes>"
      ]
     },
     "metadata": {},
     "output_type": "display_data"
    }
   ],
   "source": [
    "_ = sns.set()\n",
    "_ = plt.figure(figsize=(14,4))\n",
    "_ = df[['fastball', 'pz']].boxplot(by = 'fastball', showfliers=False).set_xticklabels(['non-fastballs', 'fastballs'])\n",
    "_ = plt.title('Vertical Location of Fastballs v. Non-Fastballs', size='large')\n",
    "_ = plt.xlabel(None)\n",
    "_ = plt.ylabel(None)\n",
    "_ = plt.suptitle(None)"
   ]
  },
  {
   "cell_type": "code",
   "execution_count": 43,
   "metadata": {},
   "outputs": [
    {
     "name": "stdout",
     "output_type": "stream",
     "text": [
      "all pitches mean = 2.2549622540482397\n",
      "all pitches median = 2.2549622540477583\n",
      "all pitches std = 0.944051941946748\n",
      "fastballs mean = 2.51341692816395\n",
      "fastballs median = 2.4940568676534047\n",
      "fastballs std = 0.8512426889047401\n",
      "non-fastballs mean = 1.9703544757355749\n",
      "non-fastballs median = 1.9809999999999999\n",
      "non-fastballs std = 0.9592468642801323\n"
     ]
    }
   ],
   "source": [
    "# Calculating mean/median/std of each dataset\n",
    "calculate_stats(df['pz'], df_fastball['pz'], df_nofastball['pz'])"
   ]
  },
  {
   "cell_type": "code",
   "execution_count": 44,
   "metadata": {},
   "outputs": [
    {
     "data": {
      "image/png": "[encoded data removed]",
      "text/plain": [
       "<Figure size 432x288 with 1 Axes>"
      ]
     },
     "metadata": {},
     "output_type": "display_data"
    }
   ],
   "source": [
    "# Comparing the Empirical Cumulative Distribution Function (ECDF) for each of the datasets\n",
    "graph_ecdfs('pz', 'Vertical Pitch Location (0 = Ground)', 'Vertical Pitch Locations ECDFs')"
   ]
  },
  {
   "cell_type": "markdown",
   "metadata": {},
   "source": [
    "#### Pitch Spin Rate"
   ]
  },
  {
   "cell_type": "code",
   "execution_count": 45,
   "metadata": {},
   "outputs": [
    {
     "data": {
      "text/plain": [
       "<Figure size 1008x288 with 0 Axes>"
      ]
     },
     "metadata": {},
     "output_type": "display_data"
    },
    {
     "data": {
      "image/png": "[encoded data removed]",
      "text/plain": [
       "<Figure size 432x288 with 1 Axes>"
      ]
     },
     "metadata": {},
     "output_type": "display_data"
    }
   ],
   "source": [
    "_ = sns.set()\n",
    "_ = plt.figure(figsize=(14,4))\n",
    "_ = df[['fastball', 'spin_rate']].boxplot(by = 'fastball', showfliers=False).set_xticklabels(['non-fastballs', 'fastballs'])\n",
    "_ = plt.title('Spin Rate (in RPMs) of Fastballs v. Non-Fastballs', size='large')\n",
    "_ = plt.xlabel(None)\n",
    "_ = plt.ylabel(None)\n",
    "_ = plt.suptitle(None)"
   ]
  },
  {
   "cell_type": "code",
   "execution_count": 46,
   "metadata": {},
   "outputs": [
    {
     "name": "stdout",
     "output_type": "stream",
     "text": [
      "all pitches mean = 1731.1728888285434\n",
      "all pitches median = 1862.01\n",
      "all pitches std = 681.0605246780085\n",
      "fastballs mean = 2061.337168650513\n",
      "fastballs median = 2135.9885\n",
      "fastballs std = 515.2406905419363\n",
      "non-fastballs mean = 1367.5991888009219\n",
      "non-fastballs median = 1389.0535\n",
      "non-fastballs std = 655.7912694299469\n"
     ]
    }
   ],
   "source": [
    "# Calculating mean/median/std of each dataset\n",
    "calculate_stats(df['spin_rate'], df_fastball['spin_rate'], df_nofastball['spin_rate'])"
   ]
  },
  {
   "cell_type": "code",
   "execution_count": 47,
   "metadata": {},
   "outputs": [
    {
     "data": {
      "image/png": "[encoded data removed]",
      "text/plain": [
       "<Figure size 432x288 with 1 Axes>"
      ]
     },
     "metadata": {},
     "output_type": "display_data"
    }
   ],
   "source": [
    "# Comparing the Empirical Cumulative Distribution Function (ECDF) for each of the datasets\n",
    "graph_ecdfs('spin_rate', 'Pitch Spin Rate (in RPMs)', 'Pitch Spin Rates ECDFs')"
   ]
  },
  {
   "cell_type": "markdown",
   "metadata": {},
   "source": [
    "#### Pitch Spin Direction"
   ]
  },
  {
   "cell_type": "code",
   "execution_count": 51,
   "metadata": {},
   "outputs": [
    {
     "data": {
      "text/plain": [
       "<Figure size 1008x288 with 0 Axes>"
      ]
     },
     "metadata": {},
     "output_type": "display_data"
    },
    {
     "data": {
      "image/png": "[encoded data removed]",
      "text/plain": [
       "<Figure size 432x288 with 1 Axes>"
      ]
     },
     "metadata": {},
     "output_type": "display_data"
    }
   ],
   "source": [
    "_ = sns.set()\n",
    "_ = plt.figure(figsize=(14,4))\n",
    "_ = df[['fastball', 'spin_dir']].boxplot(by = 'fastball', showfliers=False).set_xticklabels(['non-fastballs', 'fastballs'])\n",
    "_ = plt.title('Spin Direction (in Degrees) of Fastballs v. Non-Fastballs', size='large')\n",
    "_ = plt.xlabel(None)\n",
    "_ = plt.ylabel(None)\n",
    "_ = plt.suptitle(None)"
   ]
  },
  {
   "cell_type": "code",
   "execution_count": 52,
   "metadata": {},
   "outputs": [
    {
     "name": "stdout",
     "output_type": "stream",
     "text": [
      "all pitches mean = 180.23080641505635\n",
      "all pitches median = 195.5225\n",
      "all pitches std = 67.26152804316551\n",
      "fastballs mean = 191.99413934964872\n",
      "fastballs median = 200.666\n",
      "fastballs std = 35.92310844296713\n",
      "non-fastballs mean = 167.27713837442676\n",
      "non-fastballs median = 163.722\n",
      "non-fastballs std = 88.11806903315096\n"
     ]
    }
   ],
   "source": [
    "# Calculating mean/median/std of each dataset\n",
    "calculate_stats(df['spin_dir'], df_fastball['spin_dir'], df_nofastball['spin_dir'])"
   ]
  },
  {
   "cell_type": "code",
   "execution_count": 53,
   "metadata": {},
   "outputs": [
    {
     "data": {
      "image/png": "[encoded data removed]",
      "text/plain": [
       "<Figure size 432x288 with 1 Axes>"
      ]
     },
     "metadata": {},
     "output_type": "display_data"
    }
   ],
   "source": [
    "# Comparing the Empirical Cumulative Distribution Function (ECDF) for each of the datasets\n",
    "graph_ecdfs('spin_dir', 'Pitch Spin Direction (in Degrees)', 'Pitch Spin Directions ECDFs')"
   ]
  },
  {
   "cell_type": "markdown",
   "metadata": {},
   "source": [
    "As we can see from the simple mean/median/std calculations and graphically, all of the continuous variables analyzed are statistically significant to determining whether a pitch is a fastball without the need for any permutation or boostrap hypothesis testing. This makes sense when considering that the dataset contains observations of nearly 3 million pitches. With that many data points in the observed dataset, we should expect each variable to converge on, or very close to, its true mean and standard deviation. Therefore, even the slightest variations in the variables between fastballs and non-fastballs are likely to be indicative of a truly significant difference.\n",
    "\n",
    "The issue, of course, is that all of this data is largely unhelpful for the direct purpose of my model given that we do not receive this information until after the pitch has been thrown.  In other words, it is too late to be helpful for the current pitch.  However, it is still valuable to know that we almost instantly can classify a pitch as a certain type once it is thrown.  We may be able to use this data to tell our model information about the previous pitch thrown to see if that information is predictive of the next pitch."
   ]
  },
  {
   "cell_type": "markdown",
   "metadata": {},
   "source": [
    "### Categorical Variables\n",
    "\n",
    "The categorical variables in the dataset are the most important because, unlike the continuous variables discussed above, they are known prior to the pitch being thrown.  In order to accurately evaluate the various categorical variables, I first need to identify a default baseline percentage regarding how often a pitcher throws a fastball. This can be done by calculating the percentage of pitches that are labeled as a `fastball` in the entire dataset:"
   ]
  },
  {
   "cell_type": "code",
   "execution_count": 54,
   "metadata": {},
   "outputs": [
    {
     "data": {
      "image/png": "[encoded data removed]",
      "text/plain": [
       "<Figure size 1008x288 with 2 Axes>"
      ]
     },
     "metadata": {},
     "output_type": "display_data"
    }
   ],
   "source": [
    "_ = sns.set()\n",
    "_ = plt.figure(figsize=(14,4))\n",
    "_ = plt.subplot(1,2,1)\n",
    "_ = df['pitch_type'].value_counts().plot.bar()\n",
    "_ = plt.title('Number of Pitches Thrown by Pitch Type (2015-2018)', size='large')\n",
    "_ = plt.xlabel('Pitch Type')\n",
    "_ = plt.ylabel('# of Pitches')\n",
    "_ = plt.xticks(rotation=60)\n",
    "\n",
    "_ = plt.subplot(1,2,2)\n",
    "_ = df['fastball'].value_counts().plot.pie(labels=['fastballs', 'non-fastballs'], autopct='%.2f%%')\n",
    "_ = plt.title('Percentage of Fastballs Thrown (2015-2018)', size='large')\n",
    "_ = plt.ylabel(None)"
   ]
  },
  {
   "cell_type": "markdown",
   "metadata": {},
   "source": [
    "As we can see, a pitcher threw a four-seam, two-seam, or cut-fastball approximately 52.41% of the time.  I can use this number as a baseline when analyzing the various categorical data variables. A variable is not overly significant to the extent that it correlates to a fastball usage at or around that same 52.41% frequency - the goal is to identify the circumstances in which that frequency increases (or decreases) materially from that baseline number."
   ]
  },
  {
   "cell_type": "markdown",
   "metadata": {},
   "source": [
    "#### Runners on Base"
   ]
  },
  {
   "cell_type": "code",
   "execution_count": 56,
   "metadata": {},
   "outputs": [
    {
     "name": "stdout",
     "output_type": "stream",
     "text": [
      "[0.53086799452936229, 0.5460058961258093, 0.4785657024063481, 0.48213605960084832, 0.50518609543248705, 0.5012471291334305, 0.4455758490023885, 0.52722901963201529]\n"
     ]
    }
   ],
   "source": [
    "# Dividing the data up based on runners on base\n",
    "df_norunner = df[(df['on_1b'] == 0) & (df['on_2b'] == 0) & (df['on_3b'] == 0)]\n",
    "df_on_1b = df[(df['on_1b'] == 1) & (df['on_2b'] == 0) & (df['on_3b'] == 0)]\n",
    "df_on_2b = df[(df['on_1b'] == 0) & (df['on_2b'] == 1) & (df['on_3b'] == 0)]\n",
    "df_on_3b = df[(df['on_1b'] == 0) & (df['on_2b'] == 0) & (df['on_3b'] == 1)]\n",
    "df_on_1b2b = df[(df['on_1b'] == 1) & (df['on_2b'] == 1) & (df['on_3b'] == 0)]\n",
    "df_on_1b3b = df[(df['on_1b'] == 1) & (df['on_2b'] == 0) & (df['on_3b'] == 1)]\n",
    "df_on_2b3b = df[(df['on_1b'] == 0) & (df['on_2b'] == 1) & (df['on_3b'] == 1)]\n",
    "df_allrunner = df[(df['on_1b'] == 1) & (df['on_2b'] == 1) & (df['on_3b'] == 1)]\n",
    "\n",
    "# Calculating the fastball percentage for every scenario\n",
    "runners_list = [df_norunner, df_on_1b, df_on_2b, df_on_3b, df_on_1b2b, df_on_1b3b, df_on_2b3b, df_allrunner]\n",
    "runners_data = []\n",
    "for i in range(len(runners_list)):\n",
    "    runners_data.append(np.sum(runners_list[i]['fastball']) / len(runners_list[i]))\n",
    "print(runners_data)"
   ]
  },
  {
   "cell_type": "code",
   "execution_count": 57,
   "metadata": {},
   "outputs": [
    {
     "data": {
      "image/png": "[encoded data removed]",
      "text/plain": [
       "<Figure size 720x288 with 1 Axes>"
      ]
     },
     "metadata": {},
     "output_type": "display_data"
    }
   ],
   "source": [
    "# Graphing the results\n",
    "_ = sns.set()\n",
    "_ = plt.figure(figsize=(10,4))\n",
    "_ = plt.plot(np.arange(len(runners_data)), runners_data, marker='o', linestyle='none', ms=9, mfc='white', mec='black')\n",
    "_ = plt.title('% of Fastballs - Runners on Base', size='x-large')\n",
    "_ = plt.xlabel('Runners on', size='large')\n",
    "_ = plt.ylabel('% of Fastballs', size='large')\n",
    "_ = plt.xticks(np.arange(len(runners_data)), ['none', '1b', '2b', '3b', '1b & 2b', '1b & 3b', '2b & 3b', '1b 2b & 3b'], rotation=60)\n",
    "_ = plt.axhline(.5241, color='red', linestyle='--')\n",
    "_ = plt.ylim((.44, .55))"
   ]
  },
  {
   "cell_type": "markdown",
   "metadata": {},
   "source": [
    "It appears that the most significant influence on fastball usage is whether there is at least one runner in scoring position (on second or third base).  Interestingly, however, the fastball usage spikes back up to above average when the bases are loaded, likely because a walk in those circumstances results in a run scored."
   ]
  },
  {
   "cell_type": "markdown",
   "metadata": {},
   "source": [
    "#### Batting Count"
   ]
  },
  {
   "cell_type": "code",
   "execution_count": 58,
   "metadata": {},
   "outputs": [
    {
     "name": "stdout",
     "output_type": "stream",
     "text": [
      "[0.55815605998586948, 0.48348919676952473, 0.45932137412008955, 0.54695891951957309, 0.47945308365908201, 0.43763231464884522, 0.64515048189684054, 0.55715351157986448, 0.46801969351213957, 0.73835669434276696, 0.70671894096919097, 0.58476357772274379]\n"
     ]
    }
   ],
   "source": [
    "# Dividing the data based on batting count\n",
    "df_0_0 = df[(df['b_count'] == 0) & (df['s_count'] == 0)]\n",
    "df_0_1 = df[(df['b_count'] == 0) & (df['s_count'] == 1)]\n",
    "df_0_2 = df[(df['b_count'] == 0) & (df['s_count'] == 2)]\n",
    "df_1_0 = df[(df['b_count'] == 1) & (df['s_count'] == 0)]\n",
    "df_1_1 = df[(df['b_count'] == 1) & (df['s_count'] == 1)]\n",
    "df_1_2 = df[(df['b_count'] == 1) & (df['s_count'] == 2)]\n",
    "df_2_0 = df[(df['b_count'] == 2) & (df['s_count'] == 0)]\n",
    "df_2_1 = df[(df['b_count'] == 2) & (df['s_count'] == 1)]\n",
    "df_2_2 = df[(df['b_count'] == 2) & (df['s_count'] == 2)]\n",
    "df_3_0 = df[(df['b_count'] == 3) & (df['s_count'] == 0)]\n",
    "df_3_1 = df[(df['b_count'] == 3) & (df['s_count'] == 1)]\n",
    "df_3_2 = df[(df['b_count'] == 3) & (df['s_count'] == 2)]\n",
    "\n",
    "# Calculating the fastball percentage for every scenario\n",
    "count_list = [df_0_0, df_0_1, df_0_2, df_1_0, df_1_1, df_1_2, df_2_0, df_2_1, df_2_2, df_3_0, df_3_1, df_3_2]\n",
    "count_data = []\n",
    "for i in range(len(count_list)):\n",
    "    count_data.append(np.sum(count_list[i]['fastball']) / len(count_list[i]))\n",
    "print(count_data)"
   ]
  },
  {
   "cell_type": "code",
   "execution_count": 59,
   "metadata": {},
   "outputs": [
    {
     "data": {
      "image/png": "[encoded data removed]",
      "text/plain": [
       "<Figure size 864x288 with 1 Axes>"
      ]
     },
     "metadata": {},
     "output_type": "display_data"
    }
   ],
   "source": [
    "# Graphing the results\n",
    "_ = sns.set()\n",
    "_ = plt.figure(figsize=(12,4))\n",
    "_ = plt.plot(np.arange(len(count_data)), count_data, marker='o', linestyle='none', ms=9, mfc='white', mec='black')\n",
    "_ = plt.title('% of Fastballs - Batting Count', size='x-large')\n",
    "_ = plt.xlabel('Batting Count', size='large')\n",
    "_ = plt.ylabel('% of Fastballs', size='large')\n",
    "_ = plt.xticks(np.arange(len(count_data)), ['0-0', '0-1', '0-2', '1-0', '1-1', '1-2', '2-0', '2-1', '2-2', '3-0', '3-1', '3-2'], rotation=60)\n",
    "_ = plt.axhline(.5241, color='red', linestyle='--')\n",
    "_ = plt.ylim((.40, .75))"
   ]
  },
  {
   "cell_type": "markdown",
   "metadata": {},
   "source": [
    "It appears that a pitcher's fastball usage decreases when he is ahead in the count and increases when he is behind in the count (likely because he needs to try to avoid walking the batter)."
   ]
  },
  {
   "cell_type": "markdown",
   "metadata": {},
   "source": [
    "#### Number of Outs"
   ]
  },
  {
   "cell_type": "code",
   "execution_count": 60,
   "metadata": {},
   "outputs": [
    {
     "name": "stdout",
     "output_type": "stream",
     "text": [
      "[0.54381150037267556, 0.51983792459283817, 0.50760966204274005]\n"
     ]
    }
   ],
   "source": [
    "# Dividing the data based on number of outs\n",
    "df_0outs = df[df['outs'] == 0]\n",
    "df_1outs = df[df['outs'] == 1]\n",
    "df_2outs = df[df['outs'] == 2]\n",
    "\n",
    "# Calculating the fastball percentages for every scenario\n",
    "outs_list = [df_0outs, df_1outs, df_2outs]\n",
    "outs_data = []\n",
    "for i in range(len(outs_list)):\n",
    "    outs_data.append(np.sum(outs_list[i]['fastball']) / len(outs_list[i]))\n",
    "print(outs_data)"
   ]
  },
  {
   "cell_type": "code",
   "execution_count": 61,
   "metadata": {},
   "outputs": [
    {
     "data": {
      "image/png": "[encoded data removed]",
      "text/plain": [
       "<Figure size 432x288 with 1 Axes>"
      ]
     },
     "metadata": {},
     "output_type": "display_data"
    }
   ],
   "source": [
    "# Graphing the results\n",
    "_ = sns.set()\n",
    "_ = plt.figure(figsize=(6,4))\n",
    "_ = plt.plot(np.arange(len(outs_data)), outs_data, marker='o', linestyle='none', ms=9, mfc='white', mec='black')\n",
    "_ = plt.title('% of Fastballs - Number of Outs', size='x-large')\n",
    "_ = plt.xlabel('Number of Outs')\n",
    "_ = plt.ylabel('% of Fastballs')\n",
    "_ = plt.xticks(np.arange(len(outs_data)), ['0', '1', '2'])\n",
    "_ = plt.axhline(.5241, color='red', linestyle='--')\n",
    "_ = plt.ylim((.48, .58))"
   ]
  },
  {
   "cell_type": "markdown",
   "metadata": {},
   "source": [
    "Fastball usage appears to decrease depending upon the number of outs."
   ]
  },
  {
   "cell_type": "markdown",
   "metadata": {},
   "source": [
    "#### Pitch Sequence"
   ]
  },
  {
   "cell_type": "code",
   "execution_count": 62,
   "metadata": {},
   "outputs": [
    {
     "name": "stdout",
     "output_type": "stream",
     "text": [
      "[0.55815605998586948, 0.51159456606753684, 0.50673537638219845, 0.50739009692966885, 0.51778212035701443, 0.52003410645891068, 0.54035918083002943]\n"
     ]
    }
   ],
   "source": [
    "# Dividing the data by pitch sequence\n",
    "df_pitch1 = df[df['pitch_num'] == 1]\n",
    "df_pitch2 = df[df['pitch_num'] == 2]\n",
    "df_pitch3 = df[df['pitch_num'] == 3]\n",
    "df_pitch4 = df[df['pitch_num'] == 4]\n",
    "df_pitch5 = df[df['pitch_num'] == 5]\n",
    "df_pitch6 = df[df['pitch_num'] == 6]\n",
    "df_pitch7plus = df[df['pitch_num'] > 6]\n",
    "\n",
    "# Calculating the fastball percentage for each pitch\n",
    "pitch_list = [df_pitch1, df_pitch2, df_pitch3, df_pitch4, df_pitch5, df_pitch6, df_pitch7plus]\n",
    "pitch_data = []\n",
    "for i in range(len(pitch_list)):\n",
    "    pitch_data.append(np.sum(pitch_list[i]['fastball']) / len(pitch_list[i]))\n",
    "print(pitch_data)"
   ]
  },
  {
   "cell_type": "code",
   "execution_count": 63,
   "metadata": {},
   "outputs": [
    {
     "data": {
      "image/png": "[encoded data removed]",
      "text/plain": [
       "<Figure size 720x288 with 1 Axes>"
      ]
     },
     "metadata": {},
     "output_type": "display_data"
    }
   ],
   "source": [
    "# Graphing the results\n",
    "_ = sns.set()\n",
    "_ = plt.figure(figsize=(10,4))\n",
    "_ = plt.plot(np.arange(len(pitch_data)), pitch_data, marker='o', linestyle='none', ms=9, mfc='white', mec='black')\n",
    "_ = plt.title('% of Fastballs - # of Pitch in At-Bat', size='x-large')\n",
    "_ = plt.xlabel('Pitch Number')\n",
    "_ = plt.ylabel('% of Fastballs')\n",
    "_ = plt.xticks(np.arange(len(pitch_data)), ['1', '2', '3', '4', '5', '6', '>6'])\n",
    "_ = plt.axhline(.5241, color='red', linestyle='--')\n",
    "_ = plt.ylim((.49, .57))"
   ]
  },
  {
   "cell_type": "markdown",
   "metadata": {},
   "source": [
    "It appears that pitchers throw more than average amounts of fastballs by a considerable amount on the first pitch of an at-bat and any pitch after the sixth pitch in a long at-bat.   "
   ]
  },
  {
   "cell_type": "markdown",
   "metadata": {},
   "source": [
    "#### Inning"
   ]
  },
  {
   "cell_type": "code",
   "execution_count": 17,
   "metadata": {},
   "outputs": [
    {
     "name": "stdout",
     "output_type": "stream",
     "text": [
      "[0.58602136017309003, 0.54601993581915764, 0.51732048417837351, 0.49899914212181873, 0.50073934753767191, 0.49816204051012752, 0.51347054860233554, 0.52169509216283905, 0.53914277186512338, 0.5006379728636895]\n"
     ]
    }
   ],
   "source": [
    "# Dividing the data by inning\n",
    "df_first = df[df['inning'] == 1]\n",
    "df_second = df[df['inning'] == 2]\n",
    "df_third = df[df['inning'] == 3]\n",
    "df_fourth = df[df['inning'] == 4]\n",
    "df_fifth = df[df['inning'] == 5]\n",
    "df_sixth = df[df['inning'] == 6]\n",
    "df_seventh = df[df['inning'] == 7]\n",
    "df_eighth = df[df['inning'] == 8]\n",
    "df_ninth = df[df['inning'] == 9]\n",
    "df_extra = df[df['inning'] > 9]\n",
    "\n",
    "# Calculating the fastball percentage for each inning\n",
    "inning_list = [df_first, df_second, df_third, df_fourth, df_fifth, df_sixth, df_seventh, df_eighth, df_ninth, df_extra]\n",
    "inning_data = []\n",
    "for i in range(len(inning_list)):\n",
    "    inning_data.append(np.sum(inning_list[i]['fastball']) / len(inning_list[i]))\n",
    "print(inning_data)"
   ]
  },
  {
   "cell_type": "code",
   "execution_count": 18,
   "metadata": {},
   "outputs": [
    {
     "data": {
      "image/png": "[encoded data removed]",
      "text/plain": [
       "<Figure size 720x288 with 1 Axes>"
      ]
     },
     "metadata": {},
     "output_type": "display_data"
    }
   ],
   "source": [
    "# Graphing the results\n",
    "_ = sns.set()\n",
    "_ = plt.figure(figsize=(10,4))\n",
    "_ = plt.plot(np.arange(len(inning_data)), inning_data, marker='o', linestyle='none', ms=9, mfc='white', mec='black')\n",
    "_ = plt.title('% of Fastballs - Inning', size='x-large')\n",
    "_ = plt.xlabel('Inning')\n",
    "_ = plt.ylabel('% of Fastballs')\n",
    "_ = plt.xticks(np.arange(len(inning_data)), ['1', '2', '3', '4', '5', '6', '7', '8', '9', 'extra'])\n",
    "_ = plt.axhline(.5241, color='red', linestyle='--')\n",
    "_ = plt.ylim((.48, .60))"
   ]
  },
  {
   "cell_type": "markdown",
   "metadata": {},
   "source": [
    "It appears that fastballs are thrown higher than average in the early innings and the ninth inning.  The middle innings appear to be when the least amount of fastballs are thrown."
   ]
  },
  {
   "cell_type": "markdown",
   "metadata": {},
   "source": [
    "#### Pitcher/Batter Dominant Hand"
   ]
  },
  {
   "cell_type": "code",
   "execution_count": 20,
   "metadata": {},
   "outputs": [
    {
     "name": "stdout",
     "output_type": "stream",
     "text": [
      "[0.52710910954392154, 0.50966883141613062, 0.53277793410585361, 0.50568841314000401]\n"
     ]
    }
   ],
   "source": [
    "# Dividing the data based on pitcher and batter handedness\n",
    "df_RvR = df[(df['p_throws'] == 'R') & (df['stand'] == 'R')]\n",
    "df_LvR = df[(df['p_throws'] == 'L') & (df['stand'] == 'R')]\n",
    "df_RvL = df[(df['p_throws'] == 'R') & (df['stand'] == 'L')]\n",
    "df_LvL = df[(df['p_throws'] == 'L') & (df['stand'] == 'L')]\n",
    "\n",
    "# Calculate the fastball percentage for each circumstance\n",
    "PvB_list = [df_RvR, df_LvR, df_RvL, df_LvL]\n",
    "PvB_data = []\n",
    "for i in range(len(PvB_list)):\n",
    "    PvB_data.append(np.sum(PvB_list[i]['fastball']) / len(PvB_list[i]))\n",
    "print(PvB_data)"
   ]
  },
  {
   "cell_type": "code",
   "execution_count": 21,
   "metadata": {},
   "outputs": [
    {
     "data": {
      "image/png": "[encoded data removed]",
      "text/plain": [
       "<Figure size 432x288 with 1 Axes>"
      ]
     },
     "metadata": {},
     "output_type": "display_data"
    }
   ],
   "source": [
    "# Graphing the results\n",
    "_ = sns.set()\n",
    "_ = plt.figure(figsize=(6,4))\n",
    "_ = plt.plot(np.arange(len(PvB_data)), PvB_data, marker='o', linestyle='none', ms=9, mfc='white', mec='black')\n",
    "_ = plt.title('% of Fastballs - Pitcher v. Batter', size='x-large')\n",
    "_ = plt.xlabel('Pitcher Hand (1st) v. Batter Hand (2nd)')\n",
    "_ = plt.ylabel('% of Fastballs')\n",
    "_ = plt.xticks(np.arange(len(PvB_data)), ['R v R', 'L v R', 'R v L', 'L v L'])\n",
    "_ = plt.axhline(.5241, color='red', linestyle='--')\n",
    "_ = plt.ylim((.49, .55))"
   ]
  },
  {
   "cell_type": "markdown",
   "metadata": {},
   "source": [
    "It appears that right-handed pitchers throw fastballs more often than left-handed pitchers regardless of the handedness of the batter."
   ]
  },
  {
   "cell_type": "markdown",
   "metadata": {},
   "source": [
    "#### Game Score"
   ]
  },
  {
   "cell_type": "code",
   "execution_count": 22,
   "metadata": {},
   "outputs": [
    {
     "name": "stdout",
     "output_type": "stream",
     "text": [
      "[0.55555898036556417, 0.54266279883965185, 0.53779787677603519, 0.53549848942598188, 0.53353558093564679, 0.53543265084769875, 0.53353777772259714, 0.52850056784020305, 0.52585502475926482, 0.54121982380410005, 0.50921017815552194, 0.5001362339818638, 0.49628746200900242, 0.50255799349881791, 0.51092482193177469, 0.50148450946643719, 0.50920472520445592, 0.50147026791548677, 0.51113211852527951]\n"
     ]
    }
   ],
   "source": [
    "# Dividing the data based on game score\n",
    "df_tie = df[(df['p_score'] - df['b_score']) == 0]\n",
    "df_pitcher1 = df[(df['p_score'] - df['b_score']) == 1]\n",
    "df_pitcher2 = df[(df['p_score'] - df['b_score']) == 2]\n",
    "df_pitcher3 = df[(df['p_score'] - df['b_score']) == 3]\n",
    "df_pitcher4 = df[(df['p_score'] - df['b_score']) == 4]\n",
    "df_pitcher5 = df[(df['p_score'] - df['b_score']) == 5]\n",
    "df_pitcher6 = df[(df['p_score'] - df['b_score']) == 6]\n",
    "df_pitcher7 = df[(df['p_score'] - df['b_score']) == 7]\n",
    "df_pitcher8 = df[(df['p_score'] - df['b_score']) == 8]\n",
    "df_pitcher9plus = df[(df['p_score'] - df['b_score']) > 8]\n",
    "df_batter1 = df[(df['b_score'] - df['p_score']) == 1]\n",
    "df_batter2 = df[(df['b_score'] - df['p_score']) == 2]\n",
    "df_batter3 = df[(df['b_score'] - df['p_score']) == 3]\n",
    "df_batter4 = df[(df['b_score'] - df['p_score']) == 4]\n",
    "df_batter5 = df[(df['b_score'] - df['p_score']) == 5]\n",
    "df_batter6 = df[(df['b_score'] - df['p_score']) == 6]\n",
    "df_batter7 = df[(df['b_score'] - df['p_score']) == 7]\n",
    "df_batter8 = df[(df['b_score'] - df['p_score']) == 8]\n",
    "df_batter9plus = df[(df['b_score'] - df['p_score']) > 8]\n",
    "\n",
    "# Calculating the fastball percentage for each score\n",
    "score_list = [df_pitcher9plus, df_pitcher8, df_pitcher7, df_pitcher6, df_pitcher5, df_pitcher4, df_pitcher3, df_pitcher2, df_pitcher1, df_tie, df_batter1, df_batter2, df_batter3, df_batter4, df_batter5, df_batter6, df_batter7, df_batter8, df_batter9plus]\n",
    "score_data = []\n",
    "for i in range(len(score_list)):\n",
    "    score_data.append(np.sum(score_list[i]['fastball']) / len(score_list[i]))\n",
    "print(score_data)"
   ]
  },
  {
   "cell_type": "code",
   "execution_count": 25,
   "metadata": {},
   "outputs": [
    {
     "data": {
      "image/png": "[encoded data removed]",
      "text/plain": [
       "<Figure size 1008x288 with 1 Axes>"
      ]
     },
     "metadata": {},
     "output_type": "display_data"
    }
   ],
   "source": [
    "# Graphing the results\n",
    "_ = sns.set()\n",
    "_ = plt.figure(figsize=(14,4))\n",
    "_ = plt.plot(np.arange(len(score_data)), score_data, marker='o', linestyle='none', ms=9, mfc='white', mec='black')\n",
    "_ = plt.title('% of Fastballs - Game Score', size='x-large')\n",
    "_ = plt.xlabel('Game Score (P for pitching team, B for batting team)')\n",
    "_ = plt.ylabel('% of Fastballs')\n",
    "_ = plt.xticks(np.arange(len(score_data)), ['P+>8', 'P+8', 'P+7', 'P+6', 'P+5', 'P+4', 'P+3', 'P+2', 'P+1', 'Tie', 'B+1', 'B+2', 'B+3', 'B+4', 'B+5', 'B+6', 'B+7', 'B+8', 'B+>8'])\n",
    "_ = plt.axhline(.5241, color='red', linestyle='--')\n",
    "_ = plt.ylim((.48, .57))"
   ]
  },
  {
   "cell_type": "markdown",
   "metadata": {},
   "source": [
    "Pitchers appear to throw more fastballs than usual when their team is winning or the game is tied and significantly less fastballs when their team is behind."
   ]
  },
  {
   "cell_type": "markdown",
   "metadata": {},
   "source": [
    "In summary, it certainly appears as though some correlation exists between certain game circumstances and the likelihood that a pitcher will throw a fastball on the next pitch.  I therefore am hopeful that a model can predict when a fastball will be thrown at a rate higher than the baseline 52.41 percent."
   ]
  },
  {
   "cell_type": "markdown",
   "metadata": {},
   "source": [
    "## Finalizing the Data for Model Formation"
   ]
  },
  {
   "cell_type": "markdown",
   "metadata": {},
   "source": [
    "Having uncovered enough potential correlation between the data features and the target label through some exploratory data analysis, I now turn to building a machine learning model.  I first need to build a dataframe that is compatible with the various classifier algorithms available.  I will name the new dataframe `df_model`.  Let's first review what features are available in the current dataframe:"
   ]
  },
  {
   "cell_type": "code",
   "execution_count": 13,
   "metadata": {},
   "outputs": [
    {
     "data": {
      "text/html": [
       "<div>\n",
       "<style scoped>\n",
       "    .dataframe tbody tr th:only-of-type {\n",
       "        vertical-align: middle;\n",
       "    }\n",
       "\n",
       "    .dataframe tbody tr th {\n",
       "        vertical-align: top;\n",
       "    }\n",
       "\n",
       "    .dataframe thead th {\n",
       "        text-align: right;\n",
       "    }\n",
       "</style>\n",
       "<table border=\"1\" class=\"dataframe\">\n",
       "  <thead>\n",
       "    <tr style=\"text-align: right;\">\n",
       "      <th></th>\n",
       "      <th>px</th>\n",
       "      <th>pz</th>\n",
       "      <th>start_speed</th>\n",
       "      <th>end_speed</th>\n",
       "      <th>spin_rate</th>\n",
       "      <th>spin_dir</th>\n",
       "      <th>break_angle</th>\n",
       "      <th>break_length</th>\n",
       "      <th>break_y</th>\n",
       "      <th>ax</th>\n",
       "      <th>ay</th>\n",
       "      <th>az</th>\n",
       "      <th>sz_bot</th>\n",
       "      <th>sz_top</th>\n",
       "      <th>type_confidence</th>\n",
       "      <th>vx0</th>\n",
       "      <th>vy0</th>\n",
       "      <th>vz0</th>\n",
       "      <th>x</th>\n",
       "      <th>x0</th>\n",
       "      <th>y</th>\n",
       "      <th>y0</th>\n",
       "      <th>z0</th>\n",
       "      <th>pfx_x</th>\n",
       "      <th>pfx_z</th>\n",
       "      <th>nasty</th>\n",
       "      <th>zone</th>\n",
       "      <th>code</th>\n",
       "      <th>type</th>\n",
       "      <th>pitch_type</th>\n",
       "      <th>event_num</th>\n",
       "      <th>b_score</th>\n",
       "      <th>ab_id</th>\n",
       "      <th>b_count</th>\n",
       "      <th>s_count</th>\n",
       "      <th>outs</th>\n",
       "      <th>pitch_num</th>\n",
       "      <th>on_1b</th>\n",
       "      <th>on_2b</th>\n",
       "      <th>on_3b</th>\n",
       "      <th>batter_id</th>\n",
       "      <th>event</th>\n",
       "      <th>g_id</th>\n",
       "      <th>inning</th>\n",
       "      <th>o</th>\n",
       "      <th>p_score</th>\n",
       "      <th>p_throws</th>\n",
       "      <th>pitcher_id</th>\n",
       "      <th>stand</th>\n",
       "      <th>top</th>\n",
       "      <th>fastball</th>\n",
       "    </tr>\n",
       "  </thead>\n",
       "  <tbody>\n",
       "    <tr>\n",
       "      <th>0</th>\n",
       "      <td>0.416</td>\n",
       "      <td>2.963</td>\n",
       "      <td>92.9</td>\n",
       "      <td>84.1</td>\n",
       "      <td>2305.052</td>\n",
       "      <td>159.235</td>\n",
       "      <td>-25.0</td>\n",
       "      <td>3.2</td>\n",
       "      <td>23.7</td>\n",
       "      <td>7.665</td>\n",
       "      <td>34.685</td>\n",
       "      <td>-11.960</td>\n",
       "      <td>1.72</td>\n",
       "      <td>3.56</td>\n",
       "      <td>2.0</td>\n",
       "      <td>-6.409</td>\n",
       "      <td>-136.065</td>\n",
       "      <td>-3.995</td>\n",
       "      <td>101.140000</td>\n",
       "      <td>2.280</td>\n",
       "      <td>158.780000</td>\n",
       "      <td>50.0</td>\n",
       "      <td>5.302</td>\n",
       "      <td>4.16</td>\n",
       "      <td>10.93</td>\n",
       "      <td>55.0</td>\n",
       "      <td>3.0</td>\n",
       "      <td>C</td>\n",
       "      <td>S</td>\n",
       "      <td>FF</td>\n",
       "      <td>3</td>\n",
       "      <td>0.0</td>\n",
       "      <td>2.015000e+09</td>\n",
       "      <td>0.0</td>\n",
       "      <td>0.0</td>\n",
       "      <td>0.0</td>\n",
       "      <td>1.0</td>\n",
       "      <td>0.0</td>\n",
       "      <td>0.0</td>\n",
       "      <td>0.0</td>\n",
       "      <td>572761</td>\n",
       "      <td>Groundout</td>\n",
       "      <td>201500001</td>\n",
       "      <td>1</td>\n",
       "      <td>1</td>\n",
       "      <td>0</td>\n",
       "      <td>L</td>\n",
       "      <td>452657</td>\n",
       "      <td>L</td>\n",
       "      <td>True</td>\n",
       "      <td>1</td>\n",
       "    </tr>\n",
       "    <tr>\n",
       "      <th>1</th>\n",
       "      <td>-0.191</td>\n",
       "      <td>2.347</td>\n",
       "      <td>92.8</td>\n",
       "      <td>84.1</td>\n",
       "      <td>2689.935</td>\n",
       "      <td>151.402</td>\n",
       "      <td>-40.7</td>\n",
       "      <td>3.4</td>\n",
       "      <td>23.7</td>\n",
       "      <td>12.043</td>\n",
       "      <td>34.225</td>\n",
       "      <td>-10.085</td>\n",
       "      <td>1.72</td>\n",
       "      <td>3.56</td>\n",
       "      <td>2.0</td>\n",
       "      <td>-8.411</td>\n",
       "      <td>-135.690</td>\n",
       "      <td>-5.980</td>\n",
       "      <td>124.280000</td>\n",
       "      <td>2.119</td>\n",
       "      <td>175.410000</td>\n",
       "      <td>50.0</td>\n",
       "      <td>5.307</td>\n",
       "      <td>6.57</td>\n",
       "      <td>12.00</td>\n",
       "      <td>31.0</td>\n",
       "      <td>5.0</td>\n",
       "      <td>S</td>\n",
       "      <td>S</td>\n",
       "      <td>FF</td>\n",
       "      <td>4</td>\n",
       "      <td>0.0</td>\n",
       "      <td>2.015000e+09</td>\n",
       "      <td>0.0</td>\n",
       "      <td>1.0</td>\n",
       "      <td>0.0</td>\n",
       "      <td>2.0</td>\n",
       "      <td>0.0</td>\n",
       "      <td>0.0</td>\n",
       "      <td>0.0</td>\n",
       "      <td>572761</td>\n",
       "      <td>Groundout</td>\n",
       "      <td>201500001</td>\n",
       "      <td>1</td>\n",
       "      <td>1</td>\n",
       "      <td>0</td>\n",
       "      <td>L</td>\n",
       "      <td>452657</td>\n",
       "      <td>L</td>\n",
       "      <td>True</td>\n",
       "      <td>1</td>\n",
       "    </tr>\n",
       "    <tr>\n",
       "      <th>2</th>\n",
       "      <td>-0.518</td>\n",
       "      <td>3.284</td>\n",
       "      <td>94.1</td>\n",
       "      <td>85.2</td>\n",
       "      <td>2647.972</td>\n",
       "      <td>145.125</td>\n",
       "      <td>-43.7</td>\n",
       "      <td>3.7</td>\n",
       "      <td>23.7</td>\n",
       "      <td>14.368</td>\n",
       "      <td>35.276</td>\n",
       "      <td>-11.560</td>\n",
       "      <td>1.72</td>\n",
       "      <td>3.56</td>\n",
       "      <td>2.0</td>\n",
       "      <td>-9.802</td>\n",
       "      <td>-137.668</td>\n",
       "      <td>-3.337</td>\n",
       "      <td>136.740000</td>\n",
       "      <td>2.127</td>\n",
       "      <td>150.110000</td>\n",
       "      <td>50.0</td>\n",
       "      <td>5.313</td>\n",
       "      <td>7.61</td>\n",
       "      <td>10.88</td>\n",
       "      <td>49.0</td>\n",
       "      <td>1.0</td>\n",
       "      <td>F</td>\n",
       "      <td>S</td>\n",
       "      <td>FF</td>\n",
       "      <td>5</td>\n",
       "      <td>0.0</td>\n",
       "      <td>2.015000e+09</td>\n",
       "      <td>0.0</td>\n",
       "      <td>2.0</td>\n",
       "      <td>0.0</td>\n",
       "      <td>3.0</td>\n",
       "      <td>0.0</td>\n",
       "      <td>0.0</td>\n",
       "      <td>0.0</td>\n",
       "      <td>572761</td>\n",
       "      <td>Groundout</td>\n",
       "      <td>201500001</td>\n",
       "      <td>1</td>\n",
       "      <td>1</td>\n",
       "      <td>0</td>\n",
       "      <td>L</td>\n",
       "      <td>452657</td>\n",
       "      <td>L</td>\n",
       "      <td>True</td>\n",
       "      <td>1</td>\n",
       "    </tr>\n",
       "    <tr>\n",
       "      <th>3</th>\n",
       "      <td>-0.641</td>\n",
       "      <td>1.221</td>\n",
       "      <td>91.0</td>\n",
       "      <td>84.0</td>\n",
       "      <td>1289.590</td>\n",
       "      <td>169.751</td>\n",
       "      <td>-1.3</td>\n",
       "      <td>5.0</td>\n",
       "      <td>23.8</td>\n",
       "      <td>2.104</td>\n",
       "      <td>28.354</td>\n",
       "      <td>-20.540</td>\n",
       "      <td>1.74</td>\n",
       "      <td>3.35</td>\n",
       "      <td>2.0</td>\n",
       "      <td>-8.071</td>\n",
       "      <td>-133.005</td>\n",
       "      <td>-6.567</td>\n",
       "      <td>109.685636</td>\n",
       "      <td>2.279</td>\n",
       "      <td>187.463482</td>\n",
       "      <td>50.0</td>\n",
       "      <td>5.210</td>\n",
       "      <td>1.17</td>\n",
       "      <td>6.45</td>\n",
       "      <td>41.0</td>\n",
       "      <td>13.0</td>\n",
       "      <td>B</td>\n",
       "      <td>B</td>\n",
       "      <td>FF</td>\n",
       "      <td>6</td>\n",
       "      <td>0.0</td>\n",
       "      <td>2.015000e+09</td>\n",
       "      <td>0.0</td>\n",
       "      <td>2.0</td>\n",
       "      <td>0.0</td>\n",
       "      <td>4.0</td>\n",
       "      <td>0.0</td>\n",
       "      <td>0.0</td>\n",
       "      <td>0.0</td>\n",
       "      <td>572761</td>\n",
       "      <td>Groundout</td>\n",
       "      <td>201500001</td>\n",
       "      <td>1</td>\n",
       "      <td>1</td>\n",
       "      <td>0</td>\n",
       "      <td>L</td>\n",
       "      <td>452657</td>\n",
       "      <td>L</td>\n",
       "      <td>True</td>\n",
       "      <td>1</td>\n",
       "    </tr>\n",
       "    <tr>\n",
       "      <th>4</th>\n",
       "      <td>-1.821</td>\n",
       "      <td>2.083</td>\n",
       "      <td>75.4</td>\n",
       "      <td>69.6</td>\n",
       "      <td>1374.569</td>\n",
       "      <td>280.671</td>\n",
       "      <td>18.4</td>\n",
       "      <td>12.0</td>\n",
       "      <td>23.8</td>\n",
       "      <td>-10.280</td>\n",
       "      <td>21.774</td>\n",
       "      <td>-34.111</td>\n",
       "      <td>1.72</td>\n",
       "      <td>3.56</td>\n",
       "      <td>2.0</td>\n",
       "      <td>-6.309</td>\n",
       "      <td>-110.409</td>\n",
       "      <td>0.325</td>\n",
       "      <td>146.527525</td>\n",
       "      <td>2.179</td>\n",
       "      <td>177.242829</td>\n",
       "      <td>50.0</td>\n",
       "      <td>5.557</td>\n",
       "      <td>-8.43</td>\n",
       "      <td>-1.65</td>\n",
       "      <td>18.0</td>\n",
       "      <td>13.0</td>\n",
       "      <td>B</td>\n",
       "      <td>B</td>\n",
       "      <td>CU</td>\n",
       "      <td>7</td>\n",
       "      <td>0.0</td>\n",
       "      <td>2.015000e+09</td>\n",
       "      <td>1.0</td>\n",
       "      <td>2.0</td>\n",
       "      <td>0.0</td>\n",
       "      <td>5.0</td>\n",
       "      <td>0.0</td>\n",
       "      <td>0.0</td>\n",
       "      <td>0.0</td>\n",
       "      <td>572761</td>\n",
       "      <td>Groundout</td>\n",
       "      <td>201500001</td>\n",
       "      <td>1</td>\n",
       "      <td>1</td>\n",
       "      <td>0</td>\n",
       "      <td>L</td>\n",
       "      <td>452657</td>\n",
       "      <td>L</td>\n",
       "      <td>True</td>\n",
       "      <td>0</td>\n",
       "    </tr>\n",
       "  </tbody>\n",
       "</table>\n",
       "</div>"
      ],
      "text/plain": [
       "      px     pz  start_speed  end_speed  spin_rate  spin_dir  break_angle  \\\n",
       "0  0.416  2.963         92.9       84.1   2305.052   159.235        -25.0   \n",
       "1 -0.191  2.347         92.8       84.1   2689.935   151.402        -40.7   \n",
       "2 -0.518  3.284         94.1       85.2   2647.972   145.125        -43.7   \n",
       "3 -0.641  1.221         91.0       84.0   1289.590   169.751         -1.3   \n",
       "4 -1.821  2.083         75.4       69.6   1374.569   280.671         18.4   \n",
       "\n",
       "   break_length  break_y      ax      ay      az  sz_bot  sz_top  \\\n",
       "0           3.2     23.7   7.665  34.685 -11.960    1.72    3.56   \n",
       "1           3.4     23.7  12.043  34.225 -10.085    1.72    3.56   \n",
       "2           3.7     23.7  14.368  35.276 -11.560    1.72    3.56   \n",
       "3           5.0     23.8   2.104  28.354 -20.540    1.74    3.35   \n",
       "4          12.0     23.8 -10.280  21.774 -34.111    1.72    3.56   \n",
       "\n",
       "   type_confidence    vx0      vy0    vz0           x     x0           y  \\\n",
       "0              2.0 -6.409 -136.065 -3.995  101.140000  2.280  158.780000   \n",
       "1              2.0 -8.411 -135.690 -5.980  124.280000  2.119  175.410000   \n",
       "2              2.0 -9.802 -137.668 -3.337  136.740000  2.127  150.110000   \n",
       "3              2.0 -8.071 -133.005 -6.567  109.685636  2.279  187.463482   \n",
       "4              2.0 -6.309 -110.409  0.325  146.527525  2.179  177.242829   \n",
       "\n",
       "     y0     z0  pfx_x  pfx_z  nasty  zone code type pitch_type  event_num  \\\n",
       "0  50.0  5.302   4.16  10.93   55.0   3.0    C    S         FF          3   \n",
       "1  50.0  5.307   6.57  12.00   31.0   5.0    S    S         FF          4   \n",
       "2  50.0  5.313   7.61  10.88   49.0   1.0    F    S         FF          5   \n",
       "3  50.0  5.210   1.17   6.45   41.0  13.0    B    B         FF          6   \n",
       "4  50.0  5.557  -8.43  -1.65   18.0  13.0    B    B         CU          7   \n",
       "\n",
       "   b_score         ab_id  b_count  s_count  outs  pitch_num  on_1b  on_2b  \\\n",
       "0      0.0  2.015000e+09      0.0      0.0   0.0        1.0    0.0    0.0   \n",
       "1      0.0  2.015000e+09      0.0      1.0   0.0        2.0    0.0    0.0   \n",
       "2      0.0  2.015000e+09      0.0      2.0   0.0        3.0    0.0    0.0   \n",
       "3      0.0  2.015000e+09      0.0      2.0   0.0        4.0    0.0    0.0   \n",
       "4      0.0  2.015000e+09      1.0      2.0   0.0        5.0    0.0    0.0   \n",
       "\n",
       "   on_3b  batter_id      event       g_id  inning  o  p_score p_throws  \\\n",
       "0    0.0     572761  Groundout  201500001       1  1        0        L   \n",
       "1    0.0     572761  Groundout  201500001       1  1        0        L   \n",
       "2    0.0     572761  Groundout  201500001       1  1        0        L   \n",
       "3    0.0     572761  Groundout  201500001       1  1        0        L   \n",
       "4    0.0     572761  Groundout  201500001       1  1        0        L   \n",
       "\n",
       "   pitcher_id stand   top  fastball  \n",
       "0      452657     L  True         1  \n",
       "1      452657     L  True         1  \n",
       "2      452657     L  True         1  \n",
       "3      452657     L  True         1  \n",
       "4      452657     L  True         0  "
      ]
     },
     "execution_count": 13,
     "metadata": {},
     "output_type": "execute_result"
    }
   ],
   "source": [
    "df.head()"
   ]
  },
  {
   "cell_type": "markdown",
   "metadata": {},
   "source": [
    "Before adding any features, I will first create the dataframe with the `ab_id` column so that I will be able to track the data if necessary.  I will also add the `fastball` column.  Placing the target label prior to all of the model features will make things easier down the road.  I also will add the runners on base features, as they are binary categorical numerical features (i.e., values of 0 or 1) that can be used as is."
   ]
  },
  {
   "cell_type": "code",
   "execution_count": 14,
   "metadata": {},
   "outputs": [],
   "source": [
    "df_model = df.loc[:, ['ab_id', 'fastball', 'on_1b', 'on_2b', 'on_3b']]"
   ]
  },
  {
   "cell_type": "markdown",
   "metadata": {},
   "source": [
    "### Binary Categorical Features"
   ]
  },
  {
   "cell_type": "markdown",
   "metadata": {},
   "source": [
    "There are three binary categorical features of interest:\n",
    "- `p_throws` (whether the pitcher is right or left-handed with values of R and L);\n",
    "- `stand` (whether the batter is right or left-handed with values of R and L); and\n",
    "- `top` (whether it is the top or the bottom of the inning with boolean values of True for top and False for bottom).\n",
    "\n",
    "I will convert these into binary numerical features and add them to the dataframe."
   ]
  },
  {
   "cell_type": "code",
   "execution_count": 15,
   "metadata": {},
   "outputs": [],
   "source": [
    "df_model['p_throws_num'] = np.where(df.loc[:, 'p_throws'] == 'R', 1, 0)\n",
    "df_model['stand_num'] = np.where(df.loc[:, 'stand'] == 'R', 1, 0)\n",
    "df_model['top_num'] = np.where(df.loc[:, 'top'] == True, 1, 0)"
   ]
  },
  {
   "cell_type": "markdown",
   "metadata": {},
   "source": [
    "### Multi-Categorical Features\n",
    "\n",
    "For the multi-catergorical features, I will need to build dummy variables to add to the model dataframe.  I will address each one separately."
   ]
  },
  {
   "cell_type": "markdown",
   "metadata": {},
   "source": [
    "### Pitch Number\n",
    "\n",
    "This features provides the pitch number of each at-bat.  Because any at-bat with 10 or more pitches is rare, we will combine all such instances into one column, get the dummy variables (with the first value dropped), and add them to the model dataframe."
   ]
  },
  {
   "cell_type": "code",
   "execution_count": 16,
   "metadata": {},
   "outputs": [],
   "source": [
    "# Convert to int datatype\n",
    "df['pitch_num'] = df['pitch_num'].astype('int')\n",
    "\n",
    "# Combine the outlier values into one column\n",
    "df['pitch_num'] = df['pitch_num'].replace([11, 12, 13, 14, 15, 16, 17, 18, 19, 20, 21], 10)\n",
    "\n",
    "# Create the dummy variables\n",
    "df_dummies = pd.get_dummies(df['pitch_num'], prefix='pitch_num', drop_first=True)\n",
    "\n",
    "# Add the dummy variables to the model dataframe\n",
    "df_model = pd.concat([df_model, df_dummies], axis=1)"
   ]
  },
  {
   "cell_type": "markdown",
   "metadata": {},
   "source": [
    "### Batting Count - Balls\n",
    "\n",
    "The values in this column should range from 0-3, but we have a few values of 4.  I will convert those to 3 and then create the dummy variables and add them to the model."
   ]
  },
  {
   "cell_type": "code",
   "execution_count": 17,
   "metadata": {},
   "outputs": [
    {
     "data": {
      "text/plain": [
       "0.0    1292084\n",
       "1.0     855623\n",
       "2.0     483926\n",
       "3.0     235508\n",
       "4.0         13\n",
       "Name: b_count, dtype: int64"
      ]
     },
     "execution_count": 17,
     "metadata": {},
     "output_type": "execute_result"
    }
   ],
   "source": [
    "df['b_count'].value_counts()"
   ]
  },
  {
   "cell_type": "code",
   "execution_count": 18,
   "metadata": {},
   "outputs": [],
   "source": [
    "# Convert to int datatype\n",
    "df['b_count'] = df['b_count'].astype('int')\n",
    "\n",
    "# Replace values of 4 as 3\n",
    "df['b_count'] = df['b_count'].replace(4, 3)\n",
    "\n",
    "# Create the dummy variables\n",
    "df_dummies = pd.get_dummies(df['b_count'], prefix='b_count', drop_first=True)\n",
    "\n",
    "# Add the dummy variables to the model dataframe\n",
    "df_model = pd.concat([df_model, df_dummies], axis=1)"
   ]
  },
  {
   "cell_type": "markdown",
   "metadata": {},
   "source": [
    "### Batting Count - Strikes and Outs\n",
    "\n",
    "Both of these features need no manipluation, so I will create dummy variables for each and add them to the model dataframe"
   ]
  },
  {
   "cell_type": "code",
   "execution_count": 19,
   "metadata": {},
   "outputs": [],
   "source": [
    "# Convert s_count to int datatype\n",
    "df['s_count'] = df['s_count'].astype('int')\n",
    "\n",
    "# Create the dummy variables\n",
    "df_dummies = pd.get_dummies(df['s_count'], prefix='s_count', drop_first=True)\n",
    "\n",
    "# Add the dummy variables to the model dataframe\n",
    "df_model = pd.concat([df_model, df_dummies], axis=1)"
   ]
  },
  {
   "cell_type": "code",
   "execution_count": 20,
   "metadata": {},
   "outputs": [],
   "source": [
    "# Convert outs to int datatype\n",
    "df['outs'] = df['outs'].astype('int')\n",
    "\n",
    "# Create the dummy variables\n",
    "df_dummies = pd.get_dummies(df['outs'], prefix='outs', drop_first=True)\n",
    "\n",
    "# Add the dummy variables to the model dataframe\n",
    "df_model = pd.concat([df_model, df_dummies], axis=1)"
   ]
  },
  {
   "cell_type": "markdown",
   "metadata": {},
   "source": [
    "### Inning\n",
    "\n",
    "Similar to the at-bat pitch count, the inning variable has a few outliers for games that went deep into extra innings.  For the purpose of this analysis, I will group all extra inning games together, build the dummy variables, and add them to the model dataframe."
   ]
  },
  {
   "cell_type": "code",
   "execution_count": 21,
   "metadata": {},
   "outputs": [
    {
     "data": {
      "text/plain": [
       "1     333237\n",
       "8     323829\n",
       "7     322073\n",
       "6     319920\n",
       "4     318227\n",
       "2     316917\n",
       "3     316908\n",
       "5     315819\n",
       "9     244579\n",
       "10     25309\n",
       "11     14383\n",
       "12      7560\n",
       "13      4244\n",
       "14      1809\n",
       "15      1076\n",
       "16       693\n",
       "17       308\n",
       "18       191\n",
       "19        72\n",
       "Name: inning, dtype: int64"
      ]
     },
     "execution_count": 21,
     "metadata": {},
     "output_type": "execute_result"
    }
   ],
   "source": [
    "df['inning'].value_counts()"
   ]
  },
  {
   "cell_type": "code",
   "execution_count": 22,
   "metadata": {},
   "outputs": [],
   "source": [
    "# Combine all extra inning games into one column\n",
    "df['inning'] = df['inning'].replace([11, 12, 13, 14, 15, 16, 17, 18, 19], 10)\n",
    "\n",
    "# Create the dummy variables\n",
    "df_dummies = pd.get_dummies(df['inning'], prefix='inning', drop_first=True)\n",
    "\n",
    "# Add the dummy variables to the model dataframe\n",
    "df_model = pd.concat([df_model, df_dummies], axis=1)"
   ]
  },
  {
   "cell_type": "markdown",
   "metadata": {},
   "source": [
    "### Pitcher Score and Batter Score\n",
    "\n",
    "These two features provide the current score for each team for each pitch.  The most efficient way to incorporate this data is to create a new column that provides the difference between the teams' scores.  The outlier scores will also be combined into one column for any spread of 10 or more runs.  Once those calculations are complete, I will create and add the dummy variables to the model dataframe."
   ]
  },
  {
   "cell_type": "code",
   "execution_count": 23,
   "metadata": {},
   "outputs": [],
   "source": [
    "# Create the new difference in score column\n",
    "df['pitcher_lead'] = df['p_score'] - df['b_score']\n",
    "\n",
    "# Combine the outlier score differences\n",
    "df['pitcher_lead'] = df['pitcher_lead'].replace([11, 12, 13, 14, 15, 16, 17, 18, 19, 20, 21, 23, 24], 10).astype('int')\n",
    "df['pitcher_lead'] = df['pitcher_lead'].replace([-11, -12, -13, -14, -15, -16, -17, -18, -19, -20, -23, -24], -10).astype('int')\n",
    "\n",
    "# Create the dummy variables\n",
    "df_dummies = pd.get_dummies(df['pitcher_lead'], prefix='pitcher_lead', drop_first=True)\n",
    "\n",
    "# Add the dummy variables to the model dataframe\n",
    "df_model = pd.concat([df_model, df_dummies], axis=1)"
   ]
  },
  {
   "cell_type": "markdown",
   "metadata": {},
   "source": [
    "Let's review the new model dataframe as it currently stands:"
   ]
  },
  {
   "cell_type": "code",
   "execution_count": 24,
   "metadata": {},
   "outputs": [
    {
     "data": {
      "text/html": [
       "<div>\n",
       "<style scoped>\n",
       "    .dataframe tbody tr th:only-of-type {\n",
       "        vertical-align: middle;\n",
       "    }\n",
       "\n",
       "    .dataframe tbody tr th {\n",
       "        vertical-align: top;\n",
       "    }\n",
       "\n",
       "    .dataframe thead th {\n",
       "        text-align: right;\n",
       "    }\n",
       "</style>\n",
       "<table border=\"1\" class=\"dataframe\">\n",
       "  <thead>\n",
       "    <tr style=\"text-align: right;\">\n",
       "      <th></th>\n",
       "      <th>ab_id</th>\n",
       "      <th>fastball</th>\n",
       "      <th>on_1b</th>\n",
       "      <th>on_2b</th>\n",
       "      <th>on_3b</th>\n",
       "      <th>p_throws_num</th>\n",
       "      <th>stand_num</th>\n",
       "      <th>top_num</th>\n",
       "      <th>pitch_num_2</th>\n",
       "      <th>pitch_num_3</th>\n",
       "      <th>pitch_num_4</th>\n",
       "      <th>pitch_num_5</th>\n",
       "      <th>pitch_num_6</th>\n",
       "      <th>pitch_num_7</th>\n",
       "      <th>pitch_num_8</th>\n",
       "      <th>pitch_num_9</th>\n",
       "      <th>pitch_num_10</th>\n",
       "      <th>b_count_1</th>\n",
       "      <th>b_count_2</th>\n",
       "      <th>b_count_3</th>\n",
       "      <th>s_count_1</th>\n",
       "      <th>s_count_2</th>\n",
       "      <th>outs_1</th>\n",
       "      <th>outs_2</th>\n",
       "      <th>inning_2</th>\n",
       "      <th>inning_3</th>\n",
       "      <th>inning_4</th>\n",
       "      <th>inning_5</th>\n",
       "      <th>inning_6</th>\n",
       "      <th>inning_7</th>\n",
       "      <th>inning_8</th>\n",
       "      <th>inning_9</th>\n",
       "      <th>inning_10</th>\n",
       "      <th>pitcher_lead_-9</th>\n",
       "      <th>pitcher_lead_-8</th>\n",
       "      <th>pitcher_lead_-7</th>\n",
       "      <th>pitcher_lead_-6</th>\n",
       "      <th>pitcher_lead_-5</th>\n",
       "      <th>pitcher_lead_-4</th>\n",
       "      <th>pitcher_lead_-3</th>\n",
       "      <th>pitcher_lead_-2</th>\n",
       "      <th>pitcher_lead_-1</th>\n",
       "      <th>pitcher_lead_0</th>\n",
       "      <th>pitcher_lead_1</th>\n",
       "      <th>pitcher_lead_2</th>\n",
       "      <th>pitcher_lead_3</th>\n",
       "      <th>pitcher_lead_4</th>\n",
       "      <th>pitcher_lead_5</th>\n",
       "      <th>pitcher_lead_6</th>\n",
       "      <th>pitcher_lead_7</th>\n",
       "      <th>pitcher_lead_8</th>\n",
       "      <th>pitcher_lead_9</th>\n",
       "      <th>pitcher_lead_10</th>\n",
       "    </tr>\n",
       "  </thead>\n",
       "  <tbody>\n",
       "    <tr>\n",
       "      <th>0</th>\n",
       "      <td>2.015000e+09</td>\n",
       "      <td>1</td>\n",
       "      <td>0.0</td>\n",
       "      <td>0.0</td>\n",
       "      <td>0.0</td>\n",
       "      <td>0</td>\n",
       "      <td>0</td>\n",
       "      <td>1</td>\n",
       "      <td>0</td>\n",
       "      <td>0</td>\n",
       "      <td>0</td>\n",
       "      <td>0</td>\n",
       "      <td>0</td>\n",
       "      <td>0</td>\n",
       "      <td>0</td>\n",
       "      <td>0</td>\n",
       "      <td>0</td>\n",
       "      <td>0</td>\n",
       "      <td>0</td>\n",
       "      <td>0</td>\n",
       "      <td>0</td>\n",
       "      <td>0</td>\n",
       "      <td>0</td>\n",
       "      <td>0</td>\n",
       "      <td>0</td>\n",
       "      <td>0</td>\n",
       "      <td>0</td>\n",
       "      <td>0</td>\n",
       "      <td>0</td>\n",
       "      <td>0</td>\n",
       "      <td>0</td>\n",
       "      <td>0</td>\n",
       "      <td>0</td>\n",
       "      <td>0</td>\n",
       "      <td>0</td>\n",
       "      <td>0</td>\n",
       "      <td>0</td>\n",
       "      <td>0</td>\n",
       "      <td>0</td>\n",
       "      <td>0</td>\n",
       "      <td>0</td>\n",
       "      <td>0</td>\n",
       "      <td>1</td>\n",
       "      <td>0</td>\n",
       "      <td>0</td>\n",
       "      <td>0</td>\n",
       "      <td>0</td>\n",
       "      <td>0</td>\n",
       "      <td>0</td>\n",
       "      <td>0</td>\n",
       "      <td>0</td>\n",
       "      <td>0</td>\n",
       "      <td>0</td>\n",
       "    </tr>\n",
       "    <tr>\n",
       "      <th>1</th>\n",
       "      <td>2.015000e+09</td>\n",
       "      <td>1</td>\n",
       "      <td>0.0</td>\n",
       "      <td>0.0</td>\n",
       "      <td>0.0</td>\n",
       "      <td>0</td>\n",
       "      <td>0</td>\n",
       "      <td>1</td>\n",
       "      <td>1</td>\n",
       "      <td>0</td>\n",
       "      <td>0</td>\n",
       "      <td>0</td>\n",
       "      <td>0</td>\n",
       "      <td>0</td>\n",
       "      <td>0</td>\n",
       "      <td>0</td>\n",
       "      <td>0</td>\n",
       "      <td>0</td>\n",
       "      <td>0</td>\n",
       "      <td>0</td>\n",
       "      <td>1</td>\n",
       "      <td>0</td>\n",
       "      <td>0</td>\n",
       "      <td>0</td>\n",
       "      <td>0</td>\n",
       "      <td>0</td>\n",
       "      <td>0</td>\n",
       "      <td>0</td>\n",
       "      <td>0</td>\n",
       "      <td>0</td>\n",
       "      <td>0</td>\n",
       "      <td>0</td>\n",
       "      <td>0</td>\n",
       "      <td>0</td>\n",
       "      <td>0</td>\n",
       "      <td>0</td>\n",
       "      <td>0</td>\n",
       "      <td>0</td>\n",
       "      <td>0</td>\n",
       "      <td>0</td>\n",
       "      <td>0</td>\n",
       "      <td>0</td>\n",
       "      <td>1</td>\n",
       "      <td>0</td>\n",
       "      <td>0</td>\n",
       "      <td>0</td>\n",
       "      <td>0</td>\n",
       "      <td>0</td>\n",
       "      <td>0</td>\n",
       "      <td>0</td>\n",
       "      <td>0</td>\n",
       "      <td>0</td>\n",
       "      <td>0</td>\n",
       "    </tr>\n",
       "    <tr>\n",
       "      <th>2</th>\n",
       "      <td>2.015000e+09</td>\n",
       "      <td>1</td>\n",
       "      <td>0.0</td>\n",
       "      <td>0.0</td>\n",
       "      <td>0.0</td>\n",
       "      <td>0</td>\n",
       "      <td>0</td>\n",
       "      <td>1</td>\n",
       "      <td>0</td>\n",
       "      <td>1</td>\n",
       "      <td>0</td>\n",
       "      <td>0</td>\n",
       "      <td>0</td>\n",
       "      <td>0</td>\n",
       "      <td>0</td>\n",
       "      <td>0</td>\n",
       "      <td>0</td>\n",
       "      <td>0</td>\n",
       "      <td>0</td>\n",
       "      <td>0</td>\n",
       "      <td>0</td>\n",
       "      <td>1</td>\n",
       "      <td>0</td>\n",
       "      <td>0</td>\n",
       "      <td>0</td>\n",
       "      <td>0</td>\n",
       "      <td>0</td>\n",
       "      <td>0</td>\n",
       "      <td>0</td>\n",
       "      <td>0</td>\n",
       "      <td>0</td>\n",
       "      <td>0</td>\n",
       "      <td>0</td>\n",
       "      <td>0</td>\n",
       "      <td>0</td>\n",
       "      <td>0</td>\n",
       "      <td>0</td>\n",
       "      <td>0</td>\n",
       "      <td>0</td>\n",
       "      <td>0</td>\n",
       "      <td>0</td>\n",
       "      <td>0</td>\n",
       "      <td>1</td>\n",
       "      <td>0</td>\n",
       "      <td>0</td>\n",
       "      <td>0</td>\n",
       "      <td>0</td>\n",
       "      <td>0</td>\n",
       "      <td>0</td>\n",
       "      <td>0</td>\n",
       "      <td>0</td>\n",
       "      <td>0</td>\n",
       "      <td>0</td>\n",
       "    </tr>\n",
       "    <tr>\n",
       "      <th>3</th>\n",
       "      <td>2.015000e+09</td>\n",
       "      <td>1</td>\n",
       "      <td>0.0</td>\n",
       "      <td>0.0</td>\n",
       "      <td>0.0</td>\n",
       "      <td>0</td>\n",
       "      <td>0</td>\n",
       "      <td>1</td>\n",
       "      <td>0</td>\n",
       "      <td>0</td>\n",
       "      <td>1</td>\n",
       "      <td>0</td>\n",
       "      <td>0</td>\n",
       "      <td>0</td>\n",
       "      <td>0</td>\n",
       "      <td>0</td>\n",
       "      <td>0</td>\n",
       "      <td>0</td>\n",
       "      <td>0</td>\n",
       "      <td>0</td>\n",
       "      <td>0</td>\n",
       "      <td>1</td>\n",
       "      <td>0</td>\n",
       "      <td>0</td>\n",
       "      <td>0</td>\n",
       "      <td>0</td>\n",
       "      <td>0</td>\n",
       "      <td>0</td>\n",
       "      <td>0</td>\n",
       "      <td>0</td>\n",
       "      <td>0</td>\n",
       "      <td>0</td>\n",
       "      <td>0</td>\n",
       "      <td>0</td>\n",
       "      <td>0</td>\n",
       "      <td>0</td>\n",
       "      <td>0</td>\n",
       "      <td>0</td>\n",
       "      <td>0</td>\n",
       "      <td>0</td>\n",
       "      <td>0</td>\n",
       "      <td>0</td>\n",
       "      <td>1</td>\n",
       "      <td>0</td>\n",
       "      <td>0</td>\n",
       "      <td>0</td>\n",
       "      <td>0</td>\n",
       "      <td>0</td>\n",
       "      <td>0</td>\n",
       "      <td>0</td>\n",
       "      <td>0</td>\n",
       "      <td>0</td>\n",
       "      <td>0</td>\n",
       "    </tr>\n",
       "    <tr>\n",
       "      <th>4</th>\n",
       "      <td>2.015000e+09</td>\n",
       "      <td>0</td>\n",
       "      <td>0.0</td>\n",
       "      <td>0.0</td>\n",
       "      <td>0.0</td>\n",
       "      <td>0</td>\n",
       "      <td>0</td>\n",
       "      <td>1</td>\n",
       "      <td>0</td>\n",
       "      <td>0</td>\n",
       "      <td>0</td>\n",
       "      <td>1</td>\n",
       "      <td>0</td>\n",
       "      <td>0</td>\n",
       "      <td>0</td>\n",
       "      <td>0</td>\n",
       "      <td>0</td>\n",
       "      <td>1</td>\n",
       "      <td>0</td>\n",
       "      <td>0</td>\n",
       "      <td>0</td>\n",
       "      <td>1</td>\n",
       "      <td>0</td>\n",
       "      <td>0</td>\n",
       "      <td>0</td>\n",
       "      <td>0</td>\n",
       "      <td>0</td>\n",
       "      <td>0</td>\n",
       "      <td>0</td>\n",
       "      <td>0</td>\n",
       "      <td>0</td>\n",
       "      <td>0</td>\n",
       "      <td>0</td>\n",
       "      <td>0</td>\n",
       "      <td>0</td>\n",
       "      <td>0</td>\n",
       "      <td>0</td>\n",
       "      <td>0</td>\n",
       "      <td>0</td>\n",
       "      <td>0</td>\n",
       "      <td>0</td>\n",
       "      <td>0</td>\n",
       "      <td>1</td>\n",
       "      <td>0</td>\n",
       "      <td>0</td>\n",
       "      <td>0</td>\n",
       "      <td>0</td>\n",
       "      <td>0</td>\n",
       "      <td>0</td>\n",
       "      <td>0</td>\n",
       "      <td>0</td>\n",
       "      <td>0</td>\n",
       "      <td>0</td>\n",
       "    </tr>\n",
       "  </tbody>\n",
       "</table>\n",
       "</div>"
      ],
      "text/plain": [
       "          ab_id  fastball  on_1b  on_2b  on_3b  p_throws_num  stand_num  \\\n",
       "0  2.015000e+09         1    0.0    0.0    0.0             0          0   \n",
       "1  2.015000e+09         1    0.0    0.0    0.0             0          0   \n",
       "2  2.015000e+09         1    0.0    0.0    0.0             0          0   \n",
       "3  2.015000e+09         1    0.0    0.0    0.0             0          0   \n",
       "4  2.015000e+09         0    0.0    0.0    0.0             0          0   \n",
       "\n",
       "   top_num  pitch_num_2  pitch_num_3  pitch_num_4  pitch_num_5  pitch_num_6  \\\n",
       "0        1            0            0            0            0            0   \n",
       "1        1            1            0            0            0            0   \n",
       "2        1            0            1            0            0            0   \n",
       "3        1            0            0            1            0            0   \n",
       "4        1            0            0            0            1            0   \n",
       "\n",
       "   pitch_num_7  pitch_num_8  pitch_num_9  pitch_num_10  b_count_1  b_count_2  \\\n",
       "0            0            0            0             0          0          0   \n",
       "1            0            0            0             0          0          0   \n",
       "2            0            0            0             0          0          0   \n",
       "3            0            0            0             0          0          0   \n",
       "4            0            0            0             0          1          0   \n",
       "\n",
       "   b_count_3  s_count_1  s_count_2  outs_1  outs_2  inning_2  inning_3  \\\n",
       "0          0          0          0       0       0         0         0   \n",
       "1          0          1          0       0       0         0         0   \n",
       "2          0          0          1       0       0         0         0   \n",
       "3          0          0          1       0       0         0         0   \n",
       "4          0          0          1       0       0         0         0   \n",
       "\n",
       "   inning_4  inning_5  inning_6  inning_7  inning_8  inning_9  inning_10  \\\n",
       "0         0         0         0         0         0         0          0   \n",
       "1         0         0         0         0         0         0          0   \n",
       "2         0         0         0         0         0         0          0   \n",
       "3         0         0         0         0         0         0          0   \n",
       "4         0         0         0         0         0         0          0   \n",
       "\n",
       "   pitcher_lead_-9  pitcher_lead_-8  pitcher_lead_-7  pitcher_lead_-6  \\\n",
       "0                0                0                0                0   \n",
       "1                0                0                0                0   \n",
       "2                0                0                0                0   \n",
       "3                0                0                0                0   \n",
       "4                0                0                0                0   \n",
       "\n",
       "   pitcher_lead_-5  pitcher_lead_-4  pitcher_lead_-3  pitcher_lead_-2  \\\n",
       "0                0                0                0                0   \n",
       "1                0                0                0                0   \n",
       "2                0                0                0                0   \n",
       "3                0                0                0                0   \n",
       "4                0                0                0                0   \n",
       "\n",
       "   pitcher_lead_-1  pitcher_lead_0  pitcher_lead_1  pitcher_lead_2  \\\n",
       "0                0               1               0               0   \n",
       "1                0               1               0               0   \n",
       "2                0               1               0               0   \n",
       "3                0               1               0               0   \n",
       "4                0               1               0               0   \n",
       "\n",
       "   pitcher_lead_3  pitcher_lead_4  pitcher_lead_5  pitcher_lead_6  \\\n",
       "0               0               0               0               0   \n",
       "1               0               0               0               0   \n",
       "2               0               0               0               0   \n",
       "3               0               0               0               0   \n",
       "4               0               0               0               0   \n",
       "\n",
       "   pitcher_lead_7  pitcher_lead_8  pitcher_lead_9  pitcher_lead_10  \n",
       "0               0               0               0                0  \n",
       "1               0               0               0                0  \n",
       "2               0               0               0                0  \n",
       "3               0               0               0                0  \n",
       "4               0               0               0                0  "
      ]
     },
     "execution_count": 24,
     "metadata": {},
     "output_type": "execute_result"
    }
   ],
   "source": [
    "df_model.head()"
   ]
  },
  {
   "cell_type": "code",
   "execution_count": 25,
   "metadata": {},
   "outputs": [
    {
     "data": {
      "text/plain": [
       "(2867154, 53)"
      ]
     },
     "execution_count": 25,
     "metadata": {},
     "output_type": "execute_result"
    }
   ],
   "source": [
    "df_model.shape"
   ]
  },
  {
   "cell_type": "markdown",
   "metadata": {},
   "source": [
    "We currently have over 50 features based on our pre-pitch information.  I think its time to feed this data into a few default classifiers and see what the initial results are!"
   ]
  },
  {
   "cell_type": "markdown",
   "metadata": {},
   "source": [
    "## Machine Learning Model Test Run\n",
    "\n",
    "The biggest obstacle to overcome when building models is computational speed.  Our dataframe contains over 2.8 million pitches, which simply would take too long to use for every iteration of model training.  So, to build our models, I will use a sample of 145,000 pitches (roughly 5% of the samples)."
   ]
  },
  {
   "cell_type": "code",
   "execution_count": 26,
   "metadata": {},
   "outputs": [
    {
     "data": {
      "text/plain": [
       "0.52404827586206892"
      ]
     },
     "execution_count": 26,
     "metadata": {},
     "output_type": "execute_result"
    }
   ],
   "source": [
    "# create the sample dataframe\n",
    "df_sample = df_model.sample(145000, random_state=6)\n",
    "\n",
    "# verify the fastball/non-fastball split\n",
    "df_sample['fastball'].sum() / len(df_sample)"
   ]
  },
  {
   "cell_type": "markdown",
   "metadata": {},
   "source": [
    "It looks like our sample database has 52.404% fastballs, which is matches up favorably to the 52.41% split in the entire database.  Next, we can split the sample dataframe into the target label (y) and the features (X), and then split the data into train and test sets using `train_test_split`:"
   ]
  },
  {
   "cell_type": "code",
   "execution_count": 28,
   "metadata": {},
   "outputs": [],
   "source": [
    "# split the dataframe\n",
    "X = df_sample.iloc[:, 2:]\n",
    "y = df_sample.iloc[:, 1]\n",
    "\n",
    "# split the data into train and test sets\n",
    "from sklearn.model_selection import train_test_split\n",
    "X_train, X_test, y_train, y_test = train_test_split(X, y, random_state=6, stratify=y)"
   ]
  },
  {
   "cell_type": "markdown",
   "metadata": {},
   "source": [
    "Now I can build a few different classifiers using their default settings to see some initial results:"
   ]
  },
  {
   "cell_type": "markdown",
   "metadata": {},
   "source": [
    "### Logistic Regression"
   ]
  },
  {
   "cell_type": "code",
   "execution_count": 29,
   "metadata": {},
   "outputs": [
    {
     "name": "stderr",
     "output_type": "stream",
     "text": [
      "C:\\Users\\Owner\\Anaconda3\\lib\\site-packages\\sklearn\\linear_model\\logistic.py:433: FutureWarning: Default solver will be changed to 'lbfgs' in 0.22. Specify a solver to silence this warning.\n",
      "  FutureWarning)\n"
     ]
    },
    {
     "name": "stdout",
     "output_type": "stream",
     "text": [
      "0.551117241379\n"
     ]
    }
   ],
   "source": [
    "from sklearn.linear_model import LogisticRegression\n",
    "lr = LogisticRegression()\n",
    "lr.fit(X_train, y_train)\n",
    "y_pred_lr = lr.predict(X_test)\n",
    "print(lr.score(X_test, y_test))"
   ]
  },
  {
   "cell_type": "markdown",
   "metadata": {},
   "source": [
    "### SGDClassifier"
   ]
  },
  {
   "cell_type": "code",
   "execution_count": 30,
   "metadata": {},
   "outputs": [
    {
     "name": "stderr",
     "output_type": "stream",
     "text": [
      "C:\\Users\\Owner\\Anaconda3\\lib\\site-packages\\sklearn\\linear_model\\stochastic_gradient.py:166: FutureWarning: max_iter and tol parameters have been added in SGDClassifier in 0.19. If both are left unset, they default to max_iter=5 and tol=None. If tol is not None, max_iter defaults to max_iter=1000. From 0.21, default max_iter will be 1000, and default tol will be 1e-3.\n",
      "  FutureWarning)\n"
     ]
    },
    {
     "name": "stdout",
     "output_type": "stream",
     "text": [
      "0.543834482759\n"
     ]
    }
   ],
   "source": [
    "from sklearn.linear_model import SGDClassifier\n",
    "sgdc = SGDClassifier()\n",
    "sgdc.fit(X_train, y_train)\n",
    "y_pred_sgdc = sgdc.predict(X_test)\n",
    "print(sgdc.score(X_test, y_test))"
   ]
  },
  {
   "cell_type": "markdown",
   "metadata": {},
   "source": [
    "### Random Forest Classifier"
   ]
  },
  {
   "cell_type": "code",
   "execution_count": 31,
   "metadata": {},
   "outputs": [
    {
     "name": "stderr",
     "output_type": "stream",
     "text": [
      "C:\\Users\\Owner\\Anaconda3\\lib\\site-packages\\sklearn\\ensemble\\forest.py:246: FutureWarning: The default value of n_estimators will change from 10 in version 0.20 to 100 in 0.22.\n",
      "  \"10 in version 0.20 to 100 in 0.22.\", FutureWarning)\n"
     ]
    },
    {
     "name": "stdout",
     "output_type": "stream",
     "text": [
      "0.526731034483\n"
     ]
    }
   ],
   "source": [
    "from sklearn.ensemble import RandomForestClassifier\n",
    "rfc = RandomForestClassifier()\n",
    "rfc.fit(X_train, y_train)\n",
    "y_pred_rfc = rfc.predict(X_test)\n",
    "print(rfc.score(X_test, y_test))"
   ]
  },
  {
   "cell_type": "markdown",
   "metadata": {},
   "source": [
    "As you can see, the default models perform only marginally better than the default 52.41% accuracy you could achieve simply by guessing fastball everytime.  So, I will need to see if there is anything that can be done to improve the accuracy of the models.  As a first step, I am going to build some additional features to be added to the dataframe based on previous pitch information."
   ]
  },
  {
   "cell_type": "markdown",
   "metadata": {},
   "source": [
    "## Adding Previous Pitch Features\n",
    "\n",
    "I am fairly confident that information about the previous pitch in a pitch sequence should improve the accuracy of my models.  The major obstacle to this approach is that it will involve having to iterate over the samples, which is computationally expensive (i.e., time-consuming) given that there are over 2.8 million pitches.  I ultimately decided to add the following features:"
   ]
  },
  {
   "cell_type": "markdown",
   "metadata": {},
   "source": [
    "### Inning Pitch Count\n",
    "\n",
    "I ended up determining that I could calculate a pitcher's pitch-count for each inning thinking that pitch usage patterns may be influenced depending on how many pitches a pitcher has thrown in a particular inning.  It would have been much more difficult to build a total pitch count for each pitcher for each game given the way the data was organized.  I ended up building a function and using the `apply()` method to speed up the computation. (WARNING - THIS CODE TAKES A LONG TIME TO RUN)"
   ]
  },
  {
   "cell_type": "code",
   "execution_count": null,
   "metadata": {},
   "outputs": [],
   "source": [
    "# add the pitcher_id column\n",
    "df_model['pitcher_id'] = df.loc[:, 'pitcher_id']\n",
    "\n",
    "# build the function\n",
    "def inning_pitch_count(df):\n",
    "    for index in df.index:\n",
    "        if index == 0:\n",
    "            df.loc[index, 'inning_pitch_count'] = 1\n",
    "        elif df.loc[index, 'pitcher_id'] == df.loc[index-1, 'pitcher_id']:\n",
    "            df.loc[index, 'inning_pitch_count'] = df.loc[index-1, 'inning_pitch_count'] + 1\n",
    "        else:\n",
    "            df.loc[index, 'inning_pitch_count'] = 1\n",
    "\n",
    "# run the function using the apply() method\n",
    "df_model['inning_pitch_count'] = df_model.apply(inning_pitch_count(df_model))\n",
    "\n",
    "# normalize the data because it is a continuous variable\n",
    "from sklearn.preprocessing import MinMaxScaler\n",
    "min_max_scaler = MinMaxScaler()\n",
    "df_model['inning_pitch_count'] = min_max_scaler.fit_transform(df_model.loc[:, 'inning_pitch_count'].values.astype(float))"
   ]
  },
  {
   "cell_type": "markdown",
   "metadata": {},
   "source": [
    "### Previous Pitch Type/Location\n",
    "\n",
    "As noted above, the data recorded about each pitch after it was thrown is highly informative about what pitch has been thrown - we could no doubt build a very accurate model using that data.  My hope is by feeding those characteristics about the previous pitch thrown may be indicative of whether a pitcher will throw a fastball in the next pitch.  The issue is that building such features in a 2.8 million pitch dataframe is incredibly time-consuming.  I ultimately decided to generate three new features based off the previous pitch data - the previous pitch type (based on the `pitch_type` label) and the location of the previous pitch (based on the `px` and `pz` values).  My thought is that the other six non-location characteristics are essentially combined into the pitch label because each of those pitches have fairly unique characteristics.\n",
    "\n",
    "Here is the code I used for this process (WARNING - THIS CODE TAKES A LONG TIME TO RUN)."
   ]
  },
  {
   "cell_type": "code",
   "execution_count": 37,
   "metadata": {},
   "outputs": [
    {
     "data": {
      "text/html": [
       "<div>\n",
       "<style scoped>\n",
       "    .dataframe tbody tr th:only-of-type {\n",
       "        vertical-align: middle;\n",
       "    }\n",
       "\n",
       "    .dataframe tbody tr th {\n",
       "        vertical-align: top;\n",
       "    }\n",
       "\n",
       "    .dataframe thead th {\n",
       "        text-align: right;\n",
       "    }\n",
       "</style>\n",
       "<table border=\"1\" class=\"dataframe\">\n",
       "  <thead>\n",
       "    <tr style=\"text-align: right;\">\n",
       "      <th></th>\n",
       "      <th>pitch_num</th>\n",
       "      <th>pitch_type</th>\n",
       "      <th>px</th>\n",
       "      <th>pz</th>\n",
       "      <th>pitch_type_prev</th>\n",
       "      <th>px_prev</th>\n",
       "      <th>pz_prev</th>\n",
       "    </tr>\n",
       "  </thead>\n",
       "  <tbody>\n",
       "    <tr>\n",
       "      <th>0</th>\n",
       "      <td>1</td>\n",
       "      <td>NaN</td>\n",
       "      <td>NaN</td>\n",
       "      <td>NaN</td>\n",
       "      <td>0</td>\n",
       "      <td>0</td>\n",
       "      <td>0</td>\n",
       "    </tr>\n",
       "    <tr>\n",
       "      <th>1</th>\n",
       "      <td>2</td>\n",
       "      <td>FF</td>\n",
       "      <td>0.416</td>\n",
       "      <td>2.963</td>\n",
       "      <td>0</td>\n",
       "      <td>0</td>\n",
       "      <td>0</td>\n",
       "    </tr>\n",
       "    <tr>\n",
       "      <th>2</th>\n",
       "      <td>3</td>\n",
       "      <td>FF</td>\n",
       "      <td>-0.191</td>\n",
       "      <td>2.347</td>\n",
       "      <td>0</td>\n",
       "      <td>0</td>\n",
       "      <td>0</td>\n",
       "    </tr>\n",
       "    <tr>\n",
       "      <th>3</th>\n",
       "      <td>4</td>\n",
       "      <td>FF</td>\n",
       "      <td>-0.518</td>\n",
       "      <td>3.284</td>\n",
       "      <td>0</td>\n",
       "      <td>0</td>\n",
       "      <td>0</td>\n",
       "    </tr>\n",
       "    <tr>\n",
       "      <th>4</th>\n",
       "      <td>5</td>\n",
       "      <td>FF</td>\n",
       "      <td>-0.641</td>\n",
       "      <td>1.221</td>\n",
       "      <td>0</td>\n",
       "      <td>0</td>\n",
       "      <td>0</td>\n",
       "    </tr>\n",
       "  </tbody>\n",
       "</table>\n",
       "</div>"
      ],
      "text/plain": [
       "   pitch_num pitch_type     px     pz  pitch_type_prev  px_prev  pz_prev\n",
       "0          1        NaN    NaN    NaN                0        0        0\n",
       "1          2         FF  0.416  2.963                0        0        0\n",
       "2          3         FF -0.191  2.347                0        0        0\n",
       "3          4         FF -0.518  3.284                0        0        0\n",
       "4          5         FF -0.641  1.221                0        0        0"
      ]
     },
     "execution_count": 37,
     "metadata": {},
     "output_type": "execute_result"
    }
   ],
   "source": [
    "# create a new dataframe to build the new features\n",
    "df_prev_pitch = df.loc[:, ['pitch_num', 'pitch_type', 'px', 'pz']]\n",
    "\n",
    "# shift the pitch_type, px, and pz columns down one row\n",
    "df_prev_pitch['pitch_type'] = df_prev_pitch['pitch_type'].shift(1, axis=0)\n",
    "df_prev_pitch['px'] = df_prev_pitch['px'].shift(1, axis=0)\n",
    "df_prev_pitch['pz'] = df_prev_pitch['pz'].shift(1, axis=0)\n",
    "\n",
    "# add the new feature columns\n",
    "df_prev_pitch['pitch_type_prev'] = 0\n",
    "df_prev_pitch['px_prev'] = 0\n",
    "df_prev_pitch['pz_prev'] = 0\n",
    "\n",
    "df_prev_pitch.head()"
   ]
  },
  {
   "cell_type": "code",
   "execution_count": null,
   "metadata": {},
   "outputs": [],
   "source": [
    "# build the function\n",
    "def prev_pitch(df):\n",
    "    for row in df.index:\n",
    "        if df.loc[row, 'pitch_num'] > 1:\n",
    "            df.loc[row, 'pitch_type_prev'] = df.loc[row, 'pitch_type']\n",
    "            df.loc[row, 'px_prev'] = df.loc[row, 'px']\n",
    "            df.loc[row, 'pz_prev'] = df.loc[row, 'pz']\n",
    "            \n",
    "# run the function using the apply() method (WARINING - THIS FUNCTION TAKES A LONG TIME TO RUN)\n",
    "df_prev_pitch = df_prev_pitch.apply(lambda x: prev_pitch(df_prev_pitch), axis=1)"
   ]
  },
  {
   "cell_type": "markdown",
   "metadata": {},
   "source": [
    "Once the new features are built, we need to create dummy variables for the `pitch_type_prev` columns, drop the unneeded values, and then add them to model dataframe:"
   ]
  },
  {
   "cell_type": "code",
   "execution_count": null,
   "metadata": {},
   "outputs": [],
   "source": [
    "# get dummy variables\n",
    "df_dummies = pd.get_dummies(df_prev_pitch['pitch_type_prev'], prefix='prev_pitch')\n",
    "\n",
    "# delete the unneeded dummy variables\n",
    "del df_dummies['prev_pitch_0']\n",
    "del df_dummies['prev_pitch_MISSING']\n",
    "\n",
    "# add the dummy variables to the model dataframe\n",
    "df_model = pd.concat([df_model, df_dummies], axis=1)"
   ]
  },
  {
   "cell_type": "markdown",
   "metadata": {},
   "source": [
    "Finally, we need to add the `px_prev` and `pz_prev` features to the model dataframe.  While these variables are continuous, we need to convert them to categorical features because we need the model to understand that the first pitch of every pitch sequence has no previous pitch location at all (right now those values are 0, which the model would interpret as a horizontal and vertical location.\n",
    "\n",
    "To do this, I will first replace the default numerical values that we previously used during exploratory data analysis (the mean values for the samples where location was missing and 0 for the first pitch of every at-bat).  Then, I will consolidate the outlier values so that we get a more meaningful distribution once we divide the values into categorical bins.  Then, I will convert the values into 15 bins using `pd.cut()`.  Then, I will create dummy variables for each bin and add those to the model dataframe (the `NaN` values will be dropped during the creation of dummy variables).\n",
    "\n",
    "#### px_prev:"
   ]
  },
  {
   "cell_type": "code",
   "execution_count": null,
   "metadata": {},
   "outputs": [],
   "source": [
    "# replace the missing and zero values with NaNs\n",
    "df_prev_pitch['px_prev'] = df_prev_pitch['px_prev'].replace(0.000000, np.nan)\n",
    "df_prev_pitch['px_prev'] = df_prev_pitch['px_prev'].replace(0.006600, np.nan)\n",
    "\n",
    "# create dataframe of only outlier values and use that dataframe index to iterate and convert values in df_prev_pitch\n",
    "df_outlier = df_prev_pitch[df_prev_pitch['px_prev'] > 4]\n",
    "for row in df_outlier.index:\n",
    "    df_prev_pitch.loc[row, 'px_prev'] = 4\n",
    "\n",
    "df_outlier = df_prev_pitch[df_prev_pitch['px_prev'] < -4]\n",
    "for row in df_outlier.index:\n",
    "    df_prev_pitch.loc[row, 'px_prev'] = -4\n",
    "\n",
    "# divide px_prev values into 15 bins\n",
    "df_prev_pitch['px_prev'] = pd.cut(df_prev_pitch['px_prev'], 15)\n",
    "\n",
    "# create dummy variables [NOTE - pd.get_dummies automatically drops NaN values]\n",
    "df_dummies = pd.get_dummies(df_prev_pitch['px_prev'], prefix='px_prev')\n",
    "\n",
    "# add dummy variables to model dataframe\n",
    "df_model = pd.concat([df_model, df_dummies], axis=1)"
   ]
  },
  {
   "cell_type": "markdown",
   "metadata": {},
   "source": [
    "#### pz_prev:"
   ]
  },
  {
   "cell_type": "code",
   "execution_count": null,
   "metadata": {},
   "outputs": [],
   "source": [
    "# replace the missing and zero values with NaNs\n",
    "df_prev_pitch['pz_prev'] = df_prev_pitch['pz_prev'].replace(0.000000, np.nan)\n",
    "df_prev_pitch['pz_prev'] = df_prev_pitch['pz_prev'].replace(2.250000, np.nan)\n",
    "\n",
    "# create dataframe of only outlier values and use that dataframe index to iterate and convert values in df_prev_pitch\n",
    "df_outlier = df_prev_pitch[df_prev_pitch['pz_prev'] > 5]\n",
    "for row in df_outlier.index:\n",
    "    df_prev_pitch.loc[row, 'pz_prev'] = 5\n",
    "\n",
    "df_outlier = df_prev_pitch[df_prev_pitch['pz_prev'] < -1]\n",
    "for row in df_outlier.index:\n",
    "    df_prev_pitch.loc[row, 'pz_prev'] = -1\n",
    "\n",
    "# divide pz_prev values into 15 bins\n",
    "df_prev_pitch['pz_prev'] = pd.cut(df_prev_pitch['pz_prev'], 15)\n",
    "\n",
    "# create dummy variables [NOTE - pd.get_dummies automatically drops NaN values]\n",
    "df_dummies = pd.get_dummies(df_prev_pitch['pz_prev'], prefix='pz_prev')\n",
    "\n",
    "# add dummy variables to model dataframe\n",
    "df_model = pd.concat([df_model, df_dummies], axis=1)"
   ]
  },
  {
   "cell_type": "markdown",
   "metadata": {},
   "source": [
    "## Machine Learning Model Second Test Run \n",
    "\n",
    "Now that I have added some previous pitch features, I will re-rerun the data through the default classifiers to see if the accuracy improves.\n",
    "\n",
    "NOTE - because it takes a long time to build the previous pitch features, I will be loading a `.csv` file from my local drive with those features already incorporated."
   ]
  },
  {
   "cell_type": "code",
   "execution_count": 3,
   "metadata": {},
   "outputs": [
    {
     "name": "stderr",
     "output_type": "stream",
     "text": [
      "C:\\Users\\Owner\\Anaconda3\\lib\\site-packages\\numpy\\lib\\arraysetops.py:463: FutureWarning: elementwise comparison failed; returning scalar instead, but in the future will perform elementwise comparison\n",
      "  mask |= (ar1 == a)\n"
     ]
    }
   ],
   "source": [
    "df_model = pd.read_csv('df_model_final.csv', index_col=0)"
   ]
  },
  {
   "cell_type": "code",
   "execution_count": 4,
   "metadata": {},
   "outputs": [
    {
     "data": {
      "text/html": [
       "<div>\n",
       "<style scoped>\n",
       "    .dataframe tbody tr th:only-of-type {\n",
       "        vertical-align: middle;\n",
       "    }\n",
       "\n",
       "    .dataframe tbody tr th {\n",
       "        vertical-align: top;\n",
       "    }\n",
       "\n",
       "    .dataframe thead th {\n",
       "        text-align: right;\n",
       "    }\n",
       "</style>\n",
       "<table border=\"1\" class=\"dataframe\">\n",
       "  <thead>\n",
       "    <tr style=\"text-align: right;\">\n",
       "      <th></th>\n",
       "      <th>ab_id</th>\n",
       "      <th>fastball</th>\n",
       "      <th>inning_pitch_count</th>\n",
       "      <th>on_1b</th>\n",
       "      <th>on_2b</th>\n",
       "      <th>on_3b</th>\n",
       "      <th>p_throws_num</th>\n",
       "      <th>stand_num</th>\n",
       "      <th>top_num</th>\n",
       "      <th>pitch_num_2</th>\n",
       "      <th>pitch_num_3</th>\n",
       "      <th>pitch_num_4</th>\n",
       "      <th>pitch_num_5</th>\n",
       "      <th>pitch_num_6</th>\n",
       "      <th>pitch_num_7</th>\n",
       "      <th>pitch_num_8</th>\n",
       "      <th>pitch_num_9</th>\n",
       "      <th>pitch_num_10</th>\n",
       "      <th>b_count_1</th>\n",
       "      <th>b_count_2</th>\n",
       "      <th>b_count_3</th>\n",
       "      <th>s_count_1</th>\n",
       "      <th>s_count_2</th>\n",
       "      <th>outs_1</th>\n",
       "      <th>outs_2</th>\n",
       "      <th>inning_2</th>\n",
       "      <th>inning_3</th>\n",
       "      <th>inning_4</th>\n",
       "      <th>inning_5</th>\n",
       "      <th>inning_6</th>\n",
       "      <th>inning_7</th>\n",
       "      <th>inning_8</th>\n",
       "      <th>inning_9</th>\n",
       "      <th>inning_10</th>\n",
       "      <th>pitcher_lead_-10</th>\n",
       "      <th>pitcher_lead_-9</th>\n",
       "      <th>pitcher_lead_-8</th>\n",
       "      <th>pitcher_lead_-7</th>\n",
       "      <th>pitcher_lead_-6</th>\n",
       "      <th>pitcher_lead_-5</th>\n",
       "      <th>pitcher_lead_-4</th>\n",
       "      <th>pitcher_lead_-3</th>\n",
       "      <th>pitcher_lead_-2</th>\n",
       "      <th>pitcher_lead_-1</th>\n",
       "      <th>pitcher_lead_1</th>\n",
       "      <th>pitcher_lead_2</th>\n",
       "      <th>pitcher_lead_3</th>\n",
       "      <th>pitcher_lead_4</th>\n",
       "      <th>pitcher_lead_5</th>\n",
       "      <th>pitcher_lead_6</th>\n",
       "      <th>pitcher_lead_7</th>\n",
       "      <th>pitcher_lead_8</th>\n",
       "      <th>pitcher_lead_9</th>\n",
       "      <th>pitcher_lead_10</th>\n",
       "      <th>prev_pitch_CH</th>\n",
       "      <th>prev_pitch_CU</th>\n",
       "      <th>prev_pitch_EP</th>\n",
       "      <th>prev_pitch_FC</th>\n",
       "      <th>prev_pitch_FF</th>\n",
       "      <th>prev_pitch_FO</th>\n",
       "      <th>prev_pitch_FS</th>\n",
       "      <th>prev_pitch_FT</th>\n",
       "      <th>prev_pitch_IN</th>\n",
       "      <th>prev_pitch_KC</th>\n",
       "      <th>prev_pitch_KN</th>\n",
       "      <th>prev_pitch_PO</th>\n",
       "      <th>prev_pitch_SC</th>\n",
       "      <th>prev_pitch_SI</th>\n",
       "      <th>prev_pitch_SL</th>\n",
       "      <th>px_prev_(-4.008, -3.467]</th>\n",
       "      <th>px_prev_(-3.467, -2.933]</th>\n",
       "      <th>px_prev_(-2.933, -2.4]</th>\n",
       "      <th>px_prev_(-2.4, -1.867]</th>\n",
       "      <th>px_prev_(-1.867, -1.333]</th>\n",
       "      <th>px_prev_(-1.333, -0.8]</th>\n",
       "      <th>px_prev_(-0.8, -0.267]</th>\n",
       "      <th>px_prev_(-0.267, 0.267]</th>\n",
       "      <th>px_prev_(0.267, 0.8]</th>\n",
       "      <th>px_prev_(0.8, 1.333]</th>\n",
       "      <th>px_prev_(1.333, 1.867]</th>\n",
       "      <th>px_prev_(1.867, 2.4]</th>\n",
       "      <th>px_prev_(2.4, 2.933]</th>\n",
       "      <th>px_prev_(2.933, 3.467]</th>\n",
       "      <th>px_prev_(3.467, 4.0]</th>\n",
       "      <th>pz_prev_(-1.006, -0.6]</th>\n",
       "      <th>pz_prev_(-0.6, -0.2]</th>\n",
       "      <th>pz_prev_(-0.2, 0.2]</th>\n",
       "      <th>pz_prev_(0.2, 0.6]</th>\n",
       "      <th>pz_prev_(0.6, 1.0]</th>\n",
       "      <th>pz_prev_(1.0, 1.4]</th>\n",
       "      <th>pz_prev_(1.4, 1.8]</th>\n",
       "      <th>pz_prev_(1.8, 2.2]</th>\n",
       "      <th>pz_prev_(2.2, 2.6]</th>\n",
       "      <th>pz_prev_(2.6, 3.0]</th>\n",
       "      <th>pz_prev_(3.0, 3.4]</th>\n",
       "      <th>pz_prev_(3.4, 3.8]</th>\n",
       "      <th>pz_prev_(3.8, 4.2]</th>\n",
       "      <th>pz_prev_(4.2, 4.6]</th>\n",
       "      <th>pz_prev_(4.6, 5.0]</th>\n",
       "    </tr>\n",
       "  </thead>\n",
       "  <tbody>\n",
       "    <tr>\n",
       "      <th>0</th>\n",
       "      <td>2015000001</td>\n",
       "      <td>1</td>\n",
       "      <td>0.000000</td>\n",
       "      <td>0</td>\n",
       "      <td>0</td>\n",
       "      <td>0</td>\n",
       "      <td>0</td>\n",
       "      <td>0</td>\n",
       "      <td>1</td>\n",
       "      <td>0</td>\n",
       "      <td>0</td>\n",
       "      <td>0</td>\n",
       "      <td>0</td>\n",
       "      <td>0</td>\n",
       "      <td>0</td>\n",
       "      <td>0</td>\n",
       "      <td>0</td>\n",
       "      <td>0</td>\n",
       "      <td>0</td>\n",
       "      <td>0</td>\n",
       "      <td>0</td>\n",
       "      <td>0</td>\n",
       "      <td>0</td>\n",
       "      <td>0</td>\n",
       "      <td>0</td>\n",
       "      <td>0</td>\n",
       "      <td>0</td>\n",
       "      <td>0</td>\n",
       "      <td>0</td>\n",
       "      <td>0</td>\n",
       "      <td>0</td>\n",
       "      <td>0</td>\n",
       "      <td>0</td>\n",
       "      <td>0</td>\n",
       "      <td>0</td>\n",
       "      <td>0</td>\n",
       "      <td>0</td>\n",
       "      <td>0</td>\n",
       "      <td>0</td>\n",
       "      <td>0</td>\n",
       "      <td>0</td>\n",
       "      <td>0</td>\n",
       "      <td>0</td>\n",
       "      <td>0</td>\n",
       "      <td>0</td>\n",
       "      <td>0</td>\n",
       "      <td>0</td>\n",
       "      <td>0</td>\n",
       "      <td>0</td>\n",
       "      <td>0</td>\n",
       "      <td>0</td>\n",
       "      <td>0</td>\n",
       "      <td>0</td>\n",
       "      <td>0</td>\n",
       "      <td>0</td>\n",
       "      <td>0</td>\n",
       "      <td>0</td>\n",
       "      <td>0</td>\n",
       "      <td>0</td>\n",
       "      <td>0</td>\n",
       "      <td>0</td>\n",
       "      <td>0</td>\n",
       "      <td>0</td>\n",
       "      <td>0</td>\n",
       "      <td>0</td>\n",
       "      <td>0</td>\n",
       "      <td>0</td>\n",
       "      <td>0</td>\n",
       "      <td>0</td>\n",
       "      <td>0</td>\n",
       "      <td>0</td>\n",
       "      <td>0</td>\n",
       "      <td>0</td>\n",
       "      <td>0</td>\n",
       "      <td>0</td>\n",
       "      <td>0</td>\n",
       "      <td>0</td>\n",
       "      <td>0</td>\n",
       "      <td>0</td>\n",
       "      <td>0</td>\n",
       "      <td>0</td>\n",
       "      <td>0</td>\n",
       "      <td>0</td>\n",
       "      <td>0</td>\n",
       "      <td>0</td>\n",
       "      <td>0</td>\n",
       "      <td>0</td>\n",
       "      <td>0</td>\n",
       "      <td>0</td>\n",
       "      <td>0</td>\n",
       "      <td>0</td>\n",
       "      <td>0</td>\n",
       "      <td>0</td>\n",
       "      <td>0</td>\n",
       "      <td>0</td>\n",
       "      <td>0</td>\n",
       "      <td>0</td>\n",
       "      <td>0</td>\n",
       "      <td>0</td>\n",
       "    </tr>\n",
       "    <tr>\n",
       "      <th>1</th>\n",
       "      <td>2015000001</td>\n",
       "      <td>1</td>\n",
       "      <td>0.018868</td>\n",
       "      <td>0</td>\n",
       "      <td>0</td>\n",
       "      <td>0</td>\n",
       "      <td>0</td>\n",
       "      <td>0</td>\n",
       "      <td>1</td>\n",
       "      <td>1</td>\n",
       "      <td>0</td>\n",
       "      <td>0</td>\n",
       "      <td>0</td>\n",
       "      <td>0</td>\n",
       "      <td>0</td>\n",
       "      <td>0</td>\n",
       "      <td>0</td>\n",
       "      <td>0</td>\n",
       "      <td>0</td>\n",
       "      <td>0</td>\n",
       "      <td>0</td>\n",
       "      <td>1</td>\n",
       "      <td>0</td>\n",
       "      <td>0</td>\n",
       "      <td>0</td>\n",
       "      <td>0</td>\n",
       "      <td>0</td>\n",
       "      <td>0</td>\n",
       "      <td>0</td>\n",
       "      <td>0</td>\n",
       "      <td>0</td>\n",
       "      <td>0</td>\n",
       "      <td>0</td>\n",
       "      <td>0</td>\n",
       "      <td>0</td>\n",
       "      <td>0</td>\n",
       "      <td>0</td>\n",
       "      <td>0</td>\n",
       "      <td>0</td>\n",
       "      <td>0</td>\n",
       "      <td>0</td>\n",
       "      <td>0</td>\n",
       "      <td>0</td>\n",
       "      <td>0</td>\n",
       "      <td>0</td>\n",
       "      <td>0</td>\n",
       "      <td>0</td>\n",
       "      <td>0</td>\n",
       "      <td>0</td>\n",
       "      <td>0</td>\n",
       "      <td>0</td>\n",
       "      <td>0</td>\n",
       "      <td>0</td>\n",
       "      <td>0</td>\n",
       "      <td>0</td>\n",
       "      <td>0</td>\n",
       "      <td>0</td>\n",
       "      <td>0</td>\n",
       "      <td>1</td>\n",
       "      <td>0</td>\n",
       "      <td>0</td>\n",
       "      <td>0</td>\n",
       "      <td>0</td>\n",
       "      <td>0</td>\n",
       "      <td>0</td>\n",
       "      <td>0</td>\n",
       "      <td>0</td>\n",
       "      <td>0</td>\n",
       "      <td>0</td>\n",
       "      <td>0</td>\n",
       "      <td>0</td>\n",
       "      <td>0</td>\n",
       "      <td>0</td>\n",
       "      <td>0</td>\n",
       "      <td>0</td>\n",
       "      <td>0</td>\n",
       "      <td>0</td>\n",
       "      <td>1</td>\n",
       "      <td>0</td>\n",
       "      <td>0</td>\n",
       "      <td>0</td>\n",
       "      <td>0</td>\n",
       "      <td>0</td>\n",
       "      <td>0</td>\n",
       "      <td>0</td>\n",
       "      <td>0</td>\n",
       "      <td>0</td>\n",
       "      <td>0</td>\n",
       "      <td>0</td>\n",
       "      <td>0</td>\n",
       "      <td>0</td>\n",
       "      <td>0</td>\n",
       "      <td>0</td>\n",
       "      <td>1</td>\n",
       "      <td>0</td>\n",
       "      <td>0</td>\n",
       "      <td>0</td>\n",
       "      <td>0</td>\n",
       "      <td>0</td>\n",
       "    </tr>\n",
       "    <tr>\n",
       "      <th>2</th>\n",
       "      <td>2015000001</td>\n",
       "      <td>1</td>\n",
       "      <td>0.037736</td>\n",
       "      <td>0</td>\n",
       "      <td>0</td>\n",
       "      <td>0</td>\n",
       "      <td>0</td>\n",
       "      <td>0</td>\n",
       "      <td>1</td>\n",
       "      <td>0</td>\n",
       "      <td>1</td>\n",
       "      <td>0</td>\n",
       "      <td>0</td>\n",
       "      <td>0</td>\n",
       "      <td>0</td>\n",
       "      <td>0</td>\n",
       "      <td>0</td>\n",
       "      <td>0</td>\n",
       "      <td>0</td>\n",
       "      <td>0</td>\n",
       "      <td>0</td>\n",
       "      <td>0</td>\n",
       "      <td>1</td>\n",
       "      <td>0</td>\n",
       "      <td>0</td>\n",
       "      <td>0</td>\n",
       "      <td>0</td>\n",
       "      <td>0</td>\n",
       "      <td>0</td>\n",
       "      <td>0</td>\n",
       "      <td>0</td>\n",
       "      <td>0</td>\n",
       "      <td>0</td>\n",
       "      <td>0</td>\n",
       "      <td>0</td>\n",
       "      <td>0</td>\n",
       "      <td>0</td>\n",
       "      <td>0</td>\n",
       "      <td>0</td>\n",
       "      <td>0</td>\n",
       "      <td>0</td>\n",
       "      <td>0</td>\n",
       "      <td>0</td>\n",
       "      <td>0</td>\n",
       "      <td>0</td>\n",
       "      <td>0</td>\n",
       "      <td>0</td>\n",
       "      <td>0</td>\n",
       "      <td>0</td>\n",
       "      <td>0</td>\n",
       "      <td>0</td>\n",
       "      <td>0</td>\n",
       "      <td>0</td>\n",
       "      <td>0</td>\n",
       "      <td>0</td>\n",
       "      <td>0</td>\n",
       "      <td>0</td>\n",
       "      <td>0</td>\n",
       "      <td>1</td>\n",
       "      <td>0</td>\n",
       "      <td>0</td>\n",
       "      <td>0</td>\n",
       "      <td>0</td>\n",
       "      <td>0</td>\n",
       "      <td>0</td>\n",
       "      <td>0</td>\n",
       "      <td>0</td>\n",
       "      <td>0</td>\n",
       "      <td>0</td>\n",
       "      <td>0</td>\n",
       "      <td>0</td>\n",
       "      <td>0</td>\n",
       "      <td>0</td>\n",
       "      <td>0</td>\n",
       "      <td>0</td>\n",
       "      <td>0</td>\n",
       "      <td>1</td>\n",
       "      <td>0</td>\n",
       "      <td>0</td>\n",
       "      <td>0</td>\n",
       "      <td>0</td>\n",
       "      <td>0</td>\n",
       "      <td>0</td>\n",
       "      <td>0</td>\n",
       "      <td>0</td>\n",
       "      <td>0</td>\n",
       "      <td>0</td>\n",
       "      <td>0</td>\n",
       "      <td>0</td>\n",
       "      <td>0</td>\n",
       "      <td>0</td>\n",
       "      <td>0</td>\n",
       "      <td>1</td>\n",
       "      <td>0</td>\n",
       "      <td>0</td>\n",
       "      <td>0</td>\n",
       "      <td>0</td>\n",
       "      <td>0</td>\n",
       "      <td>0</td>\n",
       "    </tr>\n",
       "    <tr>\n",
       "      <th>3</th>\n",
       "      <td>2015000001</td>\n",
       "      <td>1</td>\n",
       "      <td>0.056604</td>\n",
       "      <td>0</td>\n",
       "      <td>0</td>\n",
       "      <td>0</td>\n",
       "      <td>0</td>\n",
       "      <td>0</td>\n",
       "      <td>1</td>\n",
       "      <td>0</td>\n",
       "      <td>0</td>\n",
       "      <td>1</td>\n",
       "      <td>0</td>\n",
       "      <td>0</td>\n",
       "      <td>0</td>\n",
       "      <td>0</td>\n",
       "      <td>0</td>\n",
       "      <td>0</td>\n",
       "      <td>0</td>\n",
       "      <td>0</td>\n",
       "      <td>0</td>\n",
       "      <td>0</td>\n",
       "      <td>1</td>\n",
       "      <td>0</td>\n",
       "      <td>0</td>\n",
       "      <td>0</td>\n",
       "      <td>0</td>\n",
       "      <td>0</td>\n",
       "      <td>0</td>\n",
       "      <td>0</td>\n",
       "      <td>0</td>\n",
       "      <td>0</td>\n",
       "      <td>0</td>\n",
       "      <td>0</td>\n",
       "      <td>0</td>\n",
       "      <td>0</td>\n",
       "      <td>0</td>\n",
       "      <td>0</td>\n",
       "      <td>0</td>\n",
       "      <td>0</td>\n",
       "      <td>0</td>\n",
       "      <td>0</td>\n",
       "      <td>0</td>\n",
       "      <td>0</td>\n",
       "      <td>0</td>\n",
       "      <td>0</td>\n",
       "      <td>0</td>\n",
       "      <td>0</td>\n",
       "      <td>0</td>\n",
       "      <td>0</td>\n",
       "      <td>0</td>\n",
       "      <td>0</td>\n",
       "      <td>0</td>\n",
       "      <td>0</td>\n",
       "      <td>0</td>\n",
       "      <td>0</td>\n",
       "      <td>0</td>\n",
       "      <td>0</td>\n",
       "      <td>1</td>\n",
       "      <td>0</td>\n",
       "      <td>0</td>\n",
       "      <td>0</td>\n",
       "      <td>0</td>\n",
       "      <td>0</td>\n",
       "      <td>0</td>\n",
       "      <td>0</td>\n",
       "      <td>0</td>\n",
       "      <td>0</td>\n",
       "      <td>0</td>\n",
       "      <td>0</td>\n",
       "      <td>0</td>\n",
       "      <td>0</td>\n",
       "      <td>0</td>\n",
       "      <td>0</td>\n",
       "      <td>0</td>\n",
       "      <td>1</td>\n",
       "      <td>0</td>\n",
       "      <td>0</td>\n",
       "      <td>0</td>\n",
       "      <td>0</td>\n",
       "      <td>0</td>\n",
       "      <td>0</td>\n",
       "      <td>0</td>\n",
       "      <td>0</td>\n",
       "      <td>0</td>\n",
       "      <td>0</td>\n",
       "      <td>0</td>\n",
       "      <td>0</td>\n",
       "      <td>0</td>\n",
       "      <td>0</td>\n",
       "      <td>0</td>\n",
       "      <td>0</td>\n",
       "      <td>0</td>\n",
       "      <td>0</td>\n",
       "      <td>1</td>\n",
       "      <td>0</td>\n",
       "      <td>0</td>\n",
       "      <td>0</td>\n",
       "      <td>0</td>\n",
       "    </tr>\n",
       "    <tr>\n",
       "      <th>4</th>\n",
       "      <td>2015000001</td>\n",
       "      <td>0</td>\n",
       "      <td>0.075472</td>\n",
       "      <td>0</td>\n",
       "      <td>0</td>\n",
       "      <td>0</td>\n",
       "      <td>0</td>\n",
       "      <td>0</td>\n",
       "      <td>1</td>\n",
       "      <td>0</td>\n",
       "      <td>0</td>\n",
       "      <td>0</td>\n",
       "      <td>1</td>\n",
       "      <td>0</td>\n",
       "      <td>0</td>\n",
       "      <td>0</td>\n",
       "      <td>0</td>\n",
       "      <td>0</td>\n",
       "      <td>1</td>\n",
       "      <td>0</td>\n",
       "      <td>0</td>\n",
       "      <td>0</td>\n",
       "      <td>1</td>\n",
       "      <td>0</td>\n",
       "      <td>0</td>\n",
       "      <td>0</td>\n",
       "      <td>0</td>\n",
       "      <td>0</td>\n",
       "      <td>0</td>\n",
       "      <td>0</td>\n",
       "      <td>0</td>\n",
       "      <td>0</td>\n",
       "      <td>0</td>\n",
       "      <td>0</td>\n",
       "      <td>0</td>\n",
       "      <td>0</td>\n",
       "      <td>0</td>\n",
       "      <td>0</td>\n",
       "      <td>0</td>\n",
       "      <td>0</td>\n",
       "      <td>0</td>\n",
       "      <td>0</td>\n",
       "      <td>0</td>\n",
       "      <td>0</td>\n",
       "      <td>0</td>\n",
       "      <td>0</td>\n",
       "      <td>0</td>\n",
       "      <td>0</td>\n",
       "      <td>0</td>\n",
       "      <td>0</td>\n",
       "      <td>0</td>\n",
       "      <td>0</td>\n",
       "      <td>0</td>\n",
       "      <td>0</td>\n",
       "      <td>0</td>\n",
       "      <td>0</td>\n",
       "      <td>0</td>\n",
       "      <td>0</td>\n",
       "      <td>1</td>\n",
       "      <td>0</td>\n",
       "      <td>0</td>\n",
       "      <td>0</td>\n",
       "      <td>0</td>\n",
       "      <td>0</td>\n",
       "      <td>0</td>\n",
       "      <td>0</td>\n",
       "      <td>0</td>\n",
       "      <td>0</td>\n",
       "      <td>0</td>\n",
       "      <td>0</td>\n",
       "      <td>0</td>\n",
       "      <td>0</td>\n",
       "      <td>0</td>\n",
       "      <td>0</td>\n",
       "      <td>0</td>\n",
       "      <td>1</td>\n",
       "      <td>0</td>\n",
       "      <td>0</td>\n",
       "      <td>0</td>\n",
       "      <td>0</td>\n",
       "      <td>0</td>\n",
       "      <td>0</td>\n",
       "      <td>0</td>\n",
       "      <td>0</td>\n",
       "      <td>0</td>\n",
       "      <td>0</td>\n",
       "      <td>0</td>\n",
       "      <td>0</td>\n",
       "      <td>0</td>\n",
       "      <td>1</td>\n",
       "      <td>0</td>\n",
       "      <td>0</td>\n",
       "      <td>0</td>\n",
       "      <td>0</td>\n",
       "      <td>0</td>\n",
       "      <td>0</td>\n",
       "      <td>0</td>\n",
       "      <td>0</td>\n",
       "      <td>0</td>\n",
       "    </tr>\n",
       "  </tbody>\n",
       "</table>\n",
       "</div>"
      ],
      "text/plain": [
       "        ab_id  fastball  inning_pitch_count  on_1b  on_2b  on_3b  \\\n",
       "0  2015000001         1            0.000000      0      0      0   \n",
       "1  2015000001         1            0.018868      0      0      0   \n",
       "2  2015000001         1            0.037736      0      0      0   \n",
       "3  2015000001         1            0.056604      0      0      0   \n",
       "4  2015000001         0            0.075472      0      0      0   \n",
       "\n",
       "   p_throws_num  stand_num  top_num  pitch_num_2  pitch_num_3  pitch_num_4  \\\n",
       "0             0          0        1            0            0            0   \n",
       "1             0          0        1            1            0            0   \n",
       "2             0          0        1            0            1            0   \n",
       "3             0          0        1            0            0            1   \n",
       "4             0          0        1            0            0            0   \n",
       "\n",
       "   pitch_num_5  pitch_num_6  pitch_num_7  pitch_num_8  pitch_num_9  \\\n",
       "0            0            0            0            0            0   \n",
       "1            0            0            0            0            0   \n",
       "2            0            0            0            0            0   \n",
       "3            0            0            0            0            0   \n",
       "4            1            0            0            0            0   \n",
       "\n",
       "   pitch_num_10  b_count_1  b_count_2  b_count_3  s_count_1  s_count_2  \\\n",
       "0             0          0          0          0          0          0   \n",
       "1             0          0          0          0          1          0   \n",
       "2             0          0          0          0          0          1   \n",
       "3             0          0          0          0          0          1   \n",
       "4             0          1          0          0          0          1   \n",
       "\n",
       "   outs_1  outs_2  inning_2  inning_3  inning_4  inning_5  inning_6  inning_7  \\\n",
       "0       0       0         0         0         0         0         0         0   \n",
       "1       0       0         0         0         0         0         0         0   \n",
       "2       0       0         0         0         0         0         0         0   \n",
       "3       0       0         0         0         0         0         0         0   \n",
       "4       0       0         0         0         0         0         0         0   \n",
       "\n",
       "   inning_8  inning_9  inning_10  pitcher_lead_-10  pitcher_lead_-9  \\\n",
       "0         0         0          0                 0                0   \n",
       "1         0         0          0                 0                0   \n",
       "2         0         0          0                 0                0   \n",
       "3         0         0          0                 0                0   \n",
       "4         0         0          0                 0                0   \n",
       "\n",
       "   pitcher_lead_-8  pitcher_lead_-7  pitcher_lead_-6  pitcher_lead_-5  \\\n",
       "0                0                0                0                0   \n",
       "1                0                0                0                0   \n",
       "2                0                0                0                0   \n",
       "3                0                0                0                0   \n",
       "4                0                0                0                0   \n",
       "\n",
       "   pitcher_lead_-4  pitcher_lead_-3  pitcher_lead_-2  pitcher_lead_-1  \\\n",
       "0                0                0                0                0   \n",
       "1                0                0                0                0   \n",
       "2                0                0                0                0   \n",
       "3                0                0                0                0   \n",
       "4                0                0                0                0   \n",
       "\n",
       "   pitcher_lead_1  pitcher_lead_2  pitcher_lead_3  pitcher_lead_4  \\\n",
       "0               0               0               0               0   \n",
       "1               0               0               0               0   \n",
       "2               0               0               0               0   \n",
       "3               0               0               0               0   \n",
       "4               0               0               0               0   \n",
       "\n",
       "   pitcher_lead_5  pitcher_lead_6  pitcher_lead_7  pitcher_lead_8  \\\n",
       "0               0               0               0               0   \n",
       "1               0               0               0               0   \n",
       "2               0               0               0               0   \n",
       "3               0               0               0               0   \n",
       "4               0               0               0               0   \n",
       "\n",
       "   pitcher_lead_9  pitcher_lead_10  prev_pitch_CH  prev_pitch_CU  \\\n",
       "0               0                0              0              0   \n",
       "1               0                0              0              0   \n",
       "2               0                0              0              0   \n",
       "3               0                0              0              0   \n",
       "4               0                0              0              0   \n",
       "\n",
       "   prev_pitch_EP  prev_pitch_FC  prev_pitch_FF  prev_pitch_FO  prev_pitch_FS  \\\n",
       "0              0              0              0              0              0   \n",
       "1              0              0              1              0              0   \n",
       "2              0              0              1              0              0   \n",
       "3              0              0              1              0              0   \n",
       "4              0              0              1              0              0   \n",
       "\n",
       "   prev_pitch_FT  prev_pitch_IN  prev_pitch_KC  prev_pitch_KN  prev_pitch_PO  \\\n",
       "0              0              0              0              0              0   \n",
       "1              0              0              0              0              0   \n",
       "2              0              0              0              0              0   \n",
       "3              0              0              0              0              0   \n",
       "4              0              0              0              0              0   \n",
       "\n",
       "   prev_pitch_SC  prev_pitch_SI  prev_pitch_SL  px_prev_(-4.008, -3.467]  \\\n",
       "0              0              0              0                         0   \n",
       "1              0              0              0                         0   \n",
       "2              0              0              0                         0   \n",
       "3              0              0              0                         0   \n",
       "4              0              0              0                         0   \n",
       "\n",
       "   px_prev_(-3.467, -2.933]  px_prev_(-2.933, -2.4]  px_prev_(-2.4, -1.867]  \\\n",
       "0                         0                       0                       0   \n",
       "1                         0                       0                       0   \n",
       "2                         0                       0                       0   \n",
       "3                         0                       0                       0   \n",
       "4                         0                       0                       0   \n",
       "\n",
       "   px_prev_(-1.867, -1.333]  px_prev_(-1.333, -0.8]  px_prev_(-0.8, -0.267]  \\\n",
       "0                         0                       0                       0   \n",
       "1                         0                       0                       0   \n",
       "2                         0                       0                       0   \n",
       "3                         0                       0                       1   \n",
       "4                         0                       0                       1   \n",
       "\n",
       "   px_prev_(-0.267, 0.267]  px_prev_(0.267, 0.8]  px_prev_(0.8, 1.333]  \\\n",
       "0                        0                     0                     0   \n",
       "1                        0                     1                     0   \n",
       "2                        1                     0                     0   \n",
       "3                        0                     0                     0   \n",
       "4                        0                     0                     0   \n",
       "\n",
       "   px_prev_(1.333, 1.867]  px_prev_(1.867, 2.4]  px_prev_(2.4, 2.933]  \\\n",
       "0                       0                     0                     0   \n",
       "1                       0                     0                     0   \n",
       "2                       0                     0                     0   \n",
       "3                       0                     0                     0   \n",
       "4                       0                     0                     0   \n",
       "\n",
       "   px_prev_(2.933, 3.467]  px_prev_(3.467, 4.0]  pz_prev_(-1.006, -0.6]  \\\n",
       "0                       0                     0                       0   \n",
       "1                       0                     0                       0   \n",
       "2                       0                     0                       0   \n",
       "3                       0                     0                       0   \n",
       "4                       0                     0                       0   \n",
       "\n",
       "   pz_prev_(-0.6, -0.2]  pz_prev_(-0.2, 0.2]  pz_prev_(0.2, 0.6]  \\\n",
       "0                     0                    0                   0   \n",
       "1                     0                    0                   0   \n",
       "2                     0                    0                   0   \n",
       "3                     0                    0                   0   \n",
       "4                     0                    0                   0   \n",
       "\n",
       "   pz_prev_(0.6, 1.0]  pz_prev_(1.0, 1.4]  pz_prev_(1.4, 1.8]  \\\n",
       "0                   0                   0                   0   \n",
       "1                   0                   0                   0   \n",
       "2                   0                   0                   0   \n",
       "3                   0                   0                   0   \n",
       "4                   0                   1                   0   \n",
       "\n",
       "   pz_prev_(1.8, 2.2]  pz_prev_(2.2, 2.6]  pz_prev_(2.6, 3.0]  \\\n",
       "0                   0                   0                   0   \n",
       "1                   0                   0                   1   \n",
       "2                   0                   1                   0   \n",
       "3                   0                   0                   0   \n",
       "4                   0                   0                   0   \n",
       "\n",
       "   pz_prev_(3.0, 3.4]  pz_prev_(3.4, 3.8]  pz_prev_(3.8, 4.2]  \\\n",
       "0                   0                   0                   0   \n",
       "1                   0                   0                   0   \n",
       "2                   0                   0                   0   \n",
       "3                   1                   0                   0   \n",
       "4                   0                   0                   0   \n",
       "\n",
       "   pz_prev_(4.2, 4.6]  pz_prev_(4.6, 5.0]  \n",
       "0                   0                   0  \n",
       "1                   0                   0  \n",
       "2                   0                   0  \n",
       "3                   0                   0  \n",
       "4                   0                   0  "
      ]
     },
     "execution_count": 4,
     "metadata": {},
     "output_type": "execute_result"
    }
   ],
   "source": [
    "df_model.head()"
   ]
  },
  {
   "cell_type": "code",
   "execution_count": 5,
   "metadata": {},
   "outputs": [
    {
     "data": {
      "text/plain": [
       "(2867154, 99)"
      ]
     },
     "execution_count": 5,
     "metadata": {},
     "output_type": "execute_result"
    }
   ],
   "source": [
    "df_model.shape"
   ]
  },
  {
   "cell_type": "code",
   "execution_count": 4,
   "metadata": {},
   "outputs": [
    {
     "data": {
      "text/plain": [
       "0.52404827586206892"
      ]
     },
     "execution_count": 4,
     "metadata": {},
     "output_type": "execute_result"
    }
   ],
   "source": [
    "# create the sample dataframe\n",
    "df_sample = df_model.sample(145000, random_state=6)\n",
    "\n",
    "# verify the fastball/non-fastball split\n",
    "df_sample['fastball'].sum() / len(df_sample)"
   ]
  },
  {
   "cell_type": "code",
   "execution_count": 5,
   "metadata": {},
   "outputs": [],
   "source": [
    "# split the dataframe\n",
    "X = df_sample.iloc[:, 2:]\n",
    "y = df_sample.iloc[:, 1]\n",
    "\n",
    "# split the data into train and test sets\n",
    "from sklearn.model_selection import train_test_split\n",
    "X_train, X_test, y_train, y_test = train_test_split(X, y, random_state=6, stratify=y)"
   ]
  },
  {
   "cell_type": "markdown",
   "metadata": {},
   "source": [
    "### Logistic Regression"
   ]
  },
  {
   "cell_type": "code",
   "execution_count": 9,
   "metadata": {},
   "outputs": [
    {
     "name": "stderr",
     "output_type": "stream",
     "text": [
      "C:\\Users\\Owner\\Anaconda3\\lib\\site-packages\\sklearn\\linear_model\\logistic.py:433: FutureWarning: Default solver will be changed to 'lbfgs' in 0.22. Specify a solver to silence this warning.\n",
      "  FutureWarning)\n"
     ]
    },
    {
     "name": "stdout",
     "output_type": "stream",
     "text": [
      "Training Set Accuracy: 0.6035770114942529\n",
      "Test Set Accuracy: 0.6015172413793104\n"
     ]
    }
   ],
   "source": [
    "from sklearn.linear_model import LogisticRegression\n",
    "lr = LogisticRegression()\n",
    "lr.fit(X_train, y_train)\n",
    "y_pred_lr = lr.predict(X_test)\n",
    "print('Training Set Accuracy: {}'.format(lr.score(X_train, y_train)))\n",
    "print('Test Set Accuracy: {}'.format(lr.score(X_test, y_test)))"
   ]
  },
  {
   "cell_type": "markdown",
   "metadata": {},
   "source": [
    "### SGDClassifier"
   ]
  },
  {
   "cell_type": "code",
   "execution_count": 10,
   "metadata": {},
   "outputs": [
    {
     "name": "stderr",
     "output_type": "stream",
     "text": [
      "C:\\Users\\Owner\\Anaconda3\\lib\\site-packages\\sklearn\\linear_model\\stochastic_gradient.py:166: FutureWarning: max_iter and tol parameters have been added in SGDClassifier in 0.19. If both are left unset, they default to max_iter=5 and tol=None. If tol is not None, max_iter defaults to max_iter=1000. From 0.21, default max_iter will be 1000, and default tol will be 1e-3.\n",
      "  FutureWarning)\n"
     ]
    },
    {
     "name": "stdout",
     "output_type": "stream",
     "text": [
      "Training Set Accuracy: 0.593103448275862\n",
      "Test Set Accuracy: 0.5919172413793103\n"
     ]
    }
   ],
   "source": [
    "from sklearn.linear_model import SGDClassifier\n",
    "sgdc = SGDClassifier()\n",
    "sgdc.fit(X_train, y_train)\n",
    "y_pred_sgdc = sgdc.predict(X_test)\n",
    "print('Training Set Accuracy: {}'.format(sgdc.score(X_train, y_train)))\n",
    "print('Test Set Accuracy: {}'.format(sgdc.score(X_test, y_test)))"
   ]
  },
  {
   "cell_type": "markdown",
   "metadata": {},
   "source": [
    "### Random Forest Classifier"
   ]
  },
  {
   "cell_type": "code",
   "execution_count": 11,
   "metadata": {},
   "outputs": [
    {
     "name": "stderr",
     "output_type": "stream",
     "text": [
      "C:\\Users\\Owner\\Anaconda3\\lib\\site-packages\\sklearn\\ensemble\\forest.py:246: FutureWarning: The default value of n_estimators will change from 10 in version 0.20 to 100 in 0.22.\n",
      "  \"10 in version 0.20 to 100 in 0.22.\", FutureWarning)\n"
     ]
    },
    {
     "name": "stdout",
     "output_type": "stream",
     "text": [
      "Training Set Accuracy: 0.9470712643678161\n",
      "Test Set Accuracy: 0.569544827586207\n"
     ]
    }
   ],
   "source": [
    "from sklearn.ensemble import RandomForestClassifier\n",
    "rfc = RandomForestClassifier()\n",
    "rfc.fit(X_train, y_train)\n",
    "y_pred_rfc = rfc.predict(X_test)\n",
    "print('Training Set Accuracy: {}'.format(rfc.score(X_train, y_train)))\n",
    "print('Test Set Accuracy: {}'.format(rfc.score(X_test, y_test)))"
   ]
  },
  {
   "cell_type": "markdown",
   "metadata": {},
   "source": [
    "### Gradient Boosting Classifier"
   ]
  },
  {
   "cell_type": "code",
   "execution_count": 12,
   "metadata": {},
   "outputs": [
    {
     "name": "stdout",
     "output_type": "stream",
     "text": [
      "Training Set Accuracy: 0.6062988505747127\n",
      "Test Set Accuracy: 0.601848275862069\n"
     ]
    }
   ],
   "source": [
    "from sklearn.ensemble import GradientBoostingClassifier\n",
    "gbc = GradientBoostingClassifier()\n",
    "gbc.fit(X_train, y_train)\n",
    "y_pred_gbc = gbc.predict(X_test)\n",
    "print('Training Set Accuracy: {}'.format(gbc.score(X_train, y_train)))\n",
    "print('Test Set Accuracy: {}'.format(gbc.score(X_test, y_test)))"
   ]
  },
  {
   "cell_type": "markdown",
   "metadata": {},
   "source": [
    "It looks as though the previous pitch data and pitch count featuers have improved the overall accuracy of the various models significantly.  I will now try to tune some hyperparameters to see if I can improve the performance even more."
   ]
  },
  {
   "cell_type": "markdown",
   "metadata": {},
   "source": [
    "## Hyperparameter Tuning"
   ]
  },
  {
   "cell_type": "markdown",
   "metadata": {},
   "source": [
    "Of the four classifiers we tested, the logistic regression and gradient boosting classifiers performed the best using their respective default settings, with both achieving an overall accuracy score of over 0.60 on the test set.  I will tune the parameters for each model to see if I can improve performance.\n",
    "\n",
    "### Logistic Regression\n",
    "\n",
    "I will first tune the `C` hyperparameter:"
   ]
  },
  {
   "cell_type": "code",
   "execution_count": 14,
   "metadata": {},
   "outputs": [
    {
     "name": "stdout",
     "output_type": "stream",
     "text": [
      "C value 0.01 Training Set Accuracy: 0.6027862068965517\n",
      "C value 0.01 Test Set Accuracy: 0.6011586206896552\n",
      "C value 0.1 Training Set Accuracy: 0.6029057471264367\n",
      "C value 0.1 Test Set Accuracy: 0.6012689655172414\n",
      "C value 1 Training Set Accuracy: 0.6036137931034483\n",
      "C value 1 Test Set Accuracy: 0.6014896551724138\n",
      "C value 10 Training Set Accuracy: 0.603567816091954\n",
      "C value 10 Test Set Accuracy: 0.6015724137931034\n",
      "C value 100 Training Set Accuracy: 0.6036229885057471\n",
      "C value 100 Test Set Accuracy: 0.6016551724137931\n",
      "C value 1000 Training Set Accuracy: 0.6036413793103448\n",
      "C value 1000 Test Set Accuracy: 0.6016827586206897\n",
      "C value 10000 Training Set Accuracy: 0.6036689655172414\n",
      "C value 10000 Test Set Accuracy: 0.6016275862068966\n"
     ]
    }
   ],
   "source": [
    "from sklearn.linear_model import LogisticRegression\n",
    "c_list = [0.01, 0.1, 1, 10, 100, 1000, 10000]\n",
    "for c in c_list:\n",
    "    lr = LogisticRegression(C=c, solver='lbfgs', max_iter=1000)\n",
    "    lr.fit(X_train, y_train)\n",
    "    y_pred_lr = lr.predict(X_test)\n",
    "    print('C value {} Training Set Accuracy: {}'.format(c, lr.score(X_train, y_train)))\n",
    "    print('C value {} Test Set Accuracy: {}'.format(c, lr.score(X_test, y_test)))\n"
   ]
  },
  {
   "cell_type": "markdown",
   "metadata": {},
   "source": [
    "It appears that a `C` regularization value of 1000 produces the highest accuracy.  Let's tune the `solver` next:"
   ]
  },
  {
   "cell_type": "code",
   "execution_count": 10,
   "metadata": {},
   "outputs": [
    {
     "name": "stdout",
     "output_type": "stream",
     "text": [
      "Solver value liblinear Training Set Accuracy: 0.6035770114942529\n",
      "Solver value liblinear Test Set Accuracy: 0.6016\n",
      "Solver value lbfgs Training Set Accuracy: 0.6036413793103448\n",
      "Solver value lbfgs Test Set Accuracy: 0.6016827586206897\n"
     ]
    }
   ],
   "source": [
    "from sklearn.linear_model import LogisticRegression\n",
    "solver_list = ['liblinear', 'lbfgs']\n",
    "for solver in solver_list:\n",
    "    lr = LogisticRegression(C=1000, solver=solver, max_iter=1000)\n",
    "    lr.fit(X_train, y_train)\n",
    "    y_pred_lr = lr.predict(X_test)\n",
    "    print('Solver value {} Training Set Accuracy: {}'.format(solver, lr.score(X_train, y_train)))\n",
    "    print('Solver value {} Test Set Accuracy: {}'.format(solver, lr.score(X_test, y_test)))"
   ]
  },
  {
   "cell_type": "markdown",
   "metadata": {},
   "source": [
    "The default `lbfgs` solver performed best on our dataset (NOTE - the `sag` and `saga` solvers took considerably longer to run with a `C` value of 1000, so I excluded them from consideration for practical reasons).  The`lbfgs` solver only supports a `penalty` of `l2`, so there is no need to tune that parameter.\n",
    "\n",
    "### Logistic Regression Hyperparameter Tuning Summary\n",
    "\n",
    "Below is a summary hyperparameter tuning table for the logistic regression model:"
   ]
  },
  {
   "cell_type": "code",
   "execution_count": 4,
   "metadata": {},
   "outputs": [
    {
     "data": {
      "text/html": [
       "<div>\n",
       "<style scoped>\n",
       "    .dataframe tbody tr th:only-of-type {\n",
       "        vertical-align: middle;\n",
       "    }\n",
       "\n",
       "    .dataframe tbody tr th {\n",
       "        vertical-align: top;\n",
       "    }\n",
       "\n",
       "    .dataframe thead th {\n",
       "        text-align: right;\n",
       "    }\n",
       "</style>\n",
       "<table border=\"1\" class=\"dataframe\">\n",
       "  <thead>\n",
       "    <tr style=\"text-align: right;\">\n",
       "      <th></th>\n",
       "      <th>Tune</th>\n",
       "      <th>C</th>\n",
       "      <th>Solver</th>\n",
       "      <th>Max_iter</th>\n",
       "      <th>Train Accuracy</th>\n",
       "      <th>Test Accuracy</th>\n",
       "    </tr>\n",
       "  </thead>\n",
       "  <tbody>\n",
       "    <tr>\n",
       "      <th>8</th>\n",
       "      <td>tune_solver</td>\n",
       "      <td>1000.00</td>\n",
       "      <td>lbfgs</td>\n",
       "      <td>1000</td>\n",
       "      <td>0.6036</td>\n",
       "      <td>0.60170</td>\n",
       "    </tr>\n",
       "    <tr>\n",
       "      <th>5</th>\n",
       "      <td>tune_C</td>\n",
       "      <td>1000.00</td>\n",
       "      <td>lbfgs</td>\n",
       "      <td>1000</td>\n",
       "      <td>0.6036</td>\n",
       "      <td>0.60168</td>\n",
       "    </tr>\n",
       "    <tr>\n",
       "      <th>4</th>\n",
       "      <td>tune_C</td>\n",
       "      <td>100.00</td>\n",
       "      <td>lbfgs</td>\n",
       "      <td>1000</td>\n",
       "      <td>0.6036</td>\n",
       "      <td>0.60165</td>\n",
       "    </tr>\n",
       "    <tr>\n",
       "      <th>3</th>\n",
       "      <td>tune_C</td>\n",
       "      <td>10.00</td>\n",
       "      <td>lbfgs</td>\n",
       "      <td>1000</td>\n",
       "      <td>0.6036</td>\n",
       "      <td>0.60160</td>\n",
       "    </tr>\n",
       "    <tr>\n",
       "      <th>6</th>\n",
       "      <td>tune_C</td>\n",
       "      <td>10000.00</td>\n",
       "      <td>lbfgs</td>\n",
       "      <td>1000</td>\n",
       "      <td>0.6037</td>\n",
       "      <td>0.60160</td>\n",
       "    </tr>\n",
       "    <tr>\n",
       "      <th>7</th>\n",
       "      <td>tune_solver</td>\n",
       "      <td>1000.00</td>\n",
       "      <td>liblinear</td>\n",
       "      <td>1000</td>\n",
       "      <td>0.6036</td>\n",
       "      <td>0.60160</td>\n",
       "    </tr>\n",
       "    <tr>\n",
       "      <th>2</th>\n",
       "      <td>tune_C</td>\n",
       "      <td>1.00</td>\n",
       "      <td>lbfgs</td>\n",
       "      <td>1000</td>\n",
       "      <td>0.6036</td>\n",
       "      <td>0.60150</td>\n",
       "    </tr>\n",
       "    <tr>\n",
       "      <th>1</th>\n",
       "      <td>tune_C</td>\n",
       "      <td>0.10</td>\n",
       "      <td>lbfgs</td>\n",
       "      <td>1000</td>\n",
       "      <td>0.6029</td>\n",
       "      <td>0.60130</td>\n",
       "    </tr>\n",
       "    <tr>\n",
       "      <th>0</th>\n",
       "      <td>tune_C</td>\n",
       "      <td>0.01</td>\n",
       "      <td>lbfgs</td>\n",
       "      <td>1000</td>\n",
       "      <td>0.6027</td>\n",
       "      <td>0.60120</td>\n",
       "    </tr>\n",
       "  </tbody>\n",
       "</table>\n",
       "</div>"
      ],
      "text/plain": [
       "          Tune         C     Solver  Max_iter  Train Accuracy  Test Accuracy\n",
       "8  tune_solver   1000.00      lbfgs      1000          0.6036        0.60170\n",
       "5       tune_C   1000.00      lbfgs      1000          0.6036        0.60168\n",
       "4       tune_C    100.00      lbfgs      1000          0.6036        0.60165\n",
       "3       tune_C     10.00      lbfgs      1000          0.6036        0.60160\n",
       "6       tune_C  10000.00      lbfgs      1000          0.6037        0.60160\n",
       "7  tune_solver   1000.00  liblinear      1000          0.6036        0.60160\n",
       "2       tune_C      1.00      lbfgs      1000          0.6036        0.60150\n",
       "1       tune_C      0.10      lbfgs      1000          0.6029        0.60130\n",
       "0       tune_C      0.01      lbfgs      1000          0.6027        0.60120"
      ]
     },
     "execution_count": 4,
     "metadata": {},
     "output_type": "execute_result"
    }
   ],
   "source": [
    "df_lr_tune = pd.read_excel('lr_hyperparameters_table.xlsx')\n",
    "df_lr_tune.sort_values('Test Accuracy', ascending=False)"
   ]
  },
  {
   "cell_type": "markdown",
   "metadata": {},
   "source": [
    "So, I will use the following hyperparamters for the final model:\n",
    "\n",
    "-  `C`: 1000\n",
    "-  `Solver`: `lbgfs`"
   ]
  },
  {
   "cell_type": "markdown",
   "metadata": {},
   "source": [
    "### Gradient Boosting Classifer\n",
    "\n",
    "The gradient boosting classifier has more hyperparameters to tune, but also is an ensemble classifier that could potentially perform better on the dataset.  I will first tune the `n_estimators` hyperparameter using some placeholder values for the other hyperparameters:"
   ]
  },
  {
   "cell_type": "code",
   "execution_count": 11,
   "metadata": {},
   "outputs": [
    {
     "name": "stdout",
     "output_type": "stream",
     "text": [
      "N value 60 Training Set Accuracy: 0.6169287356321839\n",
      "N value 60 Test Set Accuracy: 0.6035586206896552\n",
      "N value 70 Training Set Accuracy: 0.6184735632183908\n",
      "N value 70 Test Set Accuracy: 0.6044137931034482\n",
      "N value 80 Training Set Accuracy: 0.6208183908045977\n",
      "N value 80 Test Set Accuracy: 0.6044413793103448\n",
      "N value 90 Training Set Accuracy: 0.6218022988505747\n",
      "N value 90 Test Set Accuracy: 0.6045793103448276\n",
      "N value 100 Training Set Accuracy: 0.6225287356321839\n",
      "N value 100 Test Set Accuracy: 0.603751724137931\n"
     ]
    }
   ],
   "source": [
    "from sklearn.ensemble import GradientBoostingClassifier\n",
    "n_list = [60, 70, 80, 90, 100]\n",
    "for n in n_list:\n",
    "    gbc = GradientBoostingClassifier(n_estimators=n, min_samples_split=750, min_samples_leaf=50, max_depth=8, max_features='sqrt', subsample=0.8, random_state=6)\n",
    "    gbc.fit(X_train, y_train)\n",
    "    gbc_pred_lr = gbc.predict(X_test)\n",
    "    print('N value {} Training Set Accuracy: {}'.format(n, gbc.score(X_train, y_train)))\n",
    "    print('N value {} Test Set Accuracy: {}'.format(n, gbc.score(X_test, y_test)))"
   ]
  },
  {
   "cell_type": "markdown",
   "metadata": {},
   "source": [
    "An `n_estimators` value of 90 produced the optimum test set accuracy, so we will move forward with that value.  Next I will tune the `max_depth` hyperparameter: "
   ]
  },
  {
   "cell_type": "code",
   "execution_count": 12,
   "metadata": {},
   "outputs": [
    {
     "name": "stdout",
     "output_type": "stream",
     "text": [
      "Max depth value 6 Training Set Accuracy: 0.6129011494252874\n",
      "Max depth value 6 Test Set Accuracy: 0.604\n",
      "Max depth value 7 Training Set Accuracy: 0.6167448275862069\n",
      "Max depth value 7 Test Set Accuracy: 0.6046344827586206\n",
      "Max depth value 8 Training Set Accuracy: 0.6218022988505747\n",
      "Max depth value 8 Test Set Accuracy: 0.6045793103448276\n",
      "Max depth value 9 Training Set Accuracy: 0.6248091954022988\n",
      "Max depth value 9 Test Set Accuracy: 0.6051862068965517\n",
      "Max depth value 10 Training Set Accuracy: 0.6300413793103449\n",
      "Max depth value 10 Test Set Accuracy: 0.6036689655172414\n"
     ]
    }
   ],
   "source": [
    "from sklearn.ensemble import GradientBoostingClassifier\n",
    "depth_list = [6, 7, 8, 9, 10]\n",
    "for depth in depth_list:\n",
    "    gbc = GradientBoostingClassifier(n_estimators=90, min_samples_split=750, min_samples_leaf=50, max_depth=depth, max_features='sqrt', subsample=0.8, random_state=6)\n",
    "    gbc.fit(X_train, y_train)\n",
    "    gbc_pred_lr = gbc.predict(X_test)\n",
    "    print('Max depth value {} Training Set Accuracy: {}'.format(depth, gbc.score(X_train, y_train)))\n",
    "    print('Max depth value {} Test Set Accuracy: {}'.format(depth, gbc.score(X_test, y_test)))"
   ]
  },
  {
   "cell_type": "markdown",
   "metadata": {},
   "source": [
    "The training set accuracy increases as we increase the depth, but the test set accuracy peaked at a depth of 9, so we likely should use that value.  I will test the model at max depths 11-13 just to be sure: "
   ]
  },
  {
   "cell_type": "code",
   "execution_count": 13,
   "metadata": {},
   "outputs": [
    {
     "name": "stdout",
     "output_type": "stream",
     "text": [
      "Max depth value 11 Training Set Accuracy: 0.6335264367816092\n",
      "Max depth value 11 Test Set Accuracy: 0.6042758620689656\n",
      "Max depth value 12 Training Set Accuracy: 0.6367632183908046\n",
      "Max depth value 12 Test Set Accuracy: 0.6048827586206896\n",
      "Max depth value 13 Training Set Accuracy: 0.6393471264367816\n",
      "Max depth value 13 Test Set Accuracy: 0.6046344827586206\n"
     ]
    }
   ],
   "source": [
    "from sklearn.ensemble import GradientBoostingClassifier\n",
    "depth_list = [11, 12, 13]\n",
    "for depth in depth_list:\n",
    "    gbc = GradientBoostingClassifier(n_estimators=90, min_samples_split=750, min_samples_leaf=50, max_depth=depth, max_features='sqrt', subsample=0.8, random_state=6)\n",
    "    gbc.fit(X_train, y_train)\n",
    "    gbc_pred_lr = gbc.predict(X_test)\n",
    "    print('Max depth value {} Training Set Accuracy: {}'.format(depth, gbc.score(X_train, y_train)))\n",
    "    print('Max depth value {} Test Set Accuracy: {}'.format(depth, gbc.score(X_test, y_test)))"
   ]
  },
  {
   "cell_type": "markdown",
   "metadata": {},
   "source": [
    "The model continued to overfit as the depth increased without improving the test accuracy, thus confirming that we should move forward with a max depth of 9.  Next, I will tune the `min_samples_split` hyperparameter:"
   ]
  },
  {
   "cell_type": "code",
   "execution_count": 14,
   "metadata": {},
   "outputs": [
    {
     "name": "stdout",
     "output_type": "stream",
     "text": [
      "Split value 600 Training Set Accuracy: 0.6252781609195402\n",
      "Split value 600 Test Set Accuracy: 0.6060137931034483\n",
      "Split value 700 Training Set Accuracy: 0.6248091954022988\n",
      "Split value 700 Test Set Accuracy: 0.605351724137931\n",
      "Split value 800 Training Set Accuracy: 0.6241747126436782\n",
      "Split value 800 Test Set Accuracy: 0.6059862068965517\n",
      "Split value 900 Training Set Accuracy: 0.624128735632184\n",
      "Split value 900 Test Set Accuracy: 0.6032275862068965\n",
      "Split value 1000 Training Set Accuracy: 0.623687356321839\n",
      "Split value 1000 Test Set Accuracy: 0.6043862068965518\n"
     ]
    }
   ],
   "source": [
    "from sklearn.ensemble import GradientBoostingClassifier\n",
    "split_list = [600, 700, 800, 900, 1000]\n",
    "for split in split_list:\n",
    "    gbc = GradientBoostingClassifier(n_estimators=90, min_samples_split=split, min_samples_leaf=50, max_depth=9, max_features='sqrt', subsample=0.8, random_state=6)\n",
    "    gbc.fit(X_train, y_train)\n",
    "    gbc_pred_lr = gbc.predict(X_test)\n",
    "    print('Split value {} Training Set Accuracy: {}'.format(split, gbc.score(X_train, y_train)))\n",
    "    print('Split value {} Test Set Accuracy: {}'.format(split, gbc.score(X_test, y_test)))"
   ]
  },
  {
   "cell_type": "markdown",
   "metadata": {},
   "source": [
    "The optimum `min_samples_split` value was the lowest tested value of 600.  Let's test some lower values:"
   ]
  },
  {
   "cell_type": "code",
   "execution_count": 15,
   "metadata": {},
   "outputs": [
    {
     "name": "stdout",
     "output_type": "stream",
     "text": [
      "Split value 500 Training Set Accuracy: 0.6265287356321839\n",
      "Split value 500 Test Set Accuracy: 0.6031172413793103\n",
      "Split value 400 Training Set Accuracy: 0.6283770114942528\n",
      "Split value 400 Test Set Accuracy: 0.6025655172413793\n",
      "Split value 300 Training Set Accuracy: 0.6304091954022989\n",
      "Split value 300 Test Set Accuracy: 0.6046068965517242\n"
     ]
    }
   ],
   "source": [
    "from sklearn.ensemble import GradientBoostingClassifier\n",
    "split_list = [500, 400, 300]\n",
    "for split in split_list:\n",
    "    gbc = GradientBoostingClassifier(n_estimators=90, min_samples_split=split, min_samples_leaf=50, max_depth=9, max_features='sqrt', subsample=0.8, random_state=6)\n",
    "    gbc.fit(X_train, y_train)\n",
    "    gbc_pred_lr = gbc.predict(X_test)\n",
    "    print('Split value {} Training Set Accuracy: {}'.format(split, gbc.score(X_train, y_train)))\n",
    "    print('Split value {} Test Set Accuracy: {}'.format(split, gbc.score(X_test, y_test)))"
   ]
  },
  {
   "cell_type": "markdown",
   "metadata": {},
   "source": [
    "None of these values outperformed a `min_samples_split` value of 600.  We will proceed with 600 as the optimal value, though note that the results at 800 were only marginally worse.  Next, I will tune the `min_samples_leaf` hyperparameter:"
   ]
  },
  {
   "cell_type": "code",
   "execution_count": 17,
   "metadata": {},
   "outputs": [
    {
     "name": "stdout",
     "output_type": "stream",
     "text": [
      "Leaf value 35 Training Set Accuracy: 0.6272919540229885\n",
      "Leaf value 35 Test Set Accuracy: 0.6036413793103448\n",
      "Leaf value 40 Training Set Accuracy: 0.6262344827586207\n",
      "Leaf value 40 Test Set Accuracy: 0.6041655172413793\n",
      "Leaf value 45 Training Set Accuracy: 0.6269609195402299\n",
      "Leaf value 45 Test Set Accuracy: 0.6039448275862069\n",
      "Leaf value 50 Training Set Accuracy: 0.6252781609195402\n",
      "Leaf value 50 Test Set Accuracy: 0.6060137931034483\n",
      "Leaf value 55 Training Set Accuracy: 0.6261425287356321\n",
      "Leaf value 55 Test Set Accuracy: 0.6037793103448276\n",
      "Leaf value 60 Training Set Accuracy: 0.6263724137931035\n",
      "Leaf value 60 Test Set Accuracy: 0.6054068965517241\n",
      "Leaf value 65 Training Set Accuracy: 0.6247724137931034\n",
      "Leaf value 65 Test Set Accuracy: 0.6054068965517241\n"
     ]
    }
   ],
   "source": [
    "from sklearn.ensemble import GradientBoostingClassifier\n",
    "leaf_list = [35, 40, 45, 50, 55, 60, 65]\n",
    "for leaf in leaf_list:\n",
    "    gbc = GradientBoostingClassifier(n_estimators=90, min_samples_split=600, min_samples_leaf=leaf, max_depth=9, max_features='sqrt', subsample=0.8, random_state=6)\n",
    "    gbc.fit(X_train, y_train)\n",
    "    gbc_pred_lr = gbc.predict(X_test)\n",
    "    print('Leaf value {} Training Set Accuracy: {}'.format(leaf, gbc.score(X_train, y_train)))\n",
    "    print('Leaf value {} Test Set Accuracy: {}'.format(leaf, gbc.score(X_test, y_test)))"
   ]
  },
  {
   "cell_type": "markdown",
   "metadata": {},
   "source": [
    "A `min_samples_leaf` value of 50 outperformed the other values on the test set, though it may be an outlier to the general trend that the model improved as the miminum sample leaf value increased.  Let's try a few more:"
   ]
  },
  {
   "cell_type": "code",
   "execution_count": 18,
   "metadata": {
    "scrolled": true
   },
   "outputs": [
    {
     "name": "stdout",
     "output_type": "stream",
     "text": [
      "Leaf value 70 Training Set Accuracy: 0.6252229885057471\n",
      "Leaf value 70 Test Set Accuracy: 0.6028137931034483\n",
      "Leaf value 75 Training Set Accuracy: 0.6237057471264368\n",
      "Leaf value 75 Test Set Accuracy: 0.6047172413793104\n",
      "Leaf value 80 Training Set Accuracy: 0.6244689655172414\n",
      "Leaf value 80 Test Set Accuracy: 0.6046896551724138\n"
     ]
    }
   ],
   "source": [
    "from sklearn.ensemble import GradientBoostingClassifier\n",
    "leaf_list = [70, 75, 80]\n",
    "for leaf in leaf_list:\n",
    "    gbc = GradientBoostingClassifier(n_estimators=90, min_samples_split=600, min_samples_leaf=leaf, max_depth=9, max_features='sqrt', subsample=0.8, random_state=6)\n",
    "    gbc.fit(X_train, y_train)\n",
    "    gbc_pred_lr = gbc.predict(X_test)\n",
    "    print('Leaf value {} Training Set Accuracy: {}'.format(leaf, gbc.score(X_train, y_train)))\n",
    "    print('Leaf value {} Test Set Accuracy: {}'.format(leaf, gbc.score(X_test, y_test)))"
   ]
  },
  {
   "cell_type": "markdown",
   "metadata": {},
   "source": [
    "The test set accuracy did not increase, so we can move forward with a `min_samples_leaf` value of 50.  Next, I will tune the `max_features` hyperparameter:"
   ]
  },
  {
   "cell_type": "code",
   "execution_count": 20,
   "metadata": {},
   "outputs": [
    {
     "name": "stdout",
     "output_type": "stream",
     "text": [
      "Feature value 8 Training Set Accuracy: 0.6234390804597701\n",
      "Feature value 8 Test Set Accuracy: 0.6037793103448276\n",
      "Feature value 9 Training Set Accuracy: 0.6252781609195402\n",
      "Feature value 9 Test Set Accuracy: 0.6060137931034483\n",
      "Feature value 10 Training Set Accuracy: 0.6278436781609196\n",
      "Feature value 10 Test Set Accuracy: 0.6049379310344828\n",
      "Feature value 11 Training Set Accuracy: 0.627880459770115\n",
      "Feature value 11 Test Set Accuracy: 0.6048275862068966\n"
     ]
    }
   ],
   "source": [
    "from sklearn.ensemble import GradientBoostingClassifier\n",
    "features_list = [8, 9, 10, 11]\n",
    "for feature in features_list:\n",
    "    gbc = GradientBoostingClassifier(n_estimators=90, min_samples_split=600, min_samples_leaf=50, max_depth=9, max_features=feature, subsample=0.8, random_state=6)\n",
    "    gbc.fit(X_train, y_train)\n",
    "    gbc_pred_lr = gbc.predict(X_test)\n",
    "    print('Feature value {} Training Set Accuracy: {}'.format(feature, gbc.score(X_train, y_train)))\n",
    "    print('Feature value {} Test Set Accuracy: {}'.format(feature, gbc.score(X_test, y_test)))"
   ]
  },
  {
   "cell_type": "markdown",
   "metadata": {},
   "source": [
    "It looks like 9 is the optimum value for `max_features`, which makes sense because that is approximately the value of the square root of the number of features in our model.  Now we can tune the `subsample` hyperparameter:"
   ]
  },
  {
   "cell_type": "code",
   "execution_count": 21,
   "metadata": {
    "scrolled": true
   },
   "outputs": [
    {
     "name": "stdout",
     "output_type": "stream",
     "text": [
      "Subsample value 0.7 Training Set Accuracy: 0.6237241379310344\n",
      "Subsample value 0.7 Test Set Accuracy: 0.6061241379310345\n",
      "Subsample value 0.75 Training Set Accuracy: 0.6256643678160919\n",
      "Subsample value 0.75 Test Set Accuracy: 0.6043862068965518\n",
      "Subsample value 0.8 Training Set Accuracy: 0.6252781609195402\n",
      "Subsample value 0.8 Test Set Accuracy: 0.6060137931034483\n",
      "Subsample value 0.85 Training Set Accuracy: 0.6263816091954023\n",
      "Subsample value 0.85 Test Set Accuracy: 0.6059862068965517\n",
      "Subsample value 0.9 Training Set Accuracy: 0.6280459770114942\n",
      "Subsample value 0.9 Test Set Accuracy: 0.6046344827586206\n"
     ]
    }
   ],
   "source": [
    "from sklearn.ensemble import GradientBoostingClassifier\n",
    "subsample_list = [0.7, 0.75, 0.8, 0.85, 0.9]\n",
    "for subsample in subsample_list:\n",
    "    gbc = GradientBoostingClassifier(n_estimators=90, min_samples_split=600, min_samples_leaf=50, max_depth=9, max_features=9, subsample=subsample, random_state=6)\n",
    "    gbc.fit(X_train, y_train)\n",
    "    gbc_pred_lr = gbc.predict(X_test)\n",
    "    print('Subsample value {} Training Set Accuracy: {}'.format(subsample, gbc.score(X_train, y_train)))\n",
    "    print('Subsample value {} Test Set Accuracy: {}'.format(subsample, gbc.score(X_test, y_test)))"
   ]
  },
  {
   "cell_type": "markdown",
   "metadata": {},
   "source": [
    "The highest test set accuracy was with a `subsample` value of 0.7, the lowest value we tested.  Let's test a few lower values to see what we get:"
   ]
  },
  {
   "cell_type": "code",
   "execution_count": 22,
   "metadata": {},
   "outputs": [
    {
     "name": "stdout",
     "output_type": "stream",
     "text": [
      "Subsample value 0.5 Training Set Accuracy: 0.6225103448275862\n",
      "Subsample value 0.5 Test Set Accuracy: 0.604496551724138\n",
      "Subsample value 0.55 Training Set Accuracy: 0.6217379310344827\n",
      "Subsample value 0.55 Test Set Accuracy: 0.6035310344827586\n",
      "Subsample value 0.6 Training Set Accuracy: 0.6235586206896552\n",
      "Subsample value 0.6 Test Set Accuracy: 0.6039724137931034\n",
      "Subsample value 0.65 Training Set Accuracy: 0.623696551724138\n",
      "Subsample value 0.65 Test Set Accuracy: 0.6056551724137931\n"
     ]
    }
   ],
   "source": [
    "from sklearn.ensemble import GradientBoostingClassifier\n",
    "subsample_list = [0.50, 0.55, 0.6, 0.65]\n",
    "for subsample in subsample_list:\n",
    "    gbc = GradientBoostingClassifier(n_estimators=90, min_samples_split=600, min_samples_leaf=50, max_depth=9, max_features=9, subsample=subsample, random_state=6)\n",
    "    gbc.fit(X_train, y_train)\n",
    "    gbc_pred_lr = gbc.predict(X_test)\n",
    "    print('Subsample value {} Training Set Accuracy: {}'.format(subsample, gbc.score(X_train, y_train)))\n",
    "    print('Subsample value {} Test Set Accuracy: {}'.format(subsample, gbc.score(X_test, y_test)))"
   ]
  },
  {
   "cell_type": "markdown",
   "metadata": {},
   "source": [
    "0.7 remains the optimum `subsample` value for test set accuracy.  I now have all of the hyperparameters tuned to the following values:\n",
    "\n",
    "- `n_estimators`: 90\n",
    "- `max_depth`: 9\n",
    "- `min_samples_split`: 600\n",
    "- `min_samples_leaf`: 50\n",
    "- `max_features`: 9\n",
    "- `subsample`: 0.7\n",
    "\n",
    "With these hyperparameters tuned, I can now try to improve performance by lowering the `learning_rate` and increasing the `n_estimators` value:"
   ]
  },
  {
   "cell_type": "markdown",
   "metadata": {},
   "source": [
    "#### 180 Trees with Learning Rate of 0.05"
   ]
  },
  {
   "cell_type": "code",
   "execution_count": 23,
   "metadata": {},
   "outputs": [
    {
     "name": "stdout",
     "output_type": "stream",
     "text": [
      "Training Set Accuracy: 0.6249655172413793\n",
      "Test Set Accuracy: 0.6056275862068966\n"
     ]
    }
   ],
   "source": [
    "gbc = GradientBoostingClassifier(learning_rate=0.05, n_estimators=180, max_depth=9, min_samples_split=600, min_samples_leaf=50, max_features=9, subsample=0.7, random_state=6)\n",
    "gbc.fit(X_train, y_train)\n",
    "print('Training Set Accuracy: {}'.format(gbc.score(X_train, y_train)))\n",
    "print('Test Set Accuracy: {}'.format(gbc.score(X_test, y_test)))"
   ]
  },
  {
   "cell_type": "markdown",
   "metadata": {},
   "source": [
    "#### 900 Trees with Learning Rate of 0.01"
   ]
  },
  {
   "cell_type": "code",
   "execution_count": 24,
   "metadata": {},
   "outputs": [
    {
     "name": "stdout",
     "output_type": "stream",
     "text": [
      "Training Set Accuracy: 0.6250850574712644\n",
      "Test Set Accuracy: 0.6075310344827586\n"
     ]
    }
   ],
   "source": [
    "gbc = GradientBoostingClassifier(learning_rate=0.01, n_estimators=900, max_depth=9, min_samples_split=600, min_samples_leaf=50, max_features=9, subsample=0.7, random_state=6)\n",
    "gbc.fit(X_train, y_train)\n",
    "print('Training Set Accuracy: {}'.format(gbc.score(X_train, y_train)))\n",
    "print('Test Set Accuracy: {}'.format(gbc.score(X_test, y_test)))"
   ]
  },
  {
   "cell_type": "code",
   "execution_count": 26,
   "metadata": {},
   "outputs": [
    {
     "name": "stdout",
     "output_type": "stream",
     "text": [
      "Training Set Accuracy: 0.6231448275862069\n",
      "Test Set Accuracy: 0.6064827586206897\n"
     ]
    }
   ],
   "source": [
    "gbc = GradientBoostingClassifier(learning_rate=0.01, n_estimators=900, max_depth=9, min_samples_split=800, min_samples_leaf=60, max_features=9, subsample=0.8, random_state=6)\n",
    "gbc.fit(X_train, y_train)\n",
    "print('Training Set Accuracy: {}'.format(gbc.score(X_train, y_train)))\n",
    "print('Test Set Accuracy: {}'.format(gbc.score(X_test, y_test)))"
   ]
  },
  {
   "cell_type": "markdown",
   "metadata": {},
   "source": [
    "#### 1800 Trees with Learning Rate of 0.005"
   ]
  },
  {
   "cell_type": "code",
   "execution_count": 25,
   "metadata": {},
   "outputs": [
    {
     "name": "stdout",
     "output_type": "stream",
     "text": [
      "Training Set Accuracy: 0.6251310344827586\n",
      "Test Set Accuracy: 0.6067310344827587\n"
     ]
    }
   ],
   "source": [
    "gbc = GradientBoostingClassifier(learning_rate=0.005, n_estimators=1800, max_depth=9, min_samples_split=600, min_samples_leaf=50, max_features=9, subsample=0.7, random_state=6)\n",
    "gbc.fit(X_train, y_train)\n",
    "print('Training Set Accuracy: {}'.format(gbc.score(X_train, y_train)))\n",
    "print('Test Set Accuracy: {}'.format(gbc.score(X_test, y_test)))"
   ]
  },
  {
   "cell_type": "markdown",
   "metadata": {},
   "source": [
    "### Gradient Boosting Classifier Hyperparameter Tuning Summary\n",
    "\n",
    "Below is a summary hyperparameter tuning table for the Gradient Boosting Classifier model:"
   ]
  },
  {
   "cell_type": "code",
   "execution_count": 3,
   "metadata": {},
   "outputs": [
    {
     "data": {
      "text/html": [
       "<div>\n",
       "<style scoped>\n",
       "    .dataframe tbody tr th:only-of-type {\n",
       "        vertical-align: middle;\n",
       "    }\n",
       "\n",
       "    .dataframe tbody tr th {\n",
       "        vertical-align: top;\n",
       "    }\n",
       "\n",
       "    .dataframe thead th {\n",
       "        text-align: right;\n",
       "    }\n",
       "</style>\n",
       "<table border=\"1\" class=\"dataframe\">\n",
       "  <thead>\n",
       "    <tr style=\"text-align: right;\">\n",
       "      <th></th>\n",
       "      <th>tune</th>\n",
       "      <th>learning_rate</th>\n",
       "      <th>n_estimators</th>\n",
       "      <th>max_depth</th>\n",
       "      <th>min_samples_split</th>\n",
       "      <th>min_samples_leaf</th>\n",
       "      <th>max_features</th>\n",
       "      <th>subsample</th>\n",
       "      <th>random_state</th>\n",
       "      <th>train_accuracy</th>\n",
       "      <th>test_accuracy</th>\n",
       "    </tr>\n",
       "  </thead>\n",
       "  <tbody>\n",
       "    <tr>\n",
       "      <th>45</th>\n",
       "      <td>learning_rate</td>\n",
       "      <td>0.010</td>\n",
       "      <td>900</td>\n",
       "      <td>9</td>\n",
       "      <td>600</td>\n",
       "      <td>50</td>\n",
       "      <td>9</td>\n",
       "      <td>0.70</td>\n",
       "      <td>6</td>\n",
       "      <td>0.6251</td>\n",
       "      <td>0.60750</td>\n",
       "    </tr>\n",
       "    <tr>\n",
       "      <th>47</th>\n",
       "      <td>learning_rate</td>\n",
       "      <td>0.005</td>\n",
       "      <td>1800</td>\n",
       "      <td>9</td>\n",
       "      <td>60</td>\n",
       "      <td>50</td>\n",
       "      <td>9</td>\n",
       "      <td>0.70</td>\n",
       "      <td>6</td>\n",
       "      <td>0.6251</td>\n",
       "      <td>0.60670</td>\n",
       "    </tr>\n",
       "    <tr>\n",
       "      <th>46</th>\n",
       "      <td>learning_rate</td>\n",
       "      <td>0.010</td>\n",
       "      <td>900</td>\n",
       "      <td>9</td>\n",
       "      <td>800</td>\n",
       "      <td>60</td>\n",
       "      <td>9</td>\n",
       "      <td>0.80</td>\n",
       "      <td>6</td>\n",
       "      <td>0.6231</td>\n",
       "      <td>0.60650</td>\n",
       "    </tr>\n",
       "    <tr>\n",
       "      <th>35</th>\n",
       "      <td>subsample</td>\n",
       "      <td>0.100</td>\n",
       "      <td>90</td>\n",
       "      <td>9</td>\n",
       "      <td>600</td>\n",
       "      <td>50</td>\n",
       "      <td>9</td>\n",
       "      <td>0.70</td>\n",
       "      <td>6</td>\n",
       "      <td>0.6237</td>\n",
       "      <td>0.60610</td>\n",
       "    </tr>\n",
       "    <tr>\n",
       "      <th>13</th>\n",
       "      <td>min_samples_split</td>\n",
       "      <td>0.100</td>\n",
       "      <td>90</td>\n",
       "      <td>9</td>\n",
       "      <td>600</td>\n",
       "      <td>50</td>\n",
       "      <td>sqrt</td>\n",
       "      <td>0.80</td>\n",
       "      <td>6</td>\n",
       "      <td>0.6253</td>\n",
       "      <td>0.60600</td>\n",
       "    </tr>\n",
       "    <tr>\n",
       "      <th>37</th>\n",
       "      <td>subsample</td>\n",
       "      <td>0.100</td>\n",
       "      <td>90</td>\n",
       "      <td>9</td>\n",
       "      <td>600</td>\n",
       "      <td>50</td>\n",
       "      <td>9</td>\n",
       "      <td>0.80</td>\n",
       "      <td>6</td>\n",
       "      <td>0.6253</td>\n",
       "      <td>0.60600</td>\n",
       "    </tr>\n",
       "    <tr>\n",
       "      <th>32</th>\n",
       "      <td>max_features</td>\n",
       "      <td>0.100</td>\n",
       "      <td>90</td>\n",
       "      <td>9</td>\n",
       "      <td>600</td>\n",
       "      <td>50</td>\n",
       "      <td>9</td>\n",
       "      <td>0.80</td>\n",
       "      <td>6</td>\n",
       "      <td>0.6252</td>\n",
       "      <td>0.60600</td>\n",
       "    </tr>\n",
       "    <tr>\n",
       "      <th>24</th>\n",
       "      <td>min_samples_leaf</td>\n",
       "      <td>0.100</td>\n",
       "      <td>90</td>\n",
       "      <td>9</td>\n",
       "      <td>600</td>\n",
       "      <td>50</td>\n",
       "      <td>sqrt</td>\n",
       "      <td>0.80</td>\n",
       "      <td>6</td>\n",
       "      <td>0.6252</td>\n",
       "      <td>0.60600</td>\n",
       "    </tr>\n",
       "    <tr>\n",
       "      <th>15</th>\n",
       "      <td>min_samples_split</td>\n",
       "      <td>0.100</td>\n",
       "      <td>90</td>\n",
       "      <td>9</td>\n",
       "      <td>800</td>\n",
       "      <td>50</td>\n",
       "      <td>sqrt</td>\n",
       "      <td>0.80</td>\n",
       "      <td>6</td>\n",
       "      <td>0.6242</td>\n",
       "      <td>0.60598</td>\n",
       "    </tr>\n",
       "    <tr>\n",
       "      <th>38</th>\n",
       "      <td>subsample</td>\n",
       "      <td>0.100</td>\n",
       "      <td>90</td>\n",
       "      <td>9</td>\n",
       "      <td>600</td>\n",
       "      <td>50</td>\n",
       "      <td>9</td>\n",
       "      <td>0.85</td>\n",
       "      <td>6</td>\n",
       "      <td>0.6264</td>\n",
       "      <td>0.60598</td>\n",
       "    </tr>\n",
       "    <tr>\n",
       "      <th>43</th>\n",
       "      <td>subsample</td>\n",
       "      <td>0.100</td>\n",
       "      <td>90</td>\n",
       "      <td>9</td>\n",
       "      <td>600</td>\n",
       "      <td>50</td>\n",
       "      <td>9</td>\n",
       "      <td>0.65</td>\n",
       "      <td>6</td>\n",
       "      <td>0.6237</td>\n",
       "      <td>0.60570</td>\n",
       "    </tr>\n",
       "    <tr>\n",
       "      <th>44</th>\n",
       "      <td>learning_rate</td>\n",
       "      <td>0.050</td>\n",
       "      <td>180</td>\n",
       "      <td>9</td>\n",
       "      <td>600</td>\n",
       "      <td>50</td>\n",
       "      <td>9</td>\n",
       "      <td>0.70</td>\n",
       "      <td>6</td>\n",
       "      <td>0.6250</td>\n",
       "      <td>0.60560</td>\n",
       "    </tr>\n",
       "    <tr>\n",
       "      <th>26</th>\n",
       "      <td>min_samples_leaf</td>\n",
       "      <td>0.100</td>\n",
       "      <td>90</td>\n",
       "      <td>9</td>\n",
       "      <td>600</td>\n",
       "      <td>60</td>\n",
       "      <td>sqrt</td>\n",
       "      <td>0.80</td>\n",
       "      <td>6</td>\n",
       "      <td>0.6264</td>\n",
       "      <td>0.60540</td>\n",
       "    </tr>\n",
       "    <tr>\n",
       "      <th>27</th>\n",
       "      <td>min_samples_leaf</td>\n",
       "      <td>0.100</td>\n",
       "      <td>90</td>\n",
       "      <td>9</td>\n",
       "      <td>600</td>\n",
       "      <td>65</td>\n",
       "      <td>sqrt</td>\n",
       "      <td>0.80</td>\n",
       "      <td>6</td>\n",
       "      <td>0.6248</td>\n",
       "      <td>0.60540</td>\n",
       "    </tr>\n",
       "    <tr>\n",
       "      <th>14</th>\n",
       "      <td>min_samples_split</td>\n",
       "      <td>0.100</td>\n",
       "      <td>90</td>\n",
       "      <td>9</td>\n",
       "      <td>700</td>\n",
       "      <td>50</td>\n",
       "      <td>sqrt</td>\n",
       "      <td>0.80</td>\n",
       "      <td>6</td>\n",
       "      <td>0.6248</td>\n",
       "      <td>0.60540</td>\n",
       "    </tr>\n",
       "    <tr>\n",
       "      <th>8</th>\n",
       "      <td>max_depth</td>\n",
       "      <td>0.100</td>\n",
       "      <td>90</td>\n",
       "      <td>9</td>\n",
       "      <td>750</td>\n",
       "      <td>50</td>\n",
       "      <td>sqrt</td>\n",
       "      <td>0.80</td>\n",
       "      <td>6</td>\n",
       "      <td>0.6248</td>\n",
       "      <td>0.60520</td>\n",
       "    </tr>\n",
       "    <tr>\n",
       "      <th>11</th>\n",
       "      <td>max_depth</td>\n",
       "      <td>0.100</td>\n",
       "      <td>90</td>\n",
       "      <td>12</td>\n",
       "      <td>750</td>\n",
       "      <td>50</td>\n",
       "      <td>sqrt</td>\n",
       "      <td>0.80</td>\n",
       "      <td>6</td>\n",
       "      <td>0.6368</td>\n",
       "      <td>0.60490</td>\n",
       "    </tr>\n",
       "    <tr>\n",
       "      <th>33</th>\n",
       "      <td>max_features</td>\n",
       "      <td>0.100</td>\n",
       "      <td>90</td>\n",
       "      <td>9</td>\n",
       "      <td>600</td>\n",
       "      <td>50</td>\n",
       "      <td>10</td>\n",
       "      <td>0.80</td>\n",
       "      <td>6</td>\n",
       "      <td>0.6278</td>\n",
       "      <td>0.60490</td>\n",
       "    </tr>\n",
       "    <tr>\n",
       "      <th>34</th>\n",
       "      <td>max_features</td>\n",
       "      <td>0.100</td>\n",
       "      <td>90</td>\n",
       "      <td>9</td>\n",
       "      <td>600</td>\n",
       "      <td>50</td>\n",
       "      <td>11</td>\n",
       "      <td>0.80</td>\n",
       "      <td>6</td>\n",
       "      <td>0.6279</td>\n",
       "      <td>0.60480</td>\n",
       "    </tr>\n",
       "    <tr>\n",
       "      <th>30</th>\n",
       "      <td>min_samples_leaf</td>\n",
       "      <td>0.100</td>\n",
       "      <td>90</td>\n",
       "      <td>9</td>\n",
       "      <td>600</td>\n",
       "      <td>80</td>\n",
       "      <td>sqrt</td>\n",
       "      <td>0.80</td>\n",
       "      <td>6</td>\n",
       "      <td>0.6245</td>\n",
       "      <td>0.60470</td>\n",
       "    </tr>\n",
       "    <tr>\n",
       "      <th>29</th>\n",
       "      <td>min_samples_leaf</td>\n",
       "      <td>0.100</td>\n",
       "      <td>90</td>\n",
       "      <td>9</td>\n",
       "      <td>600</td>\n",
       "      <td>75</td>\n",
       "      <td>sqrt</td>\n",
       "      <td>0.80</td>\n",
       "      <td>6</td>\n",
       "      <td>0.6237</td>\n",
       "      <td>0.60470</td>\n",
       "    </tr>\n",
       "    <tr>\n",
       "      <th>6</th>\n",
       "      <td>max_depth</td>\n",
       "      <td>0.100</td>\n",
       "      <td>90</td>\n",
       "      <td>7</td>\n",
       "      <td>750</td>\n",
       "      <td>50</td>\n",
       "      <td>sqrt</td>\n",
       "      <td>0.80</td>\n",
       "      <td>6</td>\n",
       "      <td>0.6167</td>\n",
       "      <td>0.60463</td>\n",
       "    </tr>\n",
       "    <tr>\n",
       "      <th>12</th>\n",
       "      <td>max_depth</td>\n",
       "      <td>0.100</td>\n",
       "      <td>90</td>\n",
       "      <td>13</td>\n",
       "      <td>750</td>\n",
       "      <td>50</td>\n",
       "      <td>sqrt</td>\n",
       "      <td>0.80</td>\n",
       "      <td>6</td>\n",
       "      <td>0.6393</td>\n",
       "      <td>0.60460</td>\n",
       "    </tr>\n",
       "    <tr>\n",
       "      <th>3</th>\n",
       "      <td>n_estimators</td>\n",
       "      <td>0.100</td>\n",
       "      <td>90</td>\n",
       "      <td>8</td>\n",
       "      <td>750</td>\n",
       "      <td>50</td>\n",
       "      <td>sqrt</td>\n",
       "      <td>0.80</td>\n",
       "      <td>6</td>\n",
       "      <td>0.6218</td>\n",
       "      <td>0.60460</td>\n",
       "    </tr>\n",
       "    <tr>\n",
       "      <th>20</th>\n",
       "      <td>min_samples_split</td>\n",
       "      <td>0.100</td>\n",
       "      <td>90</td>\n",
       "      <td>9</td>\n",
       "      <td>300</td>\n",
       "      <td>50</td>\n",
       "      <td>sqrt</td>\n",
       "      <td>0.80</td>\n",
       "      <td>6</td>\n",
       "      <td>0.6304</td>\n",
       "      <td>0.60460</td>\n",
       "    </tr>\n",
       "    <tr>\n",
       "      <th>39</th>\n",
       "      <td>subsample</td>\n",
       "      <td>0.100</td>\n",
       "      <td>90</td>\n",
       "      <td>9</td>\n",
       "      <td>600</td>\n",
       "      <td>50</td>\n",
       "      <td>9</td>\n",
       "      <td>0.90</td>\n",
       "      <td>6</td>\n",
       "      <td>0.6280</td>\n",
       "      <td>0.60460</td>\n",
       "    </tr>\n",
       "    <tr>\n",
       "      <th>7</th>\n",
       "      <td>max_depth</td>\n",
       "      <td>0.100</td>\n",
       "      <td>90</td>\n",
       "      <td>8</td>\n",
       "      <td>750</td>\n",
       "      <td>50</td>\n",
       "      <td>sqrt</td>\n",
       "      <td>0.80</td>\n",
       "      <td>6</td>\n",
       "      <td>0.6218</td>\n",
       "      <td>0.60458</td>\n",
       "    </tr>\n",
       "    <tr>\n",
       "      <th>40</th>\n",
       "      <td>subsample</td>\n",
       "      <td>0.100</td>\n",
       "      <td>90</td>\n",
       "      <td>9</td>\n",
       "      <td>600</td>\n",
       "      <td>50</td>\n",
       "      <td>9</td>\n",
       "      <td>0.50</td>\n",
       "      <td>6</td>\n",
       "      <td>0.6225</td>\n",
       "      <td>0.60450</td>\n",
       "    </tr>\n",
       "    <tr>\n",
       "      <th>17</th>\n",
       "      <td>min_samples_split</td>\n",
       "      <td>0.100</td>\n",
       "      <td>90</td>\n",
       "      <td>9</td>\n",
       "      <td>1000</td>\n",
       "      <td>50</td>\n",
       "      <td>sqrt</td>\n",
       "      <td>0.80</td>\n",
       "      <td>6</td>\n",
       "      <td>0.6237</td>\n",
       "      <td>0.60440</td>\n",
       "    </tr>\n",
       "    <tr>\n",
       "      <th>36</th>\n",
       "      <td>subsample</td>\n",
       "      <td>0.100</td>\n",
       "      <td>90</td>\n",
       "      <td>9</td>\n",
       "      <td>600</td>\n",
       "      <td>50</td>\n",
       "      <td>9</td>\n",
       "      <td>0.75</td>\n",
       "      <td>6</td>\n",
       "      <td>0.6257</td>\n",
       "      <td>0.60440</td>\n",
       "    </tr>\n",
       "    <tr>\n",
       "      <th>2</th>\n",
       "      <td>n_estimators</td>\n",
       "      <td>0.100</td>\n",
       "      <td>80</td>\n",
       "      <td>8</td>\n",
       "      <td>750</td>\n",
       "      <td>50</td>\n",
       "      <td>sqrt</td>\n",
       "      <td>0.80</td>\n",
       "      <td>6</td>\n",
       "      <td>0.6208</td>\n",
       "      <td>0.60440</td>\n",
       "    </tr>\n",
       "    <tr>\n",
       "      <th>1</th>\n",
       "      <td>n_estimators</td>\n",
       "      <td>0.100</td>\n",
       "      <td>70</td>\n",
       "      <td>8</td>\n",
       "      <td>750</td>\n",
       "      <td>50</td>\n",
       "      <td>sqrt</td>\n",
       "      <td>0.80</td>\n",
       "      <td>6</td>\n",
       "      <td>0.6185</td>\n",
       "      <td>0.60440</td>\n",
       "    </tr>\n",
       "    <tr>\n",
       "      <th>10</th>\n",
       "      <td>max_depth</td>\n",
       "      <td>0.100</td>\n",
       "      <td>90</td>\n",
       "      <td>11</td>\n",
       "      <td>750</td>\n",
       "      <td>50</td>\n",
       "      <td>sqrt</td>\n",
       "      <td>0.80</td>\n",
       "      <td>6</td>\n",
       "      <td>0.6335</td>\n",
       "      <td>0.60430</td>\n",
       "    </tr>\n",
       "    <tr>\n",
       "      <th>22</th>\n",
       "      <td>min_samples_leaf</td>\n",
       "      <td>0.100</td>\n",
       "      <td>90</td>\n",
       "      <td>9</td>\n",
       "      <td>600</td>\n",
       "      <td>40</td>\n",
       "      <td>sqrt</td>\n",
       "      <td>0.80</td>\n",
       "      <td>6</td>\n",
       "      <td>0.6262</td>\n",
       "      <td>0.60420</td>\n",
       "    </tr>\n",
       "    <tr>\n",
       "      <th>5</th>\n",
       "      <td>max_depth</td>\n",
       "      <td>0.100</td>\n",
       "      <td>90</td>\n",
       "      <td>6</td>\n",
       "      <td>750</td>\n",
       "      <td>50</td>\n",
       "      <td>sqrt</td>\n",
       "      <td>0.80</td>\n",
       "      <td>6</td>\n",
       "      <td>0.6129</td>\n",
       "      <td>0.60400</td>\n",
       "    </tr>\n",
       "    <tr>\n",
       "      <th>42</th>\n",
       "      <td>subsample</td>\n",
       "      <td>0.100</td>\n",
       "      <td>90</td>\n",
       "      <td>9</td>\n",
       "      <td>600</td>\n",
       "      <td>50</td>\n",
       "      <td>9</td>\n",
       "      <td>0.60</td>\n",
       "      <td>6</td>\n",
       "      <td>0.6236</td>\n",
       "      <td>0.60390</td>\n",
       "    </tr>\n",
       "    <tr>\n",
       "      <th>23</th>\n",
       "      <td>min_samples_leaf</td>\n",
       "      <td>0.100</td>\n",
       "      <td>90</td>\n",
       "      <td>9</td>\n",
       "      <td>600</td>\n",
       "      <td>45</td>\n",
       "      <td>sqrt</td>\n",
       "      <td>0.80</td>\n",
       "      <td>6</td>\n",
       "      <td>0.6270</td>\n",
       "      <td>0.60390</td>\n",
       "    </tr>\n",
       "    <tr>\n",
       "      <th>25</th>\n",
       "      <td>min_samples_leaf</td>\n",
       "      <td>0.100</td>\n",
       "      <td>90</td>\n",
       "      <td>9</td>\n",
       "      <td>600</td>\n",
       "      <td>55</td>\n",
       "      <td>sqrt</td>\n",
       "      <td>0.80</td>\n",
       "      <td>6</td>\n",
       "      <td>0.6261</td>\n",
       "      <td>0.60380</td>\n",
       "    </tr>\n",
       "    <tr>\n",
       "      <th>31</th>\n",
       "      <td>max_features</td>\n",
       "      <td>0.100</td>\n",
       "      <td>90</td>\n",
       "      <td>9</td>\n",
       "      <td>600</td>\n",
       "      <td>50</td>\n",
       "      <td>8</td>\n",
       "      <td>0.80</td>\n",
       "      <td>6</td>\n",
       "      <td>0.6234</td>\n",
       "      <td>0.60380</td>\n",
       "    </tr>\n",
       "    <tr>\n",
       "      <th>4</th>\n",
       "      <td>n_estimators</td>\n",
       "      <td>0.100</td>\n",
       "      <td>100</td>\n",
       "      <td>8</td>\n",
       "      <td>750</td>\n",
       "      <td>50</td>\n",
       "      <td>sqrt</td>\n",
       "      <td>0.80</td>\n",
       "      <td>6</td>\n",
       "      <td>0.6226</td>\n",
       "      <td>0.60380</td>\n",
       "    </tr>\n",
       "    <tr>\n",
       "      <th>9</th>\n",
       "      <td>max_depth</td>\n",
       "      <td>0.100</td>\n",
       "      <td>90</td>\n",
       "      <td>10</td>\n",
       "      <td>750</td>\n",
       "      <td>50</td>\n",
       "      <td>sqrt</td>\n",
       "      <td>0.80</td>\n",
       "      <td>6</td>\n",
       "      <td>0.6300</td>\n",
       "      <td>0.60370</td>\n",
       "    </tr>\n",
       "    <tr>\n",
       "      <th>0</th>\n",
       "      <td>n_estimators</td>\n",
       "      <td>0.100</td>\n",
       "      <td>60</td>\n",
       "      <td>8</td>\n",
       "      <td>750</td>\n",
       "      <td>50</td>\n",
       "      <td>sqrt</td>\n",
       "      <td>0.80</td>\n",
       "      <td>6</td>\n",
       "      <td>0.6169</td>\n",
       "      <td>0.60360</td>\n",
       "    </tr>\n",
       "    <tr>\n",
       "      <th>21</th>\n",
       "      <td>min_samples_leaf</td>\n",
       "      <td>0.100</td>\n",
       "      <td>90</td>\n",
       "      <td>9</td>\n",
       "      <td>600</td>\n",
       "      <td>35</td>\n",
       "      <td>sqrt</td>\n",
       "      <td>0.80</td>\n",
       "      <td>6</td>\n",
       "      <td>0.6273</td>\n",
       "      <td>0.60360</td>\n",
       "    </tr>\n",
       "    <tr>\n",
       "      <th>41</th>\n",
       "      <td>subsample</td>\n",
       "      <td>0.100</td>\n",
       "      <td>90</td>\n",
       "      <td>9</td>\n",
       "      <td>600</td>\n",
       "      <td>50</td>\n",
       "      <td>9</td>\n",
       "      <td>0.55</td>\n",
       "      <td>6</td>\n",
       "      <td>0.6217</td>\n",
       "      <td>0.60350</td>\n",
       "    </tr>\n",
       "    <tr>\n",
       "      <th>16</th>\n",
       "      <td>min_samples_split</td>\n",
       "      <td>0.100</td>\n",
       "      <td>90</td>\n",
       "      <td>9</td>\n",
       "      <td>900</td>\n",
       "      <td>50</td>\n",
       "      <td>sqrt</td>\n",
       "      <td>0.80</td>\n",
       "      <td>6</td>\n",
       "      <td>0.6214</td>\n",
       "      <td>0.60320</td>\n",
       "    </tr>\n",
       "    <tr>\n",
       "      <th>18</th>\n",
       "      <td>min_samples_split</td>\n",
       "      <td>0.100</td>\n",
       "      <td>90</td>\n",
       "      <td>9</td>\n",
       "      <td>500</td>\n",
       "      <td>50</td>\n",
       "      <td>sqrt</td>\n",
       "      <td>0.80</td>\n",
       "      <td>6</td>\n",
       "      <td>0.6265</td>\n",
       "      <td>0.60310</td>\n",
       "    </tr>\n",
       "    <tr>\n",
       "      <th>28</th>\n",
       "      <td>min_samples_leaf</td>\n",
       "      <td>0.100</td>\n",
       "      <td>90</td>\n",
       "      <td>9</td>\n",
       "      <td>600</td>\n",
       "      <td>70</td>\n",
       "      <td>sqrt</td>\n",
       "      <td>0.80</td>\n",
       "      <td>6</td>\n",
       "      <td>0.6252</td>\n",
       "      <td>0.60280</td>\n",
       "    </tr>\n",
       "    <tr>\n",
       "      <th>19</th>\n",
       "      <td>min_samples_split</td>\n",
       "      <td>0.100</td>\n",
       "      <td>90</td>\n",
       "      <td>9</td>\n",
       "      <td>400</td>\n",
       "      <td>50</td>\n",
       "      <td>sqrt</td>\n",
       "      <td>0.80</td>\n",
       "      <td>6</td>\n",
       "      <td>0.6284</td>\n",
       "      <td>0.60260</td>\n",
       "    </tr>\n",
       "  </tbody>\n",
       "</table>\n",
       "</div>"
      ],
      "text/plain": [
       "                 tune  learning_rate  n_estimators  max_depth  \\\n",
       "45      learning_rate          0.010           900          9   \n",
       "47      learning_rate          0.005          1800          9   \n",
       "46      learning_rate          0.010           900          9   \n",
       "35          subsample          0.100            90          9   \n",
       "13  min_samples_split          0.100            90          9   \n",
       "37          subsample          0.100            90          9   \n",
       "32       max_features          0.100            90          9   \n",
       "24   min_samples_leaf          0.100            90          9   \n",
       "15  min_samples_split          0.100            90          9   \n",
       "38          subsample          0.100            90          9   \n",
       "43          subsample          0.100            90          9   \n",
       "44      learning_rate          0.050           180          9   \n",
       "26   min_samples_leaf          0.100            90          9   \n",
       "27   min_samples_leaf          0.100            90          9   \n",
       "14  min_samples_split          0.100            90          9   \n",
       "8           max_depth          0.100            90          9   \n",
       "11          max_depth          0.100            90         12   \n",
       "33       max_features          0.100            90          9   \n",
       "34       max_features          0.100            90          9   \n",
       "30   min_samples_leaf          0.100            90          9   \n",
       "29   min_samples_leaf          0.100            90          9   \n",
       "6           max_depth          0.100            90          7   \n",
       "12          max_depth          0.100            90         13   \n",
       "3        n_estimators          0.100            90          8   \n",
       "20  min_samples_split          0.100            90          9   \n",
       "39          subsample          0.100            90          9   \n",
       "7           max_depth          0.100            90          8   \n",
       "40          subsample          0.100            90          9   \n",
       "17  min_samples_split          0.100            90          9   \n",
       "36          subsample          0.100            90          9   \n",
       "2        n_estimators          0.100            80          8   \n",
       "1        n_estimators          0.100            70          8   \n",
       "10          max_depth          0.100            90         11   \n",
       "22   min_samples_leaf          0.100            90          9   \n",
       "5           max_depth          0.100            90          6   \n",
       "42          subsample          0.100            90          9   \n",
       "23   min_samples_leaf          0.100            90          9   \n",
       "25   min_samples_leaf          0.100            90          9   \n",
       "31       max_features          0.100            90          9   \n",
       "4        n_estimators          0.100           100          8   \n",
       "9           max_depth          0.100            90         10   \n",
       "0        n_estimators          0.100            60          8   \n",
       "21   min_samples_leaf          0.100            90          9   \n",
       "41          subsample          0.100            90          9   \n",
       "16  min_samples_split          0.100            90          9   \n",
       "18  min_samples_split          0.100            90          9   \n",
       "28   min_samples_leaf          0.100            90          9   \n",
       "19  min_samples_split          0.100            90          9   \n",
       "\n",
       "    min_samples_split  min_samples_leaf max_features  subsample  random_state  \\\n",
       "45                600                50            9       0.70             6   \n",
       "47                 60                50            9       0.70             6   \n",
       "46                800                60            9       0.80             6   \n",
       "35                600                50            9       0.70             6   \n",
       "13                600                50         sqrt       0.80             6   \n",
       "37                600                50            9       0.80             6   \n",
       "32                600                50            9       0.80             6   \n",
       "24                600                50         sqrt       0.80             6   \n",
       "15                800                50         sqrt       0.80             6   \n",
       "38                600                50            9       0.85             6   \n",
       "43                600                50            9       0.65             6   \n",
       "44                600                50            9       0.70             6   \n",
       "26                600                60         sqrt       0.80             6   \n",
       "27                600                65         sqrt       0.80             6   \n",
       "14                700                50         sqrt       0.80             6   \n",
       "8                 750                50         sqrt       0.80             6   \n",
       "11                750                50         sqrt       0.80             6   \n",
       "33                600                50           10       0.80             6   \n",
       "34                600                50           11       0.80             6   \n",
       "30                600                80         sqrt       0.80             6   \n",
       "29                600                75         sqrt       0.80             6   \n",
       "6                 750                50         sqrt       0.80             6   \n",
       "12                750                50         sqrt       0.80             6   \n",
       "3                 750                50         sqrt       0.80             6   \n",
       "20                300                50         sqrt       0.80             6   \n",
       "39                600                50            9       0.90             6   \n",
       "7                 750                50         sqrt       0.80             6   \n",
       "40                600                50            9       0.50             6   \n",
       "17               1000                50         sqrt       0.80             6   \n",
       "36                600                50            9       0.75             6   \n",
       "2                 750                50         sqrt       0.80             6   \n",
       "1                 750                50         sqrt       0.80             6   \n",
       "10                750                50         sqrt       0.80             6   \n",
       "22                600                40         sqrt       0.80             6   \n",
       "5                 750                50         sqrt       0.80             6   \n",
       "42                600                50            9       0.60             6   \n",
       "23                600                45         sqrt       0.80             6   \n",
       "25                600                55         sqrt       0.80             6   \n",
       "31                600                50            8       0.80             6   \n",
       "4                 750                50         sqrt       0.80             6   \n",
       "9                 750                50         sqrt       0.80             6   \n",
       "0                 750                50         sqrt       0.80             6   \n",
       "21                600                35         sqrt       0.80             6   \n",
       "41                600                50            9       0.55             6   \n",
       "16                900                50         sqrt       0.80             6   \n",
       "18                500                50         sqrt       0.80             6   \n",
       "28                600                70         sqrt       0.80             6   \n",
       "19                400                50         sqrt       0.80             6   \n",
       "\n",
       "    train_accuracy  test_accuracy  \n",
       "45          0.6251        0.60750  \n",
       "47          0.6251        0.60670  \n",
       "46          0.6231        0.60650  \n",
       "35          0.6237        0.60610  \n",
       "13          0.6253        0.60600  \n",
       "37          0.6253        0.60600  \n",
       "32          0.6252        0.60600  \n",
       "24          0.6252        0.60600  \n",
       "15          0.6242        0.60598  \n",
       "38          0.6264        0.60598  \n",
       "43          0.6237        0.60570  \n",
       "44          0.6250        0.60560  \n",
       "26          0.6264        0.60540  \n",
       "27          0.6248        0.60540  \n",
       "14          0.6248        0.60540  \n",
       "8           0.6248        0.60520  \n",
       "11          0.6368        0.60490  \n",
       "33          0.6278        0.60490  \n",
       "34          0.6279        0.60480  \n",
       "30          0.6245        0.60470  \n",
       "29          0.6237        0.60470  \n",
       "6           0.6167        0.60463  \n",
       "12          0.6393        0.60460  \n",
       "3           0.6218        0.60460  \n",
       "20          0.6304        0.60460  \n",
       "39          0.6280        0.60460  \n",
       "7           0.6218        0.60458  \n",
       "40          0.6225        0.60450  \n",
       "17          0.6237        0.60440  \n",
       "36          0.6257        0.60440  \n",
       "2           0.6208        0.60440  \n",
       "1           0.6185        0.60440  \n",
       "10          0.6335        0.60430  \n",
       "22          0.6262        0.60420  \n",
       "5           0.6129        0.60400  \n",
       "42          0.6236        0.60390  \n",
       "23          0.6270        0.60390  \n",
       "25          0.6261        0.60380  \n",
       "31          0.6234        0.60380  \n",
       "4           0.6226        0.60380  \n",
       "9           0.6300        0.60370  \n",
       "0           0.6169        0.60360  \n",
       "21          0.6273        0.60360  \n",
       "41          0.6217        0.60350  \n",
       "16          0.6214        0.60320  \n",
       "18          0.6265        0.60310  \n",
       "28          0.6252        0.60280  \n",
       "19          0.6284        0.60260  "
      ]
     },
     "execution_count": 3,
     "metadata": {},
     "output_type": "execute_result"
    }
   ],
   "source": [
    "df_gbc_tune = pd.read_excel('gbc_hyperparameters_table.xlsx')\n",
    "df_gbc_tune.sort_values('test_accuracy', ascending=False)"
   ]
  },
  {
   "cell_type": "markdown",
   "metadata": {},
   "source": [
    "Given the above results, I will use a Gradient Boosting Classifier with the following hyperparameters:\n",
    "\n",
    "- `learning_rate`: 0.01\n",
    "- `n_estimators`: 900\n",
    "- `max_depth`: 9\n",
    "- `min_samples_split`: 600\n",
    "- `min_samples_leaf`: 50\n",
    "- `max_features`: 9\n",
    "- `subsample`: 0.7"
   ]
  },
  {
   "cell_type": "markdown",
   "metadata": {},
   "source": [
    "## Final Model Performance"
   ]
  },
  {
   "cell_type": "code",
   "execution_count": 4,
   "metadata": {},
   "outputs": [],
   "source": [
    "# split the dataframe\n",
    "X = df_model.iloc[:, 2:]\n",
    "y = df_model.iloc[:, 1]\n",
    "\n",
    "# split the data into train and test sets\n",
    "from sklearn.model_selection import train_test_split\n",
    "X_train, X_test, y_train, y_test = train_test_split(X, y, random_state=6, stratify=y)"
   ]
  },
  {
   "cell_type": "markdown",
   "metadata": {},
   "source": [
    "### Logistic Regression"
   ]
  },
  {
   "cell_type": "code",
   "execution_count": 12,
   "metadata": {
    "scrolled": true
   },
   "outputs": [
    {
     "name": "stdout",
     "output_type": "stream",
     "text": [
      "Training Set Accuracy: 0.6025860725969777\n",
      "Test Set Accuracy: 0.6017754178705309\n"
     ]
    }
   ],
   "source": [
    "# Fit model and calculate prediction accuracy\n",
    "from sklearn.linear_model import LogisticRegression\n",
    "lr = LogisticRegression(C=1000, solver='lbfgs', max_iter=1000)\n",
    "lr.fit(X_train, y_train)\n",
    "y_pred_lr = lr.predict(X_test)\n",
    "y_pred_train_lr = lr.predict(X_train)\n",
    "print('Training Set Accuracy: {}'.format(lr.score(X_train, y_train)))\n",
    "print('Test Set Accuracy: {}'.format(lr.score(X_test, y_test)))"
   ]
  },
  {
   "cell_type": "code",
   "execution_count": 13,
   "metadata": {},
   "outputs": [
    {
     "name": "stdout",
     "output_type": "stream",
     "text": [
      "              precision    recall  f1-score   support\n",
      "\n",
      "           0       0.63      0.40      0.49    341135\n",
      "           1       0.59      0.78      0.67    375654\n",
      "\n",
      "   micro avg       0.60      0.60      0.60    716789\n",
      "   macro avg       0.61      0.59      0.58    716789\n",
      "weighted avg       0.61      0.60      0.59    716789\n",
      "\n"
     ]
    }
   ],
   "source": [
    "# Classification report\n",
    "from sklearn.metrics import classification_report\n",
    "print(classification_report(y_test, y_pred_lr))"
   ]
  },
  {
   "cell_type": "code",
   "execution_count": 14,
   "metadata": {},
   "outputs": [
    {
     "name": "stdout",
     "output_type": "stream",
     "text": [
      "[[137566 203569]\n",
      " [ 81874 293780]]\n"
     ]
    }
   ],
   "source": [
    "# Confusion matrix\n",
    "from sklearn.metrics import confusion_matrix\n",
    "print(confusion_matrix(y_test, y_pred_lr))"
   ]
  },
  {
   "cell_type": "code",
   "execution_count": 15,
   "metadata": {},
   "outputs": [
    {
     "data": {
      "image/png": "[encoded data removed]",
      "text/plain": [
       "<Figure size 432x288 with 1 Axes>"
      ]
     },
     "metadata": {},
     "output_type": "display_data"
    }
   ],
   "source": [
    "# ROC curve\n",
    "from sklearn.metrics import roc_curve\n",
    "y_pred_prob_lr = lr.predict_proba(X_test)[:, 1]\n",
    "fpr, tpr, thresholds = roc_curve(y_test, y_pred_prob_lr)\n",
    "\n",
    "_ = sns.set()\n",
    "_ = plt.plot([0,1], [0,1], 'k--')\n",
    "_ = plt.plot(fpr, tpr)\n",
    "_ = plt.xlabel('False Positive Rate')\n",
    "_ = plt.ylabel('True Positive Rate')\n",
    "_ = plt.title('ROC Curve')\n",
    "_ = plt.show()"
   ]
  },
  {
   "cell_type": "code",
   "execution_count": 16,
   "metadata": {
    "scrolled": true
   },
   "outputs": [
    {
     "name": "stdout",
     "output_type": "stream",
     "text": [
      "0.651081743295\n"
     ]
    }
   ],
   "source": [
    "# Calculate area under ROC curve\n",
    "from sklearn.metrics import roc_auc_score\n",
    "auc_lr = roc_auc_score(y_test, y_pred_prob_lr)\n",
    "print(auc_lr)"
   ]
  },
  {
   "cell_type": "markdown",
   "metadata": {},
   "source": [
    "### Gradient Boosting Classifier"
   ]
  },
  {
   "cell_type": "code",
   "execution_count": 6,
   "metadata": {
    "scrolled": true
   },
   "outputs": [
    {
     "name": "stdout",
     "output_type": "stream",
     "text": [
      "Training Set Accuracy: 0.611946343992764\n",
      "Test Set Accuracy: 0.6084872954244555\n"
     ]
    }
   ],
   "source": [
    "# Fit model and calculate prediction accuracy\n",
    "from sklearn.ensemble import GradientBoostingClassifier\n",
    "gbc = GradientBoostingClassifier(learning_rate=0.01, n_estimators=900, max_depth=9, min_samples_split=600, min_samples_leaf=50, max_features=9, subsample=0.7, random_state=6)\n",
    "gbc.fit(X_train, y_train)\n",
    "y_pred_gbc = gbc.predict(X_test)\n",
    "y_pred_train_gbc = gbc.predict(X_train)\n",
    "print('Training Set Accuracy: {}'.format(gbc.score(X_train, y_train)))\n",
    "print('Test Set Accuracy: {}'.format(gbc.score(X_test, y_test)))"
   ]
  },
  {
   "cell_type": "code",
   "execution_count": 7,
   "metadata": {
    "scrolled": true
   },
   "outputs": [
    {
     "name": "stdout",
     "output_type": "stream",
     "text": [
      "              precision    recall  f1-score   support\n",
      "\n",
      "           0       0.61      0.48      0.54    341135\n",
      "           1       0.61      0.73      0.66    375654\n",
      "\n",
      "   micro avg       0.61      0.61      0.61    716789\n",
      "   macro avg       0.61      0.60      0.60    716789\n",
      "weighted avg       0.61      0.61      0.60    716789\n",
      "\n"
     ]
    }
   ],
   "source": [
    "# Classification report\n",
    "from sklearn.metrics import classification_report\n",
    "print(classification_report(y_test, y_pred_gbc))"
   ]
  },
  {
   "cell_type": "code",
   "execution_count": 8,
   "metadata": {},
   "outputs": [
    {
     "name": "stdout",
     "output_type": "stream",
     "text": [
      "[[163024 178111]\n",
      " [102521 273133]]\n"
     ]
    }
   ],
   "source": [
    "# Confusion matrix\n",
    "from sklearn.metrics import confusion_matrix\n",
    "print(confusion_matrix(y_test, y_pred_gbc))"
   ]
  },
  {
   "cell_type": "code",
   "execution_count": 9,
   "metadata": {},
   "outputs": [
    {
     "data": {
      "image/png": "[encoded data removed]",
      "text/plain": [
       "<Figure size 432x288 with 1 Axes>"
      ]
     },
     "metadata": {},
     "output_type": "display_data"
    }
   ],
   "source": [
    "# ROC curve\n",
    "from sklearn.metrics import roc_curve\n",
    "y_pred_prob_gbc = gbc.predict_proba(X_test)[:, 1]\n",
    "fpr, tpr, thresholds = roc_curve(y_test, y_pred_prob_gbc)\n",
    "\n",
    "_ = sns.set()\n",
    "_ = plt.plot([0,1], [0,1], 'k--')\n",
    "_ = plt.plot(fpr, tpr)\n",
    "_ = plt.xlabel('False Positive Rate')\n",
    "_ = plt.ylabel('True Positive Rate')\n",
    "_ = plt.title('ROC Curve')\n",
    "_ = plt.show()"
   ]
  },
  {
   "cell_type": "code",
   "execution_count": 10,
   "metadata": {},
   "outputs": [
    {
     "name": "stdout",
     "output_type": "stream",
     "text": [
      "0.661979996828\n"
     ]
    }
   ],
   "source": [
    "# Calculate area under ROC curve\n",
    "from sklearn.metrics import roc_auc_score\n",
    "auc_gbc = roc_auc_score(y_test, y_pred_prob_gbc)\n",
    "print(auc_gbc)"
   ]
  },
  {
   "cell_type": "markdown",
   "metadata": {},
   "source": [
    "### Save Results\n",
    "\n",
    "Having fully trained my final models and run predictions, I will save the results for future analysis:"
   ]
  },
  {
   "cell_type": "code",
   "execution_count": 20,
   "metadata": {},
   "outputs": [],
   "source": [
    "# create dataframe of lr coefficients and gbc feature importances\n",
    "df_features = pd.DataFrame({'coefficient': lr.coef_.flatten(), 'gbc_feature_importance': gbc.feature_importances_}, index=df_model.columns[2:])\n",
    "\n",
    "# save dataframe to local drive as .csv file\n",
    "export_df = df_features.to_csv('df_features.csv')"
   ]
  },
  {
   "cell_type": "code",
   "execution_count": null,
   "metadata": {},
   "outputs": [],
   "source": [
    "# create dataframe of training samples\n",
    "df_train_results = pd.DataFrame(X_train, columns=df_model.columns[2:])\n",
    "\n",
    "# add fastball labels, lr predictions, and gbc predictions to dataframe\n",
    "df_train_results['fastball'] = y_train\n",
    "df_train_results['lr_predict'] = y_pred_train_lr\n",
    "df_train_results['gbc_predict'] = y_pred_train_gbc\n",
    "\n",
    "# save dataframe to local drive as .csv file\n",
    "export_df = df_train_results.to_csv('df_train_results.csv')"
   ]
  },
  {
   "cell_type": "code",
   "execution_count": null,
   "metadata": {},
   "outputs": [],
   "source": [
    "# create dataframe of test samples\n",
    "df_test_results = pd.DataFrame(X_test, columns=df_model.columns[2:])\n",
    "\n",
    "# add fastball labels, lr predictions, and gbc predictions to dataframe\n",
    "df_test_results['fastball'] = y_test\n",
    "df_test_results['lr_predict'] = y_pred_lr\n",
    "df_test_results['gbc_predict'] = y_pred_gbc\n",
    "\n",
    "# save dataframe to local drive as .csv file\n",
    "export_df = df_test_results.to_csv('df_test_results.csv')"
   ]
  },
  {
   "cell_type": "code",
   "execution_count": null,
   "metadata": {},
   "outputs": [],
   "source": [
    "# create dataframe summarizing results on test set data by pitch type\n",
    "\n",
    "# divide test set data into subsets based on results for each classifier\n",
    "df_tp_gbc = df_test_results[(df_test_results['fastball'] == 1) & (df_test_results['gbc_predict'] == 1)]\n",
    "df_fp_gbc = df_test_results[(df_test_results['fastball'] == 0) & (df_test_results['gbc_predict'] == 1)]\n",
    "df_tn_gbc = df_test_results[(df_test_results['fastball'] == 0) & (df_test_results['gbc_predict'] == 0)]\n",
    "df_fn_gbc = df_test_results[(df_test_results['fastball'] == 1) & (df_test_results['gbc_predict'] == 0)]\n",
    "\n",
    "df_tp_lr = df_test_results[(df_test['fastball'] == 1) & (df_test_results['lr_predict'] == 1)]\n",
    "df_fp_lr = df_test_results[(df_test['fastball'] == 0) & (df_test_results['lr_predict'] == 1)]\n",
    "df_tn_lr = df_test_results[(df_test['fastball'] == 0) & (df_test_results['lr_predict'] == 0)]\n",
    "df_fn_lr = df_test_results[(df_test['fastball'] == 1) & (df_test_results['lr_predict'] == 0)]\n",
    "\n",
    "# build dataframes for results for types of fastballs and results for types of non-fastballs\n",
    "df_results_fastballs = pd.DataFrame({'tp_lr': df_tp_lr['pitch_type'].value_counts(), 'fn_lr': df_fn_lr['pitch_type'].value_counts(), 'tp_gbc': df_tp_gbc['pitch_type'].value_counts(), 'fn_gbc': df_fn_gbc['pitch_type'].value_counts()})\n",
    "df_results_nonfastballs = pd.DataFrame({'fp_lr': df_fp_lr['pitch_type'].value_counts(), 'tn_lr': df_tn_lr['pitch_type'].value_counts(), 'fp_gbc': df_fp_gbc['pitch_type'].value_counts(), 'tn_gbc': df_tn_gbc['pitch_type'].value_counts()})\n",
    "\n",
    "# add totals and accuracy percentage for each model as columns to dataframes\n",
    "df_results_fastballs['total'] = df_results_fastballs['tp_lr'] + df_results_fastballs['fn_lr']\n",
    "df_results_fastballs['accuracy_lr'] = df_results_fastballs['tp_lr'] / df_reults_fastballs['total']\n",
    "df_results_fastballs['accuracy_gbc'] = df_results_fastballs['tp_gbc'] / df_results_fastballs['total']\n",
    "\n",
    "df_results_nonfastballs['total'] = df_results_nonfastballs['fp_lr'] + df_results_nonfastballs['tn_lr']\n",
    "df_results_nonfastballs['accuracy_lr'] = df_results_nonfastballs['tn_lr'] / df_results_nonfastballs['total']\n",
    "df_results_nonfastballs['accuracy_gbc'] = df_results_nonfastballs['tn_gbc'] / df_results_nonfastballs['total']\n",
    "\n",
    "# save dataframes to local drive as csv files\n",
    "export_df_f = df_results_fastballs.to_csv('df_fastball_results.csv')\n",
    "export_df_nf = df_results_nonfastballs.to_csv('df_nonfastball_results.csv')"
   ]
  },
  {
   "cell_type": "code",
   "execution_count": 3,
   "metadata": {},
   "outputs": [],
   "source": [
    "# create dataframe summarizing results on test set data by model features\n",
    "\n",
    "# load the dataframe (if necessary)\n",
    "df_test_results = pd.read_csv('df_test_results.csv')\n",
    "\n",
    "# divide test set data into subsets based on results for each classifier\n",
    "df_tp_gbc = df_test_results[(df_test_results['fastball'] == 1) & (df_test_results['gbc_predict'] == 1)]\n",
    "df_fp_gbc = df_test_results[(df_test_results['fastball'] == 0) & (df_test_results['gbc_predict'] == 1)]\n",
    "df_tn_gbc = df_test_results[(df_test_results['fastball'] == 0) & (df_test_results['gbc_predict'] == 0)]\n",
    "df_fn_gbc = df_test_results[(df_test_results['fastball'] == 1) & (df_test_results['gbc_predict'] == 0)]\n",
    "\n",
    "df_tp_lr = df_test_results[(df_test_results['fastball'] == 1) & (df_test_results['lr_predict'] == 1)]\n",
    "df_fp_lr = df_test_results[(df_test_results['fastball'] == 0) & (df_test_results['lr_predict'] == 1)]\n",
    "df_tn_lr = df_test_results[(df_test_results['fastball'] == 0) & (df_test_results['lr_predict'] == 0)]\n",
    "df_fn_lr = df_test_results[(df_test_results['fastball'] == 1) & (df_test_results['lr_predict'] == 0)]\n",
    "\n",
    "# test_results totals\n",
    "test_results_totals = []\n",
    "for i in range(len(df_test_results.columns[1:97])):\n",
    "    test_results_totals.append(df_test_results.iloc[:, i+1].sum())\n",
    "\n",
    "# tp_lr totals\n",
    "tp_lr_totals = []\n",
    "for i in range(len(df_tp_lr.columns[1:97])):\n",
    "    tp_lr_totals.append(df_tp_lr.iloc[:, i+1].sum())\n",
    "\n",
    "# fp_lr totals\n",
    "fp_lr_totals = []\n",
    "for i in range(len(df_fp_lr.columns[1:97])):\n",
    "    fp_lr_totals.append(df_fp_lr.iloc[:, i+1].sum())\n",
    "\n",
    "# tn_lr totals\n",
    "tn_lr_totals = []\n",
    "for i in range(len(df_tn_lr.columns[1:97])):\n",
    "    tn_lr_totals.append(df_tn_lr.iloc[:, i+1].sum())\n",
    "    \n",
    "# fn_lr totals\n",
    "fn_lr_totals = []\n",
    "for i in range(len(df_fn_lr.columns[1:97])):\n",
    "    fn_lr_totals.append(df_fn_lr.iloc[:, i+1].sum())\n",
    "    \n",
    "# tp_gbc totals\n",
    "tp_gbc_totals = []\n",
    "for i in range(len(df_tp_gbc.columns[1:97])):\n",
    "    tp_gbc_totals.append(df_tp_gbc.iloc[:, i+1].sum())\n",
    "    \n",
    "# fp_gbc totals\n",
    "fp_gbc_totals = []\n",
    "for i in range(len(df_fp_gbc.columns[1:97])):\n",
    "    fp_gbc_totals.append(df_fp_gbc.iloc[:, i+1].sum())\n",
    "    \n",
    "# tn_gbc totals\n",
    "tn_gbc_totals = []\n",
    "for i in range(len(df_tn_gbc.columns[1:97])):\n",
    "    tn_gbc_totals.append(df_tn_gbc.iloc[:, i+1].sum())\n",
    "    \n",
    "# fn_gbc totals\n",
    "fn_gbc_totals = []\n",
    "for i in range(len(df_fn_gbc.columns[1:97])):\n",
    "    fn_gbc_totals.append(df_fn_gbc.iloc[:, i+1].sum())\n",
    "    \n",
    "# create dataframe for results by feature\n",
    "df_features_results = pd.DataFrame({'total': test_results_totals, 'tp_lr': tp_lr_totals, 'fp_lr': fp_lr_totals, 'tn_lr': tn_lr_totals, 'fn_lr': fn_lr_totals, 'tp_gbc': tp_gbc_totals, 'fp_gbc': fp_gbc_totals, 'tn_gbc': tn_gbc_totals, 'fn_gbc': fn_gbc_totals}, index=df_test_results.columns[1:97])\n",
    "\n",
    "# add accuracy columns for each feature to new dataframe\n",
    "df_features_results['accuracy_lr'] = (df_features_results['tp_lr'] + df_features_results['tn_lr']) / df_features_results['total']\n",
    "df_features_results['accuracy_gbc'] = (df_features_results['tp_gbc'] + df_features_results['tn_gbc']) / df_features_results['total']\n",
    "\n",
    "# save dataframe to local drive as .csv file\n",
    "export_df = df_features_results.to_csv('df_features_results.csv')"
   ]
  },
  {
   "cell_type": "markdown",
   "metadata": {},
   "source": [
    "## Summary of Results\n",
    "\n",
    "Overall, the Gradient Boosting Classifier outperformed the Logistic Regression Classifier.  Here is a table summarizing the results:"
   ]
  },
  {
   "cell_type": "code",
   "execution_count": 6,
   "metadata": {},
   "outputs": [
    {
     "data": {
      "text/html": [
       "<div>\n",
       "<style scoped>\n",
       "    .dataframe tbody tr th:only-of-type {\n",
       "        vertical-align: middle;\n",
       "    }\n",
       "\n",
       "    .dataframe tbody tr th {\n",
       "        vertical-align: top;\n",
       "    }\n",
       "\n",
       "    .dataframe thead th {\n",
       "        text-align: right;\n",
       "    }\n",
       "</style>\n",
       "<table border=\"1\" class=\"dataframe\">\n",
       "  <thead>\n",
       "    <tr style=\"text-align: right;\">\n",
       "      <th></th>\n",
       "      <th>metric</th>\n",
       "      <th>lr</th>\n",
       "      <th>gbc</th>\n",
       "    </tr>\n",
       "  </thead>\n",
       "  <tbody>\n",
       "    <tr>\n",
       "      <th>0</th>\n",
       "      <td>Training Set Accuracy</td>\n",
       "      <td>0.602586</td>\n",
       "      <td>0.611946</td>\n",
       "    </tr>\n",
       "    <tr>\n",
       "      <th>1</th>\n",
       "      <td>Test Set Accuracy</td>\n",
       "      <td>0.601775</td>\n",
       "      <td>0.608487</td>\n",
       "    </tr>\n",
       "    <tr>\n",
       "      <th>2</th>\n",
       "      <td>Non-fastball Precision</td>\n",
       "      <td>0.630000</td>\n",
       "      <td>0.610000</td>\n",
       "    </tr>\n",
       "    <tr>\n",
       "      <th>3</th>\n",
       "      <td>Non-fastball Recall</td>\n",
       "      <td>0.400000</td>\n",
       "      <td>0.480000</td>\n",
       "    </tr>\n",
       "    <tr>\n",
       "      <th>4</th>\n",
       "      <td>Non_fastball F1-score</td>\n",
       "      <td>0.490000</td>\n",
       "      <td>0.540000</td>\n",
       "    </tr>\n",
       "    <tr>\n",
       "      <th>5</th>\n",
       "      <td>Fastball Precision</td>\n",
       "      <td>0.590000</td>\n",
       "      <td>0.610000</td>\n",
       "    </tr>\n",
       "    <tr>\n",
       "      <th>6</th>\n",
       "      <td>Fastball Recall</td>\n",
       "      <td>0.780000</td>\n",
       "      <td>0.730000</td>\n",
       "    </tr>\n",
       "    <tr>\n",
       "      <th>7</th>\n",
       "      <td>Fastball F1-score</td>\n",
       "      <td>0.670000</td>\n",
       "      <td>0.660000</td>\n",
       "    </tr>\n",
       "    <tr>\n",
       "      <th>8</th>\n",
       "      <td>ROC area under curve</td>\n",
       "      <td>0.651080</td>\n",
       "      <td>0.661980</td>\n",
       "    </tr>\n",
       "  </tbody>\n",
       "</table>\n",
       "</div>"
      ],
      "text/plain": [
       "                   metric        lr       gbc\n",
       "0   Training Set Accuracy  0.602586  0.611946\n",
       "1       Test Set Accuracy  0.601775  0.608487\n",
       "2  Non-fastball Precision  0.630000  0.610000\n",
       "3     Non-fastball Recall  0.400000  0.480000\n",
       "4   Non_fastball F1-score  0.490000  0.540000\n",
       "5      Fastball Precision  0.590000  0.610000\n",
       "6         Fastball Recall  0.780000  0.730000\n",
       "7       Fastball F1-score  0.670000  0.660000\n",
       "8    ROC area under curve  0.651080  0.661980"
      ]
     },
     "execution_count": 6,
     "metadata": {},
     "output_type": "execute_result"
    }
   ],
   "source": [
    "df_metrics = pd.read_excel('models_metrics.xlsx')\n",
    "df_metrics"
   ]
  },
  {
   "cell_type": "markdown",
   "metadata": {},
   "source": [
    "The Gradient Boosting Classifier generated an overall accuracy rate of 0.6085, almost a full percentage point better than the Logistic Regression Classifier's rate of 0.6018. This spread was similarly reflected in the models' respective ROC curve AUC score, as the Gradient Boosting Classifier generated a score of 0.6620 compared to the Logisitic Regression Classifier's 0.6510.  Therefore, the Gradient Boosting Classifier should be preferred if overall accuracy is a team's priority.\n",
    "\n",
    "The decision may not be so straightforward, however, if a team prioritizes identifying one type of pitch over another.  Let's examine the results for each pitch type to provide a clearer picture on model performance.\n",
    "\n",
    "### Non-Fastballs\n"
   ]
  },
  {
   "cell_type": "code",
   "execution_count": 14,
   "metadata": {},
   "outputs": [
    {
     "data": {
      "text/html": [
       "<div>\n",
       "<style scoped>\n",
       "    .dataframe tbody tr th:only-of-type {\n",
       "        vertical-align: middle;\n",
       "    }\n",
       "\n",
       "    .dataframe tbody tr th {\n",
       "        vertical-align: top;\n",
       "    }\n",
       "\n",
       "    .dataframe thead th {\n",
       "        text-align: right;\n",
       "    }\n",
       "</style>\n",
       "<table border=\"1\" class=\"dataframe\">\n",
       "  <thead>\n",
       "    <tr style=\"text-align: right;\">\n",
       "      <th></th>\n",
       "      <th>fp_lr</th>\n",
       "      <th>tn_lr</th>\n",
       "      <th>fp_gbc</th>\n",
       "      <th>tn_gbc</th>\n",
       "      <th>total</th>\n",
       "      <th>accuracy_lr</th>\n",
       "      <th>accuracy_gbc</th>\n",
       "    </tr>\n",
       "  </thead>\n",
       "  <tbody>\n",
       "    <tr>\n",
       "      <th>SL</th>\n",
       "      <td>69463</td>\n",
       "      <td>42957</td>\n",
       "      <td>60222</td>\n",
       "      <td>52198</td>\n",
       "      <td>112420</td>\n",
       "      <td>0.382112</td>\n",
       "      <td>0.464312</td>\n",
       "    </tr>\n",
       "    <tr>\n",
       "      <th>CH</th>\n",
       "      <td>47294</td>\n",
       "      <td>25976</td>\n",
       "      <td>41410</td>\n",
       "      <td>31860</td>\n",
       "      <td>73270</td>\n",
       "      <td>0.354524</td>\n",
       "      <td>0.434830</td>\n",
       "    </tr>\n",
       "    <tr>\n",
       "      <th>SI</th>\n",
       "      <td>27304</td>\n",
       "      <td>33261</td>\n",
       "      <td>24234</td>\n",
       "      <td>36331</td>\n",
       "      <td>60565</td>\n",
       "      <td>0.549179</td>\n",
       "      <td>0.599868</td>\n",
       "    </tr>\n",
       "    <tr>\n",
       "      <th>CU</th>\n",
       "      <td>39374</td>\n",
       "      <td>19411</td>\n",
       "      <td>34327</td>\n",
       "      <td>24458</td>\n",
       "      <td>58785</td>\n",
       "      <td>0.330203</td>\n",
       "      <td>0.416059</td>\n",
       "    </tr>\n",
       "    <tr>\n",
       "      <th>KC</th>\n",
       "      <td>10991</td>\n",
       "      <td>5760</td>\n",
       "      <td>9702</td>\n",
       "      <td>7049</td>\n",
       "      <td>16751</td>\n",
       "      <td>0.343860</td>\n",
       "      <td>0.420811</td>\n",
       "    </tr>\n",
       "    <tr>\n",
       "      <th>FS</th>\n",
       "      <td>6572</td>\n",
       "      <td>4330</td>\n",
       "      <td>5771</td>\n",
       "      <td>5131</td>\n",
       "      <td>10902</td>\n",
       "      <td>0.397175</td>\n",
       "      <td>0.470648</td>\n",
       "    </tr>\n",
       "    <tr>\n",
       "      <th>MISSING</th>\n",
       "      <td>1033</td>\n",
       "      <td>2465</td>\n",
       "      <td>1192</td>\n",
       "      <td>2306</td>\n",
       "      <td>3498</td>\n",
       "      <td>0.704688</td>\n",
       "      <td>0.659234</td>\n",
       "    </tr>\n",
       "    <tr>\n",
       "      <th>KN</th>\n",
       "      <td>960</td>\n",
       "      <td>1809</td>\n",
       "      <td>857</td>\n",
       "      <td>1912</td>\n",
       "      <td>2769</td>\n",
       "      <td>0.653304</td>\n",
       "      <td>0.690502</td>\n",
       "    </tr>\n",
       "    <tr>\n",
       "      <th>IN</th>\n",
       "      <td>245</td>\n",
       "      <td>1339</td>\n",
       "      <td>104</td>\n",
       "      <td>1480</td>\n",
       "      <td>1584</td>\n",
       "      <td>0.845328</td>\n",
       "      <td>0.934343</td>\n",
       "    </tr>\n",
       "    <tr>\n",
       "      <th>EP</th>\n",
       "      <td>91</td>\n",
       "      <td>139</td>\n",
       "      <td>79</td>\n",
       "      <td>151</td>\n",
       "      <td>230</td>\n",
       "      <td>0.604348</td>\n",
       "      <td>0.656522</td>\n",
       "    </tr>\n",
       "    <tr>\n",
       "      <th>FO</th>\n",
       "      <td>127</td>\n",
       "      <td>65</td>\n",
       "      <td>104</td>\n",
       "      <td>88</td>\n",
       "      <td>192</td>\n",
       "      <td>0.338542</td>\n",
       "      <td>0.458333</td>\n",
       "    </tr>\n",
       "    <tr>\n",
       "      <th>PO</th>\n",
       "      <td>103</td>\n",
       "      <td>31</td>\n",
       "      <td>99</td>\n",
       "      <td>35</td>\n",
       "      <td>134</td>\n",
       "      <td>0.231343</td>\n",
       "      <td>0.261194</td>\n",
       "    </tr>\n",
       "    <tr>\n",
       "      <th>SC</th>\n",
       "      <td>12</td>\n",
       "      <td>23</td>\n",
       "      <td>10</td>\n",
       "      <td>25</td>\n",
       "      <td>35</td>\n",
       "      <td>0.657143</td>\n",
       "      <td>0.714286</td>\n",
       "    </tr>\n",
       "  </tbody>\n",
       "</table>\n",
       "</div>"
      ],
      "text/plain": [
       "         fp_lr  tn_lr  fp_gbc  tn_gbc   total  accuracy_lr  accuracy_gbc\n",
       "SL       69463  42957   60222   52198  112420     0.382112      0.464312\n",
       "CH       47294  25976   41410   31860   73270     0.354524      0.434830\n",
       "SI       27304  33261   24234   36331   60565     0.549179      0.599868\n",
       "CU       39374  19411   34327   24458   58785     0.330203      0.416059\n",
       "KC       10991   5760    9702    7049   16751     0.343860      0.420811\n",
       "FS        6572   4330    5771    5131   10902     0.397175      0.470648\n",
       "MISSING   1033   2465    1192    2306    3498     0.704688      0.659234\n",
       "KN         960   1809     857    1912    2769     0.653304      0.690502\n",
       "IN         245   1339     104    1480    1584     0.845328      0.934343\n",
       "EP          91    139      79     151     230     0.604348      0.656522\n",
       "FO         127     65     104      88     192     0.338542      0.458333\n",
       "PO         103     31      99      35     134     0.231343      0.261194\n",
       "SC          12     23      10      25      35     0.657143      0.714286"
      ]
     },
     "execution_count": 14,
     "metadata": {},
     "output_type": "execute_result"
    }
   ],
   "source": [
    "df_nf = pd.read_csv('df_nonfastball_results.csv', index_col=0)\n",
    "df_nf.sort_values('total', ascending=False)"
   ]
  },
  {
   "cell_type": "markdown",
   "metadata": {},
   "source": [
    "As we can see from the above table, the Gradient Boosting Classifier identified each type of non-fastball at a higher accuracy rate than the Logistic Regression Classifier (with the exception of the pitches that were missing a pitch type classification).  The Gradient Boosting Classifier accordingly should be used by any team that prioritizes identifying when the next pitch will be a non-fastball.\n",
    "\n",
    "It is worth noting that neither classifier does particularly well in identifying non-fastballs.  The Gradient Boosting Classifier correctly classified 47% of non-fastballs, which significantly outperformed the Logistic Regression Classifier's recall rate of 40%.  However, the Logistic Regression Classifier generated a slightly higher precision rate (0.63 v. 0.62).  \n",
    "\n",
    "Both models therefore clearly suffer from overclassifying pitches as fastballs.  Let's examine the fastball data:\n",
    "\n",
    "### Fastballs"
   ]
  },
  {
   "cell_type": "code",
   "execution_count": 18,
   "metadata": {},
   "outputs": [
    {
     "data": {
      "text/html": [
       "<div>\n",
       "<style scoped>\n",
       "    .dataframe tbody tr th:only-of-type {\n",
       "        vertical-align: middle;\n",
       "    }\n",
       "\n",
       "    .dataframe tbody tr th {\n",
       "        vertical-align: top;\n",
       "    }\n",
       "\n",
       "    .dataframe thead th {\n",
       "        text-align: right;\n",
       "    }\n",
       "</style>\n",
       "<table border=\"1\" class=\"dataframe\">\n",
       "  <thead>\n",
       "    <tr style=\"text-align: right;\">\n",
       "      <th></th>\n",
       "      <th>tp_lr</th>\n",
       "      <th>fn_lr</th>\n",
       "      <th>tp_gbc</th>\n",
       "      <th>fn_gbc</th>\n",
       "      <th>total</th>\n",
       "      <th>accuracy_lr</th>\n",
       "      <th>accuracy_gbc</th>\n",
       "    </tr>\n",
       "  </thead>\n",
       "  <tbody>\n",
       "    <tr>\n",
       "      <th>FF</th>\n",
       "      <td>195776</td>\n",
       "      <td>57976</td>\n",
       "      <td>182164</td>\n",
       "      <td>71588</td>\n",
       "      <td>253752</td>\n",
       "      <td>0.771525</td>\n",
       "      <td>0.717882</td>\n",
       "    </tr>\n",
       "    <tr>\n",
       "      <th>FT</th>\n",
       "      <td>68812</td>\n",
       "      <td>15676</td>\n",
       "      <td>63826</td>\n",
       "      <td>20662</td>\n",
       "      <td>84488</td>\n",
       "      <td>0.814459</td>\n",
       "      <td>0.755445</td>\n",
       "    </tr>\n",
       "    <tr>\n",
       "      <th>FC</th>\n",
       "      <td>29192</td>\n",
       "      <td>8222</td>\n",
       "      <td>27143</td>\n",
       "      <td>10271</td>\n",
       "      <td>37414</td>\n",
       "      <td>0.780243</td>\n",
       "      <td>0.725477</td>\n",
       "    </tr>\n",
       "  </tbody>\n",
       "</table>\n",
       "</div>"
      ],
      "text/plain": [
       "     tp_lr  fn_lr  tp_gbc  fn_gbc   total  accuracy_lr  accuracy_gbc\n",
       "FF  195776  57976  182164   71588  253752     0.771525      0.717882\n",
       "FT   68812  15676   63826   20662   84488     0.814459      0.755445\n",
       "FC   29192   8222   27143   10271   37414     0.780243      0.725477"
      ]
     },
     "execution_count": 18,
     "metadata": {},
     "output_type": "execute_result"
    }
   ],
   "source": [
    "df_f = pd.read_csv('df_fastball_results.csv', index_col=0)\n",
    "df_f.sort_values('total', ascending=False)"
   ]
  },
  {
   "cell_type": "markdown",
   "metadata": {},
   "source": [
    "As demonstrated above, the Logistic Regression Classifier was more accurate in identifying each of the three types of fastballs by a significant margin.  The Logistic Regression Classifier correctly classified 78% of fastballs, which significantly outperformed the Gradient Boosting Classifier's recall rate of 73%.\n",
    "\n",
    "However, the Logistic Regression Classifier generated only a marginally higher F1-score with respect to fastballs than the Gradient Boosting Classifier (0.67 v. 0.66), and the Gradient Boosting Classifier produced a slightly higher precision rate (0.60 v. 0.59).  This can be accounted for by the fact that the Logistic Regression Classifier predicts fastballs at a much higher overall rate than the Gradient Boosting Classifier - the Logistic Regression Classifier predicted approximately 70% of the pitches to be fastballs, significantly higher than the Gradient Boosting Classifier's rate of approximately 63% of the pitches.  The Logistic Regression Classifier therefore produces more Type I errors/False Positive predictions than the Gradient Boosting Classifier (203,569 v. 178,111), but less Type II errors/False Positive predictions (81,874 v. 102,521). \n",
    "\n",
    "All that being said, a team should consider using the Logistic Regression Classifier if its top priority is to maximize the number of fastballs identified correctly.\n",
    "\n",
    "\n",
    "### Feature Performance\n",
    "\n",
    "Next, I will evaluate the accuracy performance of the models based on each model feature.  The first chart below demonstrates the 15 features that produced the highest accuracy (for the GBC model).  The second chart below demonstrates the 15 features that producted the lowest accuracy (for the GBC model)."
   ]
  },
  {
   "cell_type": "code",
   "execution_count": 7,
   "metadata": {},
   "outputs": [
    {
     "data": {
      "text/html": [
       "<div>\n",
       "<style scoped>\n",
       "    .dataframe tbody tr th:only-of-type {\n",
       "        vertical-align: middle;\n",
       "    }\n",
       "\n",
       "    .dataframe tbody tr th {\n",
       "        vertical-align: top;\n",
       "    }\n",
       "\n",
       "    .dataframe thead th {\n",
       "        text-align: right;\n",
       "    }\n",
       "</style>\n",
       "<table border=\"1\" class=\"dataframe\">\n",
       "  <thead>\n",
       "    <tr style=\"text-align: right;\">\n",
       "      <th></th>\n",
       "      <th>accuracy_lr</th>\n",
       "      <th>accuracy_gbc</th>\n",
       "    </tr>\n",
       "  </thead>\n",
       "  <tbody>\n",
       "    <tr>\n",
       "      <th>prev_pitch_IN</th>\n",
       "      <td>1.000000</td>\n",
       "      <td>1.000000</td>\n",
       "    </tr>\n",
       "    <tr>\n",
       "      <th>px_prev_(3.467, 4.0]</th>\n",
       "      <td>0.949886</td>\n",
       "      <td>0.940774</td>\n",
       "    </tr>\n",
       "    <tr>\n",
       "      <th>px_prev_(-4.008, -3.467]</th>\n",
       "      <td>0.939609</td>\n",
       "      <td>0.939609</td>\n",
       "    </tr>\n",
       "    <tr>\n",
       "      <th>prev_pitch_KN</th>\n",
       "      <td>0.899221</td>\n",
       "      <td>0.897274</td>\n",
       "    </tr>\n",
       "    <tr>\n",
       "      <th>prev_pitch_SI</th>\n",
       "      <td>0.879638</td>\n",
       "      <td>0.879638</td>\n",
       "    </tr>\n",
       "    <tr>\n",
       "      <th>b_count_3</th>\n",
       "      <td>0.723751</td>\n",
       "      <td>0.726064</td>\n",
       "    </tr>\n",
       "    <tr>\n",
       "      <th>px_prev_(-3.467, -2.933]</th>\n",
       "      <td>0.732601</td>\n",
       "      <td>0.710623</td>\n",
       "    </tr>\n",
       "    <tr>\n",
       "      <th>prev_pitch_EP</th>\n",
       "      <td>0.674603</td>\n",
       "      <td>0.706349</td>\n",
       "    </tr>\n",
       "    <tr>\n",
       "      <th>px_prev_(2.933, 3.467]</th>\n",
       "      <td>0.743590</td>\n",
       "      <td>0.705128</td>\n",
       "    </tr>\n",
       "    <tr>\n",
       "      <th>prev_pitch_SC</th>\n",
       "      <td>0.958333</td>\n",
       "      <td>0.666667</td>\n",
       "    </tr>\n",
       "    <tr>\n",
       "      <th>prev_pitch_FC</th>\n",
       "      <td>0.658895</td>\n",
       "      <td>0.660200</td>\n",
       "    </tr>\n",
       "    <tr>\n",
       "      <th>px_prev_(-1.867, -1.333]</th>\n",
       "      <td>0.640715</td>\n",
       "      <td>0.645805</td>\n",
       "    </tr>\n",
       "    <tr>\n",
       "      <th>pz_prev_(3.4, 3.8]</th>\n",
       "      <td>0.627913</td>\n",
       "      <td>0.643131</td>\n",
       "    </tr>\n",
       "    <tr>\n",
       "      <th>pz_prev_(3.8, 4.2]</th>\n",
       "      <td>0.625292</td>\n",
       "      <td>0.640845</td>\n",
       "    </tr>\n",
       "    <tr>\n",
       "      <th>inning_9</th>\n",
       "      <td>0.635839</td>\n",
       "      <td>0.639539</td>\n",
       "    </tr>\n",
       "  </tbody>\n",
       "</table>\n",
       "</div>"
      ],
      "text/plain": [
       "                          accuracy_lr  accuracy_gbc\n",
       "prev_pitch_IN                1.000000      1.000000\n",
       "px_prev_(3.467, 4.0]         0.949886      0.940774\n",
       "px_prev_(-4.008, -3.467]     0.939609      0.939609\n",
       "prev_pitch_KN                0.899221      0.897274\n",
       "prev_pitch_SI                0.879638      0.879638\n",
       "b_count_3                    0.723751      0.726064\n",
       "px_prev_(-3.467, -2.933]     0.732601      0.710623\n",
       "prev_pitch_EP                0.674603      0.706349\n",
       "px_prev_(2.933, 3.467]       0.743590      0.705128\n",
       "prev_pitch_SC                0.958333      0.666667\n",
       "prev_pitch_FC                0.658895      0.660200\n",
       "px_prev_(-1.867, -1.333]     0.640715      0.645805\n",
       "pz_prev_(3.4, 3.8]           0.627913      0.643131\n",
       "pz_prev_(3.8, 4.2]           0.625292      0.640845\n",
       "inning_9                     0.635839      0.639539"
      ]
     },
     "execution_count": 7,
     "metadata": {},
     "output_type": "execute_result"
    }
   ],
   "source": [
    "df_features_results[['accuracy_lr', 'accuracy_gbc']].sort_values('accuracy_gbc', ascending=False)[:15]"
   ]
  },
  {
   "cell_type": "code",
   "execution_count": 8,
   "metadata": {},
   "outputs": [
    {
     "data": {
      "text/html": [
       "<div>\n",
       "<style scoped>\n",
       "    .dataframe tbody tr th:only-of-type {\n",
       "        vertical-align: middle;\n",
       "    }\n",
       "\n",
       "    .dataframe tbody tr th {\n",
       "        vertical-align: top;\n",
       "    }\n",
       "\n",
       "    .dataframe thead th {\n",
       "        text-align: right;\n",
       "    }\n",
       "</style>\n",
       "<table border=\"1\" class=\"dataframe\">\n",
       "  <thead>\n",
       "    <tr style=\"text-align: right;\">\n",
       "      <th></th>\n",
       "      <th>accuracy_lr</th>\n",
       "      <th>accuracy_gbc</th>\n",
       "    </tr>\n",
       "  </thead>\n",
       "  <tbody>\n",
       "    <tr>\n",
       "      <th>prev_pitch_CU</th>\n",
       "      <td>0.543829</td>\n",
       "      <td>0.550644</td>\n",
       "    </tr>\n",
       "    <tr>\n",
       "      <th>prev_pitch_CH</th>\n",
       "      <td>0.547242</td>\n",
       "      <td>0.552487</td>\n",
       "    </tr>\n",
       "    <tr>\n",
       "      <th>prev_pitch_KC</th>\n",
       "      <td>0.550387</td>\n",
       "      <td>0.557814</td>\n",
       "    </tr>\n",
       "    <tr>\n",
       "      <th>prev_pitch_FO</th>\n",
       "      <td>0.570470</td>\n",
       "      <td>0.563758</td>\n",
       "    </tr>\n",
       "    <tr>\n",
       "      <th>prev_pitch_FS</th>\n",
       "      <td>0.560411</td>\n",
       "      <td>0.565743</td>\n",
       "    </tr>\n",
       "    <tr>\n",
       "      <th>prev_pitch_SL</th>\n",
       "      <td>0.564841</td>\n",
       "      <td>0.569172</td>\n",
       "    </tr>\n",
       "    <tr>\n",
       "      <th>inning_4</th>\n",
       "      <td>0.570790</td>\n",
       "      <td>0.577222</td>\n",
       "    </tr>\n",
       "    <tr>\n",
       "      <th>pz_prev_(-1.006, -0.6]</th>\n",
       "      <td>0.587368</td>\n",
       "      <td>0.579474</td>\n",
       "    </tr>\n",
       "    <tr>\n",
       "      <th>prev_pitch_PO</th>\n",
       "      <td>0.607843</td>\n",
       "      <td>0.581699</td>\n",
       "    </tr>\n",
       "    <tr>\n",
       "      <th>pz_prev_(-0.6, -0.2]</th>\n",
       "      <td>0.581717</td>\n",
       "      <td>0.586911</td>\n",
       "    </tr>\n",
       "    <tr>\n",
       "      <th>inning_3</th>\n",
       "      <td>0.580816</td>\n",
       "      <td>0.589380</td>\n",
       "    </tr>\n",
       "    <tr>\n",
       "      <th>inning_5</th>\n",
       "      <td>0.582747</td>\n",
       "      <td>0.590548</td>\n",
       "    </tr>\n",
       "    <tr>\n",
       "      <th>inning_6</th>\n",
       "      <td>0.583291</td>\n",
       "      <td>0.590994</td>\n",
       "    </tr>\n",
       "    <tr>\n",
       "      <th>pz_prev_(-0.2, 0.2]</th>\n",
       "      <td>0.591915</td>\n",
       "      <td>0.592505</td>\n",
       "    </tr>\n",
       "    <tr>\n",
       "      <th>s_count_2</th>\n",
       "      <td>0.581208</td>\n",
       "      <td>0.593289</td>\n",
       "    </tr>\n",
       "  </tbody>\n",
       "</table>\n",
       "</div>"
      ],
      "text/plain": [
       "                        accuracy_lr  accuracy_gbc\n",
       "prev_pitch_CU              0.543829      0.550644\n",
       "prev_pitch_CH              0.547242      0.552487\n",
       "prev_pitch_KC              0.550387      0.557814\n",
       "prev_pitch_FO              0.570470      0.563758\n",
       "prev_pitch_FS              0.560411      0.565743\n",
       "prev_pitch_SL              0.564841      0.569172\n",
       "inning_4                   0.570790      0.577222\n",
       "pz_prev_(-1.006, -0.6]     0.587368      0.579474\n",
       "prev_pitch_PO              0.607843      0.581699\n",
       "pz_prev_(-0.6, -0.2]       0.581717      0.586911\n",
       "inning_3                   0.580816      0.589380\n",
       "inning_5                   0.582747      0.590548\n",
       "inning_6                   0.583291      0.590994\n",
       "pz_prev_(-0.2, 0.2]        0.591915      0.592505\n",
       "s_count_2                  0.581208      0.593289"
      ]
     },
     "execution_count": 8,
     "metadata": {},
     "output_type": "execute_result"
    }
   ],
   "source": [
    "df_features_results[['accuracy_lr', 'accuracy_gbc']].sort_values('accuracy_gbc', ascending=True)[:15]"
   ]
  },
  {
   "cell_type": "markdown",
   "metadata": {},
   "source": [
    "As the above tables demonstrate, with very few exceptions the two models produced roughly the same accuracy for each of the model features.  On average, the Gradient Boosting Classifier tends to perform slightly better on most features, accounting for its superior overall accuracy discussed above.\n",
    "\n",
    "The features that the models produce the highest accuracy mostly comprise of certain previous pitch type and location data.  Interestingly, however, certain other previous pitch types and location data produced the least accurate results.  The models also produced low accuracy numbers on pitches in the middle innings.\n",
    "\n",
    "Overall, this demonstrates that the previous pitch features that I added to the model produced the most skewed results (which I knew implicitly given how the models’ overall performance numbers improved significantly once these features were added).  Future work on these models should include focusing on these features to see if any more specific patterns/insights can be identified.\n",
    "\n",
    "I also would like to take a deeper dive into the pitches that occur in the middle innings. While I am skeptical that it is the middle inning features themselves that are causing the poor accuracy results, it could be indicative of other patterns/trends in the data that occur more often in the middle innings, which thereby cause the models to mislabel more pitches.\n"
   ]
  },
  {
   "cell_type": "markdown",
   "metadata": {},
   "source": [
    "### Logistic Regression Coefficients"
   ]
  },
  {
   "cell_type": "code",
   "execution_count": 11,
   "metadata": {},
   "outputs": [
    {
     "data": {
      "text/html": [
       "<div>\n",
       "<style scoped>\n",
       "    .dataframe tbody tr th:only-of-type {\n",
       "        vertical-align: middle;\n",
       "    }\n",
       "\n",
       "    .dataframe tbody tr th {\n",
       "        vertical-align: top;\n",
       "    }\n",
       "\n",
       "    .dataframe thead th {\n",
       "        text-align: right;\n",
       "    }\n",
       "</style>\n",
       "<table border=\"1\" class=\"dataframe\">\n",
       "  <thead>\n",
       "    <tr style=\"text-align: right;\">\n",
       "      <th></th>\n",
       "      <th>coefficient</th>\n",
       "      <th>gbc_feature_importance</th>\n",
       "    </tr>\n",
       "  </thead>\n",
       "  <tbody>\n",
       "    <tr>\n",
       "      <th>prev_pitch_FC</th>\n",
       "      <td>3.038671</td>\n",
       "      <td>0.037677</td>\n",
       "    </tr>\n",
       "    <tr>\n",
       "      <th>prev_pitch_FT</th>\n",
       "      <td>2.808360</td>\n",
       "      <td>0.043790</td>\n",
       "    </tr>\n",
       "    <tr>\n",
       "      <th>prev_pitch_FF</th>\n",
       "      <td>2.742564</td>\n",
       "      <td>0.080825</td>\n",
       "    </tr>\n",
       "    <tr>\n",
       "      <th>prev_pitch_FO</th>\n",
       "      <td>2.498353</td>\n",
       "      <td>0.000017</td>\n",
       "    </tr>\n",
       "    <tr>\n",
       "      <th>prev_pitch_PO</th>\n",
       "      <td>2.437529</td>\n",
       "      <td>0.000003</td>\n",
       "    </tr>\n",
       "    <tr>\n",
       "      <th>prev_pitch_CU</th>\n",
       "      <td>2.388296</td>\n",
       "      <td>0.002738</td>\n",
       "    </tr>\n",
       "    <tr>\n",
       "      <th>prev_pitch_CH</th>\n",
       "      <td>2.296203</td>\n",
       "      <td>0.004120</td>\n",
       "    </tr>\n",
       "    <tr>\n",
       "      <th>prev_pitch_KC</th>\n",
       "      <td>2.292289</td>\n",
       "      <td>0.001203</td>\n",
       "    </tr>\n",
       "    <tr>\n",
       "      <th>prev_pitch_SL</th>\n",
       "      <td>2.232262</td>\n",
       "      <td>0.014552</td>\n",
       "    </tr>\n",
       "    <tr>\n",
       "      <th>prev_pitch_FS</th>\n",
       "      <td>2.182986</td>\n",
       "      <td>0.001184</td>\n",
       "    </tr>\n",
       "    <tr>\n",
       "      <th>prev_pitch_EP</th>\n",
       "      <td>1.916104</td>\n",
       "      <td>0.000086</td>\n",
       "    </tr>\n",
       "    <tr>\n",
       "      <th>b_count_3</th>\n",
       "      <td>0.724995</td>\n",
       "      <td>0.057462</td>\n",
       "    </tr>\n",
       "    <tr>\n",
       "      <th>pz_prev_(-1.006, -0.6]</th>\n",
       "      <td>0.355470</td>\n",
       "      <td>0.000333</td>\n",
       "    </tr>\n",
       "    <tr>\n",
       "      <th>pz_prev_(-0.6, -0.2]</th>\n",
       "      <td>0.260123</td>\n",
       "      <td>0.000291</td>\n",
       "    </tr>\n",
       "    <tr>\n",
       "      <th>prev_pitch_SI</th>\n",
       "      <td>0.231926</td>\n",
       "      <td>0.379442</td>\n",
       "    </tr>\n",
       "  </tbody>\n",
       "</table>\n",
       "</div>"
      ],
      "text/plain": [
       "                        coefficient  gbc_feature_importance\n",
       "prev_pitch_FC              3.038671                0.037677\n",
       "prev_pitch_FT              2.808360                0.043790\n",
       "prev_pitch_FF              2.742564                0.080825\n",
       "prev_pitch_FO              2.498353                0.000017\n",
       "prev_pitch_PO              2.437529                0.000003\n",
       "prev_pitch_CU              2.388296                0.002738\n",
       "prev_pitch_CH              2.296203                0.004120\n",
       "prev_pitch_KC              2.292289                0.001203\n",
       "prev_pitch_SL              2.232262                0.014552\n",
       "prev_pitch_FS              2.182986                0.001184\n",
       "prev_pitch_EP              1.916104                0.000086\n",
       "b_count_3                  0.724995                0.057462\n",
       "pz_prev_(-1.006, -0.6]     0.355470                0.000333\n",
       "pz_prev_(-0.6, -0.2]       0.260123                0.000291\n",
       "prev_pitch_SI              0.231926                0.379442"
      ]
     },
     "execution_count": 11,
     "metadata": {},
     "output_type": "execute_result"
    }
   ],
   "source": [
    "df_features = pd.read_csv('df_features.csv', index_col=0)\n",
    "df_features.sort_values('coefficient', ascending=False)[:15]"
   ]
  },
  {
   "cell_type": "markdown",
   "metadata": {},
   "source": [
    "The above dataframe contains the coefficient values assigned to each feature by the fully-trained Logistic Regression Classifier (as well as the feature importances assigned by the Gradient Boosting Classifier, which we will analyze next).  The dataframe has been sorted to display the 15 features with the largest positive coefficient values.  As you can see, the classifier prioritizes the previous pitch type as most important, with 12 of the 15 being different previous pitch types. Interesting, the top 3 values (FC, FT, FF) are the three types of fastballs that comprise our `fastball` label.  This is an area that will require future investigation - if certain of these pitch types don’t correlate with the next pitch being a fastball, it may make sense to remove these features from the model to see if it would improve the model’s accuracy.\n",
    "\n",
    "It also determined that a batting count with 3 balls is relatively significant to the next pitch being a fastball, which is consistent with what we observed during our exploratory data analysis.  Finally, it found slight significance in the previous pitch having a negative vertical location (i.e., hitting the dirt below the plate).  Those likely are quite a small sample size and therefore probably not signficantly impacting the model's performance."
   ]
  },
  {
   "cell_type": "code",
   "execution_count": 4,
   "metadata": {},
   "outputs": [
    {
     "data": {
      "text/html": [
       "<div>\n",
       "<style scoped>\n",
       "    .dataframe tbody tr th:only-of-type {\n",
       "        vertical-align: middle;\n",
       "    }\n",
       "\n",
       "    .dataframe tbody tr th {\n",
       "        vertical-align: top;\n",
       "    }\n",
       "\n",
       "    .dataframe thead th {\n",
       "        text-align: right;\n",
       "    }\n",
       "</style>\n",
       "<table border=\"1\" class=\"dataframe\">\n",
       "  <thead>\n",
       "    <tr style=\"text-align: right;\">\n",
       "      <th></th>\n",
       "      <th>coefficient</th>\n",
       "      <th>gbc_feature_importance</th>\n",
       "    </tr>\n",
       "  </thead>\n",
       "  <tbody>\n",
       "    <tr>\n",
       "      <th>prev_pitch_IN</th>\n",
       "      <td>-6.606109</td>\n",
       "      <td>0.012344</td>\n",
       "    </tr>\n",
       "    <tr>\n",
       "      <th>pitch_num_2</th>\n",
       "      <td>-2.442173</td>\n",
       "      <td>0.015921</td>\n",
       "    </tr>\n",
       "    <tr>\n",
       "      <th>pitch_num_9</th>\n",
       "      <td>-2.365207</td>\n",
       "      <td>0.000290</td>\n",
       "    </tr>\n",
       "    <tr>\n",
       "      <th>pitch_num_10</th>\n",
       "      <td>-2.348446</td>\n",
       "      <td>0.000115</td>\n",
       "    </tr>\n",
       "    <tr>\n",
       "      <th>pitch_num_8</th>\n",
       "      <td>-2.307592</td>\n",
       "      <td>0.000622</td>\n",
       "    </tr>\n",
       "    <tr>\n",
       "      <th>pitch_num_7</th>\n",
       "      <td>-2.278462</td>\n",
       "      <td>0.001283</td>\n",
       "    </tr>\n",
       "    <tr>\n",
       "      <th>pitch_num_6</th>\n",
       "      <td>-2.260869</td>\n",
       "      <td>0.003287</td>\n",
       "    </tr>\n",
       "    <tr>\n",
       "      <th>pitch_num_3</th>\n",
       "      <td>-2.185861</td>\n",
       "      <td>0.012325</td>\n",
       "    </tr>\n",
       "    <tr>\n",
       "      <th>pitch_num_5</th>\n",
       "      <td>-2.124169</td>\n",
       "      <td>0.010369</td>\n",
       "    </tr>\n",
       "    <tr>\n",
       "      <th>pitch_num_4</th>\n",
       "      <td>-2.080146</td>\n",
       "      <td>0.010544</td>\n",
       "    </tr>\n",
       "    <tr>\n",
       "      <th>prev_pitch_SC</th>\n",
       "      <td>-1.036591</td>\n",
       "      <td>0.000000</td>\n",
       "    </tr>\n",
       "    <tr>\n",
       "      <th>s_count_2</th>\n",
       "      <td>-0.937326</td>\n",
       "      <td>0.054237</td>\n",
       "    </tr>\n",
       "    <tr>\n",
       "      <th>s_count_1</th>\n",
       "      <td>-0.600940</td>\n",
       "      <td>0.021992</td>\n",
       "    </tr>\n",
       "    <tr>\n",
       "      <th>inning_4</th>\n",
       "      <td>-0.365950</td>\n",
       "      <td>0.008212</td>\n",
       "    </tr>\n",
       "    <tr>\n",
       "      <th>inning_6</th>\n",
       "      <td>-0.360217</td>\n",
       "      <td>0.006696</td>\n",
       "    </tr>\n",
       "  </tbody>\n",
       "</table>\n",
       "</div>"
      ],
      "text/plain": [
       "               coefficient  gbc_feature_importance\n",
       "prev_pitch_IN    -6.606109                0.012344\n",
       "pitch_num_2      -2.442173                0.015921\n",
       "pitch_num_9      -2.365207                0.000290\n",
       "pitch_num_10     -2.348446                0.000115\n",
       "pitch_num_8      -2.307592                0.000622\n",
       "pitch_num_7      -2.278462                0.001283\n",
       "pitch_num_6      -2.260869                0.003287\n",
       "pitch_num_3      -2.185861                0.012325\n",
       "pitch_num_5      -2.124169                0.010369\n",
       "pitch_num_4      -2.080146                0.010544\n",
       "prev_pitch_SC    -1.036591                0.000000\n",
       "s_count_2        -0.937326                0.054237\n",
       "s_count_1        -0.600940                0.021992\n",
       "inning_4         -0.365950                0.008212\n",
       "inning_6         -0.360217                0.006696"
      ]
     },
     "execution_count": 4,
     "metadata": {},
     "output_type": "execute_result"
    }
   ],
   "source": [
    "df_features = pd.read_csv('df_features.csv', index_col=0)\n",
    "df_features.sort_values('coefficient')[:15]"
   ]
  },
  {
   "cell_type": "markdown",
   "metadata": {},
   "source": [
    "Conversely, the Logistic Regression Classifier assigns large negative value coefficients to features it has learned correlate to non-fastballs.  The outlier feature is for the previous pitch being an intentional ball.  This makes logical sense because intentional balls are thrown when a pitcher intentionally walks a batter, in which case the pitcher throws four consecutive intentional balls.  The other previous pitch type listed is a screwball, which is also an outlier given how few pitchers throw screwballs.\n",
    "\n",
    "The most significant trend that the classifier learned is that pitch numbers 2-10 of a batting count are indicative of non-fastballs.  This is consistent with what we discovered during exploratory data analysis, though we observed that the frequency of fastballs increased to above average from pitches 6-10.\n",
    "\n",
    "The classifier also assigned significance to batting counts with one or two strikes.  This is largely consistent with what we observed during exploratory data analysis.\n",
    "\n",
    "## Gradient Boosting Feature Importances"
   ]
  },
  {
   "cell_type": "code",
   "execution_count": 5,
   "metadata": {},
   "outputs": [
    {
     "data": {
      "text/html": [
       "<div>\n",
       "<style scoped>\n",
       "    .dataframe tbody tr th:only-of-type {\n",
       "        vertical-align: middle;\n",
       "    }\n",
       "\n",
       "    .dataframe tbody tr th {\n",
       "        vertical-align: top;\n",
       "    }\n",
       "\n",
       "    .dataframe thead th {\n",
       "        text-align: right;\n",
       "    }\n",
       "</style>\n",
       "<table border=\"1\" class=\"dataframe\">\n",
       "  <thead>\n",
       "    <tr style=\"text-align: right;\">\n",
       "      <th></th>\n",
       "      <th>coefficient</th>\n",
       "      <th>gbc_feature_importance</th>\n",
       "    </tr>\n",
       "  </thead>\n",
       "  <tbody>\n",
       "    <tr>\n",
       "      <th>prev_pitch_SI</th>\n",
       "      <td>0.231926</td>\n",
       "      <td>0.379442</td>\n",
       "    </tr>\n",
       "    <tr>\n",
       "      <th>prev_pitch_FF</th>\n",
       "      <td>2.742564</td>\n",
       "      <td>0.080825</td>\n",
       "    </tr>\n",
       "    <tr>\n",
       "      <th>b_count_3</th>\n",
       "      <td>0.724995</td>\n",
       "      <td>0.057462</td>\n",
       "    </tr>\n",
       "    <tr>\n",
       "      <th>s_count_2</th>\n",
       "      <td>-0.937326</td>\n",
       "      <td>0.054237</td>\n",
       "    </tr>\n",
       "    <tr>\n",
       "      <th>prev_pitch_FT</th>\n",
       "      <td>2.808360</td>\n",
       "      <td>0.043790</td>\n",
       "    </tr>\n",
       "    <tr>\n",
       "      <th>prev_pitch_FC</th>\n",
       "      <td>3.038671</td>\n",
       "      <td>0.037677</td>\n",
       "    </tr>\n",
       "    <tr>\n",
       "      <th>inning_pitch_count</th>\n",
       "      <td>-0.094548</td>\n",
       "      <td>0.029650</td>\n",
       "    </tr>\n",
       "    <tr>\n",
       "      <th>s_count_1</th>\n",
       "      <td>-0.600940</td>\n",
       "      <td>0.021992</td>\n",
       "    </tr>\n",
       "    <tr>\n",
       "      <th>b_count_1</th>\n",
       "      <td>-0.199580</td>\n",
       "      <td>0.020831</td>\n",
       "    </tr>\n",
       "    <tr>\n",
       "      <th>prev_pitch_KN</th>\n",
       "      <td>0.085609</td>\n",
       "      <td>0.019515</td>\n",
       "    </tr>\n",
       "    <tr>\n",
       "      <th>on_2b</th>\n",
       "      <td>-0.131415</td>\n",
       "      <td>0.015927</td>\n",
       "    </tr>\n",
       "    <tr>\n",
       "      <th>pitch_num_2</th>\n",
       "      <td>-2.442173</td>\n",
       "      <td>0.015921</td>\n",
       "    </tr>\n",
       "    <tr>\n",
       "      <th>prev_pitch_SL</th>\n",
       "      <td>2.232262</td>\n",
       "      <td>0.014552</td>\n",
       "    </tr>\n",
       "    <tr>\n",
       "      <th>b_count_2</th>\n",
       "      <td>0.051795</td>\n",
       "      <td>0.014136</td>\n",
       "    </tr>\n",
       "    <tr>\n",
       "      <th>prev_pitch_IN</th>\n",
       "      <td>-6.606109</td>\n",
       "      <td>0.012344</td>\n",
       "    </tr>\n",
       "  </tbody>\n",
       "</table>\n",
       "</div>"
      ],
      "text/plain": [
       "                    coefficient  gbc_feature_importance\n",
       "prev_pitch_SI          0.231926                0.379442\n",
       "prev_pitch_FF          2.742564                0.080825\n",
       "b_count_3              0.724995                0.057462\n",
       "s_count_2             -0.937326                0.054237\n",
       "prev_pitch_FT          2.808360                0.043790\n",
       "prev_pitch_FC          3.038671                0.037677\n",
       "inning_pitch_count    -0.094548                0.029650\n",
       "s_count_1             -0.600940                0.021992\n",
       "b_count_1             -0.199580                0.020831\n",
       "prev_pitch_KN          0.085609                0.019515\n",
       "on_2b                 -0.131415                0.015927\n",
       "pitch_num_2           -2.442173                0.015921\n",
       "prev_pitch_SL          2.232262                0.014552\n",
       "b_count_2              0.051795                0.014136\n",
       "prev_pitch_IN         -6.606109                0.012344"
      ]
     },
     "execution_count": 5,
     "metadata": {},
     "output_type": "execute_result"
    }
   ],
   "source": [
    "df_features = pd.read_csv('df_features.csv', index_col=0)\n",
    "df_features.sort_values('gbc_feature_importance', ascending=False)[:15]"
   ]
  },
  {
   "cell_type": "markdown",
   "metadata": {},
   "source": [
    "The feature importance values in the Gradient Boosting Classifier is an indication of how important each feature was in assisting the classifier in making the classification decision.  Unlike the Logistic Regression Classifier's coefficients, we are unable to know whether the feature is important in identifying fastballs or non-fastballs.  All that the number communicates is the relative overall importance of the feature.\n",
    "\n",
    "Here, we can see that the Gradient Boosting Classifier has determined the previous pitch slider feature as the most important feature by a significant margin.  It also has assigned relative importance to the three types of fastballs that make up our `fastball` label, which is consistent with what the Logistic Regression Classifier observed (indicative that the next pitch will also be a fastball).  In future work, I intend to investigate pitches following sliders to determine if the classifier is correct in assigning such a high level of importance to that feature.\n",
    "\n",
    "The model has also assigned relatively high importance to batting counts with 3 balls or 2 strikes.  This is consistent with what we observed during exploratory data analysis (3-ball counts are indicative of fastballs, 2-strike counts of non-fastballs).  It is less clear why it assigned relative importance to 1-ball, 1-strike, and 2-ball counts.  It may be worth experimenting in removing these features to see if that would improve the model's overall performance.\n",
    "\n",
    "The model also observed importance in the number of pitches thrown by the pitcher in the inning (it could be that more fastballs are thrown later in the inning to avoid walks) and runners on second base (indicative of non-fastballs).  It also applied some importance to the second pitch of an at-bat, which we observed during exploratory data analysis to be more likely to be a non-fastball."
   ]
  },
  {
   "cell_type": "code",
   "execution_count": 8,
   "metadata": {},
   "outputs": [
    {
     "data": {
      "text/html": [
       "<div>\n",
       "<style scoped>\n",
       "    .dataframe tbody tr th:only-of-type {\n",
       "        vertical-align: middle;\n",
       "    }\n",
       "\n",
       "    .dataframe tbody tr th {\n",
       "        vertical-align: top;\n",
       "    }\n",
       "\n",
       "    .dataframe thead th {\n",
       "        text-align: right;\n",
       "    }\n",
       "</style>\n",
       "<table border=\"1\" class=\"dataframe\">\n",
       "  <thead>\n",
       "    <tr style=\"text-align: right;\">\n",
       "      <th></th>\n",
       "      <th>coefficient</th>\n",
       "      <th>gbc_feature_importance</th>\n",
       "    </tr>\n",
       "  </thead>\n",
       "  <tbody>\n",
       "    <tr>\n",
       "      <th>prev_pitch_SC</th>\n",
       "      <td>-1.036591</td>\n",
       "      <td>0.000000</td>\n",
       "    </tr>\n",
       "    <tr>\n",
       "      <th>prev_pitch_PO</th>\n",
       "      <td>2.437529</td>\n",
       "      <td>0.000003</td>\n",
       "    </tr>\n",
       "    <tr>\n",
       "      <th>prev_pitch_FO</th>\n",
       "      <td>2.498353</td>\n",
       "      <td>0.000017</td>\n",
       "    </tr>\n",
       "    <tr>\n",
       "      <th>px_prev_(-3.467, -2.933]</th>\n",
       "      <td>0.035960</td>\n",
       "      <td>0.000018</td>\n",
       "    </tr>\n",
       "    <tr>\n",
       "      <th>prev_pitch_EP</th>\n",
       "      <td>1.916104</td>\n",
       "      <td>0.000086</td>\n",
       "    </tr>\n",
       "    <tr>\n",
       "      <th>pitch_num_10</th>\n",
       "      <td>-2.348446</td>\n",
       "      <td>0.000115</td>\n",
       "    </tr>\n",
       "    <tr>\n",
       "      <th>px_prev_(2.933, 3.467]</th>\n",
       "      <td>-0.236866</td>\n",
       "      <td>0.000131</td>\n",
       "    </tr>\n",
       "    <tr>\n",
       "      <th>pitcher_lead_-9</th>\n",
       "      <td>-0.005301</td>\n",
       "      <td>0.000145</td>\n",
       "    </tr>\n",
       "    <tr>\n",
       "      <th>px_prev_(-2.933, -2.4]</th>\n",
       "      <td>-0.000748</td>\n",
       "      <td>0.000150</td>\n",
       "    </tr>\n",
       "    <tr>\n",
       "      <th>pitcher_lead_-8</th>\n",
       "      <td>-0.033039</td>\n",
       "      <td>0.000271</td>\n",
       "    </tr>\n",
       "    <tr>\n",
       "      <th>px_prev_(2.4, 2.933]</th>\n",
       "      <td>-0.111568</td>\n",
       "      <td>0.000273</td>\n",
       "    </tr>\n",
       "    <tr>\n",
       "      <th>pitch_num_9</th>\n",
       "      <td>-2.365207</td>\n",
       "      <td>0.000290</td>\n",
       "    </tr>\n",
       "    <tr>\n",
       "      <th>pitcher_lead_9</th>\n",
       "      <td>0.117185</td>\n",
       "      <td>0.000291</td>\n",
       "    </tr>\n",
       "    <tr>\n",
       "      <th>pz_prev_(-0.6, -0.2]</th>\n",
       "      <td>0.260123</td>\n",
       "      <td>0.000291</td>\n",
       "    </tr>\n",
       "    <tr>\n",
       "      <th>pitcher_lead_-7</th>\n",
       "      <td>-0.004890</td>\n",
       "      <td>0.000308</td>\n",
       "    </tr>\n",
       "  </tbody>\n",
       "</table>\n",
       "</div>"
      ],
      "text/plain": [
       "                          coefficient  gbc_feature_importance\n",
       "prev_pitch_SC               -1.036591                0.000000\n",
       "prev_pitch_PO                2.437529                0.000003\n",
       "prev_pitch_FO                2.498353                0.000017\n",
       "px_prev_(-3.467, -2.933]     0.035960                0.000018\n",
       "prev_pitch_EP                1.916104                0.000086\n",
       "pitch_num_10                -2.348446                0.000115\n",
       "px_prev_(2.933, 3.467]      -0.236866                0.000131\n",
       "pitcher_lead_-9             -0.005301                0.000145\n",
       "px_prev_(-2.933, -2.4]      -0.000748                0.000150\n",
       "pitcher_lead_-8             -0.033039                0.000271\n",
       "px_prev_(2.4, 2.933]        -0.111568                0.000273\n",
       "pitch_num_9                 -2.365207                0.000290\n",
       "pitcher_lead_9               0.117185                0.000291\n",
       "pz_prev_(-0.6, -0.2]         0.260123                0.000291\n",
       "pitcher_lead_-7             -0.004890                0.000308"
      ]
     },
     "execution_count": 8,
     "metadata": {},
     "output_type": "execute_result"
    }
   ],
   "source": [
    "df_features = pd.read_csv('df_features.csv', index_col=0)\n",
    "df_features.sort_values('gbc_feature_importance')[:15]"
   ]
  },
  {
   "cell_type": "markdown",
   "metadata": {},
   "source": [
    "In analyzing the features that the Gradient Boosting Classifier assigned the least amount of importance, it becomes clear that most if not all of the features tend to be outlier values.  Among the features are previous pitch types that are rarely thrown (screwballs, pitchouts, eephus), game scores in which the pitcher's team is winning (or losing) by a wide margin, extreme previous pitch location values, and the last pitches of abnormally long at-bats (9 or greater).  It may make sense to consider dropping these outlier features in future iterations of this model, though I would not expect that to significantly impact the model's overall performance given the relative infrequency of these features in the dataset and the low importance the model assigns to them."
   ]
  },
  {
   "cell_type": "markdown",
   "metadata": {},
   "source": [
    "## Conclusions\n",
    "\n",
    "This project demonstrates that it is possible to analyze pre-pitch circumstances to predict whether a pitcher is going to throw a fastball as the next pitch at a higher accuracy rate than the default frequency percentage of 52.41%.  It is important to note that the models struggled to outperform the default rate without information regarding the previous pitch despite observing correlations between fastball frequency and certain of these circumstances (runners on base, batting count, pitch sequence, game score, etc.).  It is interesting to note that, while correlations between certain game circumstances and fastball frequency do exist, the same overall game circumstances did not significantly improve the algorithms' ability to predict fastballs when considering all of that data in the aggregate.\n",
    "\n",
    "Once we included information about the pitcher's inning pitch count, the immediate previous pitch type thrown, and the location of the immediate previous pitch, the models' respective accuracy improved significantly by approximately 5-8%.  Teams therefore should be able to use one of the final models to correctly identify when a pitcher will throw a fastball or non-fastball more often than competitors not using such a model.\n",
    "\n",
    "The Gradient Boosting Classifier should be used for most circumstances given its overall superior performance.  As explained in detail above, the Gradient Boosting Classifier performed substantially better in identifying non-fastballs and generated higher accuracy numbers on most of the model features.  It also appears to have more potential to improve through future work.\n",
    "\n",
    "That being said, a user should consider using the Logistic Regresion Classifier under circumstances in which the user is concerned only (or primarily) with identifying when a fastball will be thrown and is less concerned about mis-identifying non-fastballs as fastballs."
   ]
  },
  {
   "cell_type": "markdown",
   "metadata": {},
   "source": [
    "## Future Work for Potential Model Improvements\n",
    "\n",
    "I believe that I potentially could improve the performance of the final models generated by this project with some additional work.  The main hurdles that I encountered with this project were the large size the data (over 2.8 million pitches) and the limited computational power and time available.  With more time and access to more computational power, I think the models could potentially be improved through exploration of one or more of the following:\n",
    "\n",
    "\n",
    "-  **Adding more previous pitch data as additional features.**  I was only able to add certain previous pitch features to the dataset given how much time/computational power it took to build them.  If I had more time and computational power, I would suggest adding the other previous pitch data available for the immediate previous pitch (pitch speed, break length, spin rate, etc.).  I also would suggest adding the same information for each previous pitch for an entire at-bat (rather than only the data from the immediate previous pitch).  I believe this has the potential to improve the model performance given how significantly the previous pitch features improved my model in this project;\n",
    "\n",
    "\n",
    "-  **Adding interaction terms using `PolynomialFeatures`.**  My exploratory data analysis demonstrated some correlations between certain pre-pitch game circumstances and a pitcher's fastball usage (e.g., runners in scoring position, whether the pitcher is ahead or behind in the count, whether the pitcher's team is winning or losing, etc.).  However, the models were unable to capture much (if any) significance of these circumstances when making fastball predictions in the aggregate.  Adding interaction terms would potentially allow the models to more accurately identify the significance of two (or more) of these circumstances being present at the same time.  I was unable to incorporate this step given my time and computing power limitations, but in future work I would like to explore whether interaction terms would improve the models;\n",
    "\n",
    "\n",
    "-  **Removing certain existing features.**  As explained above, I would like to do some further feature-specific analysis/testing to determine whether the models may perform better without inclusion of certain features.  In particular, the models appeared to be quite sensitive to the previous pitch features that I added.  By comparing the feature coefficient/importance values against one another and to the observations made during my exploratory data analysis, I think I may be able to identify some features that are not improving model performance.  Removing some features would reduce the size of the dataset and make it more manageable to analyze; and\n",
    "\n",
    "\n",
    "-  **Tuning the hyperparameters with a larger portion of the data.**  I only used approximately 5% of the data to tune my model hyperparameters given my time and computational power constraints. Tuning the models on the smaller data sample did not meaningfully improve their performance. Tuning the models on a greater percentage of the data potentially could produce different optimal hyperparameter values for the models, though not likely unless the 5% sample of my data happened to be a poor representative of the entire dataset.  I would like to perform this exercise to confirm that I identified the optimal hyperparameters for my models.\n"
   ]
  },
  {
   "cell_type": "code",
   "execution_count": null,
   "metadata": {},
   "outputs": [],
   "source": []
  }
 ],
 "metadata": {
  "kernelspec": {
   "display_name": "Python 3",
   "language": "python",
   "name": "python3"
  },
  "language_info": {
   "codemirror_mode": {
    "name": "ipython",
    "version": 3
   },
   "file_extension": ".py",
   "mimetype": "text/x-python",
   "name": "python",
   "nbconvert_exporter": "python",
   "pygments_lexer": "ipython3",
   "version": "3.7.4"
  }
 },
 "nbformat": 4,
 "nbformat_minor": 2
}
